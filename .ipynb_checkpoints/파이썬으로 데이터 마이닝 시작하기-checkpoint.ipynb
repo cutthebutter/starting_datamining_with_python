{
 "cells": [
  {
   "cell_type": "markdown",
   "id": "a0309671",
   "metadata": {},
   "source": [
    "# 2장 : 기본 용어와 종합적 사례\n",
    "## 데이터 불러오기"
   ]
  },
  {
   "cell_type": "code",
   "execution_count": 1,
   "id": "719888a6",
   "metadata": {},
   "outputs": [],
   "source": [
    "#데이터 불러오기\n",
    "from sklearn.datasets import load_iris\n",
    "import numpy as np\n",
    "import pandas as pd\n",
    "Iris = load_iris()"
   ]
  },
  {
   "cell_type": "code",
   "execution_count": 2,
   "id": "d2abe6ae",
   "metadata": {},
   "outputs": [
    {
     "data": {
      "text/plain": [
       "{'data': array([[5.1, 3.5, 1.4, 0.2],\n",
       "        [4.9, 3. , 1.4, 0.2],\n",
       "        [4.7, 3.2, 1.3, 0.2],\n",
       "        [4.6, 3.1, 1.5, 0.2],\n",
       "        [5. , 3.6, 1.4, 0.2],\n",
       "        [5.4, 3.9, 1.7, 0.4],\n",
       "        [4.6, 3.4, 1.4, 0.3],\n",
       "        [5. , 3.4, 1.5, 0.2],\n",
       "        [4.4, 2.9, 1.4, 0.2],\n",
       "        [4.9, 3.1, 1.5, 0.1],\n",
       "        [5.4, 3.7, 1.5, 0.2],\n",
       "        [4.8, 3.4, 1.6, 0.2],\n",
       "        [4.8, 3. , 1.4, 0.1],\n",
       "        [4.3, 3. , 1.1, 0.1],\n",
       "        [5.8, 4. , 1.2, 0.2],\n",
       "        [5.7, 4.4, 1.5, 0.4],\n",
       "        [5.4, 3.9, 1.3, 0.4],\n",
       "        [5.1, 3.5, 1.4, 0.3],\n",
       "        [5.7, 3.8, 1.7, 0.3],\n",
       "        [5.1, 3.8, 1.5, 0.3],\n",
       "        [5.4, 3.4, 1.7, 0.2],\n",
       "        [5.1, 3.7, 1.5, 0.4],\n",
       "        [4.6, 3.6, 1. , 0.2],\n",
       "        [5.1, 3.3, 1.7, 0.5],\n",
       "        [4.8, 3.4, 1.9, 0.2],\n",
       "        [5. , 3. , 1.6, 0.2],\n",
       "        [5. , 3.4, 1.6, 0.4],\n",
       "        [5.2, 3.5, 1.5, 0.2],\n",
       "        [5.2, 3.4, 1.4, 0.2],\n",
       "        [4.7, 3.2, 1.6, 0.2],\n",
       "        [4.8, 3.1, 1.6, 0.2],\n",
       "        [5.4, 3.4, 1.5, 0.4],\n",
       "        [5.2, 4.1, 1.5, 0.1],\n",
       "        [5.5, 4.2, 1.4, 0.2],\n",
       "        [4.9, 3.1, 1.5, 0.2],\n",
       "        [5. , 3.2, 1.2, 0.2],\n",
       "        [5.5, 3.5, 1.3, 0.2],\n",
       "        [4.9, 3.6, 1.4, 0.1],\n",
       "        [4.4, 3. , 1.3, 0.2],\n",
       "        [5.1, 3.4, 1.5, 0.2],\n",
       "        [5. , 3.5, 1.3, 0.3],\n",
       "        [4.5, 2.3, 1.3, 0.3],\n",
       "        [4.4, 3.2, 1.3, 0.2],\n",
       "        [5. , 3.5, 1.6, 0.6],\n",
       "        [5.1, 3.8, 1.9, 0.4],\n",
       "        [4.8, 3. , 1.4, 0.3],\n",
       "        [5.1, 3.8, 1.6, 0.2],\n",
       "        [4.6, 3.2, 1.4, 0.2],\n",
       "        [5.3, 3.7, 1.5, 0.2],\n",
       "        [5. , 3.3, 1.4, 0.2],\n",
       "        [7. , 3.2, 4.7, 1.4],\n",
       "        [6.4, 3.2, 4.5, 1.5],\n",
       "        [6.9, 3.1, 4.9, 1.5],\n",
       "        [5.5, 2.3, 4. , 1.3],\n",
       "        [6.5, 2.8, 4.6, 1.5],\n",
       "        [5.7, 2.8, 4.5, 1.3],\n",
       "        [6.3, 3.3, 4.7, 1.6],\n",
       "        [4.9, 2.4, 3.3, 1. ],\n",
       "        [6.6, 2.9, 4.6, 1.3],\n",
       "        [5.2, 2.7, 3.9, 1.4],\n",
       "        [5. , 2. , 3.5, 1. ],\n",
       "        [5.9, 3. , 4.2, 1.5],\n",
       "        [6. , 2.2, 4. , 1. ],\n",
       "        [6.1, 2.9, 4.7, 1.4],\n",
       "        [5.6, 2.9, 3.6, 1.3],\n",
       "        [6.7, 3.1, 4.4, 1.4],\n",
       "        [5.6, 3. , 4.5, 1.5],\n",
       "        [5.8, 2.7, 4.1, 1. ],\n",
       "        [6.2, 2.2, 4.5, 1.5],\n",
       "        [5.6, 2.5, 3.9, 1.1],\n",
       "        [5.9, 3.2, 4.8, 1.8],\n",
       "        [6.1, 2.8, 4. , 1.3],\n",
       "        [6.3, 2.5, 4.9, 1.5],\n",
       "        [6.1, 2.8, 4.7, 1.2],\n",
       "        [6.4, 2.9, 4.3, 1.3],\n",
       "        [6.6, 3. , 4.4, 1.4],\n",
       "        [6.8, 2.8, 4.8, 1.4],\n",
       "        [6.7, 3. , 5. , 1.7],\n",
       "        [6. , 2.9, 4.5, 1.5],\n",
       "        [5.7, 2.6, 3.5, 1. ],\n",
       "        [5.5, 2.4, 3.8, 1.1],\n",
       "        [5.5, 2.4, 3.7, 1. ],\n",
       "        [5.8, 2.7, 3.9, 1.2],\n",
       "        [6. , 2.7, 5.1, 1.6],\n",
       "        [5.4, 3. , 4.5, 1.5],\n",
       "        [6. , 3.4, 4.5, 1.6],\n",
       "        [6.7, 3.1, 4.7, 1.5],\n",
       "        [6.3, 2.3, 4.4, 1.3],\n",
       "        [5.6, 3. , 4.1, 1.3],\n",
       "        [5.5, 2.5, 4. , 1.3],\n",
       "        [5.5, 2.6, 4.4, 1.2],\n",
       "        [6.1, 3. , 4.6, 1.4],\n",
       "        [5.8, 2.6, 4. , 1.2],\n",
       "        [5. , 2.3, 3.3, 1. ],\n",
       "        [5.6, 2.7, 4.2, 1.3],\n",
       "        [5.7, 3. , 4.2, 1.2],\n",
       "        [5.7, 2.9, 4.2, 1.3],\n",
       "        [6.2, 2.9, 4.3, 1.3],\n",
       "        [5.1, 2.5, 3. , 1.1],\n",
       "        [5.7, 2.8, 4.1, 1.3],\n",
       "        [6.3, 3.3, 6. , 2.5],\n",
       "        [5.8, 2.7, 5.1, 1.9],\n",
       "        [7.1, 3. , 5.9, 2.1],\n",
       "        [6.3, 2.9, 5.6, 1.8],\n",
       "        [6.5, 3. , 5.8, 2.2],\n",
       "        [7.6, 3. , 6.6, 2.1],\n",
       "        [4.9, 2.5, 4.5, 1.7],\n",
       "        [7.3, 2.9, 6.3, 1.8],\n",
       "        [6.7, 2.5, 5.8, 1.8],\n",
       "        [7.2, 3.6, 6.1, 2.5],\n",
       "        [6.5, 3.2, 5.1, 2. ],\n",
       "        [6.4, 2.7, 5.3, 1.9],\n",
       "        [6.8, 3. , 5.5, 2.1],\n",
       "        [5.7, 2.5, 5. , 2. ],\n",
       "        [5.8, 2.8, 5.1, 2.4],\n",
       "        [6.4, 3.2, 5.3, 2.3],\n",
       "        [6.5, 3. , 5.5, 1.8],\n",
       "        [7.7, 3.8, 6.7, 2.2],\n",
       "        [7.7, 2.6, 6.9, 2.3],\n",
       "        [6. , 2.2, 5. , 1.5],\n",
       "        [6.9, 3.2, 5.7, 2.3],\n",
       "        [5.6, 2.8, 4.9, 2. ],\n",
       "        [7.7, 2.8, 6.7, 2. ],\n",
       "        [6.3, 2.7, 4.9, 1.8],\n",
       "        [6.7, 3.3, 5.7, 2.1],\n",
       "        [7.2, 3.2, 6. , 1.8],\n",
       "        [6.2, 2.8, 4.8, 1.8],\n",
       "        [6.1, 3. , 4.9, 1.8],\n",
       "        [6.4, 2.8, 5.6, 2.1],\n",
       "        [7.2, 3. , 5.8, 1.6],\n",
       "        [7.4, 2.8, 6.1, 1.9],\n",
       "        [7.9, 3.8, 6.4, 2. ],\n",
       "        [6.4, 2.8, 5.6, 2.2],\n",
       "        [6.3, 2.8, 5.1, 1.5],\n",
       "        [6.1, 2.6, 5.6, 1.4],\n",
       "        [7.7, 3. , 6.1, 2.3],\n",
       "        [6.3, 3.4, 5.6, 2.4],\n",
       "        [6.4, 3.1, 5.5, 1.8],\n",
       "        [6. , 3. , 4.8, 1.8],\n",
       "        [6.9, 3.1, 5.4, 2.1],\n",
       "        [6.7, 3.1, 5.6, 2.4],\n",
       "        [6.9, 3.1, 5.1, 2.3],\n",
       "        [5.8, 2.7, 5.1, 1.9],\n",
       "        [6.8, 3.2, 5.9, 2.3],\n",
       "        [6.7, 3.3, 5.7, 2.5],\n",
       "        [6.7, 3. , 5.2, 2.3],\n",
       "        [6.3, 2.5, 5. , 1.9],\n",
       "        [6.5, 3. , 5.2, 2. ],\n",
       "        [6.2, 3.4, 5.4, 2.3],\n",
       "        [5.9, 3. , 5.1, 1.8]]),\n",
       " 'target': array([0, 0, 0, 0, 0, 0, 0, 0, 0, 0, 0, 0, 0, 0, 0, 0, 0, 0, 0, 0, 0, 0,\n",
       "        0, 0, 0, 0, 0, 0, 0, 0, 0, 0, 0, 0, 0, 0, 0, 0, 0, 0, 0, 0, 0, 0,\n",
       "        0, 0, 0, 0, 0, 0, 1, 1, 1, 1, 1, 1, 1, 1, 1, 1, 1, 1, 1, 1, 1, 1,\n",
       "        1, 1, 1, 1, 1, 1, 1, 1, 1, 1, 1, 1, 1, 1, 1, 1, 1, 1, 1, 1, 1, 1,\n",
       "        1, 1, 1, 1, 1, 1, 1, 1, 1, 1, 1, 1, 2, 2, 2, 2, 2, 2, 2, 2, 2, 2,\n",
       "        2, 2, 2, 2, 2, 2, 2, 2, 2, 2, 2, 2, 2, 2, 2, 2, 2, 2, 2, 2, 2, 2,\n",
       "        2, 2, 2, 2, 2, 2, 2, 2, 2, 2, 2, 2, 2, 2, 2, 2, 2, 2]),\n",
       " 'frame': None,\n",
       " 'target_names': array(['setosa', 'versicolor', 'virginica'], dtype='<U10'),\n",
       " 'DESCR': '.. _iris_dataset:\\n\\nIris plants dataset\\n--------------------\\n\\n**Data Set Characteristics:**\\n\\n    :Number of Instances: 150 (50 in each of three classes)\\n    :Number of Attributes: 4 numeric, predictive attributes and the class\\n    :Attribute Information:\\n        - sepal length in cm\\n        - sepal width in cm\\n        - petal length in cm\\n        - petal width in cm\\n        - class:\\n                - Iris-Setosa\\n                - Iris-Versicolour\\n                - Iris-Virginica\\n                \\n    :Summary Statistics:\\n\\n    ============== ==== ==== ======= ===== ====================\\n                    Min  Max   Mean    SD   Class Correlation\\n    ============== ==== ==== ======= ===== ====================\\n    sepal length:   4.3  7.9   5.84   0.83    0.7826\\n    sepal width:    2.0  4.4   3.05   0.43   -0.4194\\n    petal length:   1.0  6.9   3.76   1.76    0.9490  (high!)\\n    petal width:    0.1  2.5   1.20   0.76    0.9565  (high!)\\n    ============== ==== ==== ======= ===== ====================\\n\\n    :Missing Attribute Values: None\\n    :Class Distribution: 33.3% for each of 3 classes.\\n    :Creator: R.A. Fisher\\n    :Donor: Michael Marshall (MARSHALL%PLU@io.arc.nasa.gov)\\n    :Date: July, 1988\\n\\nThe famous Iris database, first used by Sir R.A. Fisher. The dataset is taken\\nfrom Fisher\\'s paper. Note that it\\'s the same as in R, but not as in the UCI\\nMachine Learning Repository, which has two wrong data points.\\n\\nThis is perhaps the best known database to be found in the\\npattern recognition literature.  Fisher\\'s paper is a classic in the field and\\nis referenced frequently to this day.  (See Duda & Hart, for example.)  The\\ndata set contains 3 classes of 50 instances each, where each class refers to a\\ntype of iris plant.  One class is linearly separable from the other 2; the\\nlatter are NOT linearly separable from each other.\\n\\n.. topic:: References\\n\\n   - Fisher, R.A. \"The use of multiple measurements in taxonomic problems\"\\n     Annual Eugenics, 7, Part II, 179-188 (1936); also in \"Contributions to\\n     Mathematical Statistics\" (John Wiley, NY, 1950).\\n   - Duda, R.O., & Hart, P.E. (1973) Pattern Classification and Scene Analysis.\\n     (Q327.D83) John Wiley & Sons.  ISBN 0-471-22361-1.  See page 218.\\n   - Dasarathy, B.V. (1980) \"Nosing Around the Neighborhood: A New System\\n     Structure and Classification Rule for Recognition in Partially Exposed\\n     Environments\".  IEEE Transactions on Pattern Analysis and Machine\\n     Intelligence, Vol. PAMI-2, No. 1, 67-71.\\n   - Gates, G.W. (1972) \"The Reduced Nearest Neighbor Rule\".  IEEE Transactions\\n     on Information Theory, May 1972, 431-433.\\n   - See also: 1988 MLC Proceedings, 54-64.  Cheeseman et al\"s AUTOCLASS II\\n     conceptual clustering system finds 3 classes in the data.\\n   - Many, many more ...',\n",
       " 'feature_names': ['sepal length (cm)',\n",
       "  'sepal width (cm)',\n",
       "  'petal length (cm)',\n",
       "  'petal width (cm)'],\n",
       " 'filename': '/Users/semini/opt/anaconda3/lib/python3.8/site-packages/sklearn/datasets/data/iris.csv'}"
      ]
     },
     "execution_count": 2,
     "metadata": {},
     "output_type": "execute_result"
    }
   ],
   "source": [
    "Iris"
   ]
  },
  {
   "cell_type": "code",
   "execution_count": 3,
   "id": "1adcda04",
   "metadata": {},
   "outputs": [],
   "source": [
    "df = pd.DataFrame(data=np.c_[Iris['data'], Iris['target']], columns = Iris['feature_names']+['target'])\n",
    "df['target']=df['target'].map({0:'setosa', 1: 'versicolor', 2 :\"virginica\"})\n",
    "X_Data = df.iloc[:, :-1]\n",
    "Y_Data = df.iloc[:,[-1]]"
   ]
  },
  {
   "cell_type": "code",
   "execution_count": 4,
   "id": "3cc2582d",
   "metadata": {},
   "outputs": [
    {
     "data": {
      "text/html": [
       "<div>\n",
       "<style scoped>\n",
       "    .dataframe tbody tr th:only-of-type {\n",
       "        vertical-align: middle;\n",
       "    }\n",
       "\n",
       "    .dataframe tbody tr th {\n",
       "        vertical-align: top;\n",
       "    }\n",
       "\n",
       "    .dataframe thead th {\n",
       "        text-align: right;\n",
       "    }\n",
       "</style>\n",
       "<table border=\"1\" class=\"dataframe\">\n",
       "  <thead>\n",
       "    <tr style=\"text-align: right;\">\n",
       "      <th></th>\n",
       "      <th>sepal length (cm)</th>\n",
       "      <th>sepal width (cm)</th>\n",
       "      <th>petal length (cm)</th>\n",
       "      <th>petal width (cm)</th>\n",
       "      <th>target</th>\n",
       "    </tr>\n",
       "  </thead>\n",
       "  <tbody>\n",
       "    <tr>\n",
       "      <th>0</th>\n",
       "      <td>5.1</td>\n",
       "      <td>3.5</td>\n",
       "      <td>1.4</td>\n",
       "      <td>0.2</td>\n",
       "      <td>setosa</td>\n",
       "    </tr>\n",
       "    <tr>\n",
       "      <th>1</th>\n",
       "      <td>4.9</td>\n",
       "      <td>3.0</td>\n",
       "      <td>1.4</td>\n",
       "      <td>0.2</td>\n",
       "      <td>setosa</td>\n",
       "    </tr>\n",
       "    <tr>\n",
       "      <th>2</th>\n",
       "      <td>4.7</td>\n",
       "      <td>3.2</td>\n",
       "      <td>1.3</td>\n",
       "      <td>0.2</td>\n",
       "      <td>setosa</td>\n",
       "    </tr>\n",
       "    <tr>\n",
       "      <th>3</th>\n",
       "      <td>4.6</td>\n",
       "      <td>3.1</td>\n",
       "      <td>1.5</td>\n",
       "      <td>0.2</td>\n",
       "      <td>setosa</td>\n",
       "    </tr>\n",
       "    <tr>\n",
       "      <th>4</th>\n",
       "      <td>5.0</td>\n",
       "      <td>3.6</td>\n",
       "      <td>1.4</td>\n",
       "      <td>0.2</td>\n",
       "      <td>setosa</td>\n",
       "    </tr>\n",
       "  </tbody>\n",
       "</table>\n",
       "</div>"
      ],
      "text/plain": [
       "   sepal length (cm)  sepal width (cm)  petal length (cm)  petal width (cm)  \\\n",
       "0                5.1               3.5                1.4               0.2   \n",
       "1                4.9               3.0                1.4               0.2   \n",
       "2                4.7               3.2                1.3               0.2   \n",
       "3                4.6               3.1                1.5               0.2   \n",
       "4                5.0               3.6                1.4               0.2   \n",
       "\n",
       "   target  \n",
       "0  setosa  \n",
       "1  setosa  \n",
       "2  setosa  \n",
       "3  setosa  \n",
       "4  setosa  "
      ]
     },
     "execution_count": 4,
     "metadata": {},
     "output_type": "execute_result"
    }
   ],
   "source": [
    "df.head()"
   ]
  },
  {
   "cell_type": "code",
   "execution_count": 5,
   "id": "c2d8ec5a",
   "metadata": {},
   "outputs": [
    {
     "data": {
      "text/html": [
       "<div>\n",
       "<style scoped>\n",
       "    .dataframe tbody tr th:only-of-type {\n",
       "        vertical-align: middle;\n",
       "    }\n",
       "\n",
       "    .dataframe tbody tr th {\n",
       "        vertical-align: top;\n",
       "    }\n",
       "\n",
       "    .dataframe thead th {\n",
       "        text-align: right;\n",
       "    }\n",
       "</style>\n",
       "<table border=\"1\" class=\"dataframe\">\n",
       "  <thead>\n",
       "    <tr style=\"text-align: right;\">\n",
       "      <th></th>\n",
       "      <th>sepal length (cm)</th>\n",
       "      <th>sepal width (cm)</th>\n",
       "      <th>petal length (cm)</th>\n",
       "      <th>petal width (cm)</th>\n",
       "      <th>target</th>\n",
       "    </tr>\n",
       "  </thead>\n",
       "  <tbody>\n",
       "    <tr>\n",
       "      <th>145</th>\n",
       "      <td>6.7</td>\n",
       "      <td>3.0</td>\n",
       "      <td>5.2</td>\n",
       "      <td>2.3</td>\n",
       "      <td>virginica</td>\n",
       "    </tr>\n",
       "    <tr>\n",
       "      <th>146</th>\n",
       "      <td>6.3</td>\n",
       "      <td>2.5</td>\n",
       "      <td>5.0</td>\n",
       "      <td>1.9</td>\n",
       "      <td>virginica</td>\n",
       "    </tr>\n",
       "    <tr>\n",
       "      <th>147</th>\n",
       "      <td>6.5</td>\n",
       "      <td>3.0</td>\n",
       "      <td>5.2</td>\n",
       "      <td>2.0</td>\n",
       "      <td>virginica</td>\n",
       "    </tr>\n",
       "    <tr>\n",
       "      <th>148</th>\n",
       "      <td>6.2</td>\n",
       "      <td>3.4</td>\n",
       "      <td>5.4</td>\n",
       "      <td>2.3</td>\n",
       "      <td>virginica</td>\n",
       "    </tr>\n",
       "    <tr>\n",
       "      <th>149</th>\n",
       "      <td>5.9</td>\n",
       "      <td>3.0</td>\n",
       "      <td>5.1</td>\n",
       "      <td>1.8</td>\n",
       "      <td>virginica</td>\n",
       "    </tr>\n",
       "  </tbody>\n",
       "</table>\n",
       "</div>"
      ],
      "text/plain": [
       "     sepal length (cm)  sepal width (cm)  petal length (cm)  petal width (cm)  \\\n",
       "145                6.7               3.0                5.2               2.3   \n",
       "146                6.3               2.5                5.0               1.9   \n",
       "147                6.5               3.0                5.2               2.0   \n",
       "148                6.2               3.4                5.4               2.3   \n",
       "149                5.9               3.0                5.1               1.8   \n",
       "\n",
       "        target  \n",
       "145  virginica  \n",
       "146  virginica  \n",
       "147  virginica  \n",
       "148  virginica  \n",
       "149  virginica  "
      ]
     },
     "execution_count": 5,
     "metadata": {},
     "output_type": "execute_result"
    }
   ],
   "source": [
    "df.tail()"
   ]
  },
  {
   "cell_type": "code",
   "execution_count": 6,
   "id": "751d18d5",
   "metadata": {},
   "outputs": [
    {
     "data": {
      "text/html": [
       "<div>\n",
       "<style scoped>\n",
       "    .dataframe tbody tr th:only-of-type {\n",
       "        vertical-align: middle;\n",
       "    }\n",
       "\n",
       "    .dataframe tbody tr th {\n",
       "        vertical-align: top;\n",
       "    }\n",
       "\n",
       "    .dataframe thead th {\n",
       "        text-align: right;\n",
       "    }\n",
       "</style>\n",
       "<table border=\"1\" class=\"dataframe\">\n",
       "  <thead>\n",
       "    <tr style=\"text-align: right;\">\n",
       "      <th></th>\n",
       "      <th>sepal length (cm)</th>\n",
       "      <th>sepal width (cm)</th>\n",
       "      <th>petal length (cm)</th>\n",
       "      <th>petal width (cm)</th>\n",
       "      <th>target</th>\n",
       "    </tr>\n",
       "  </thead>\n",
       "  <tbody>\n",
       "    <tr>\n",
       "      <th>72</th>\n",
       "      <td>6.3</td>\n",
       "      <td>2.5</td>\n",
       "      <td>4.9</td>\n",
       "      <td>1.5</td>\n",
       "      <td>versicolor</td>\n",
       "    </tr>\n",
       "    <tr>\n",
       "      <th>66</th>\n",
       "      <td>5.6</td>\n",
       "      <td>3.0</td>\n",
       "      <td>4.5</td>\n",
       "      <td>1.5</td>\n",
       "      <td>versicolor</td>\n",
       "    </tr>\n",
       "    <tr>\n",
       "      <th>69</th>\n",
       "      <td>5.6</td>\n",
       "      <td>2.5</td>\n",
       "      <td>3.9</td>\n",
       "      <td>1.1</td>\n",
       "      <td>versicolor</td>\n",
       "    </tr>\n",
       "    <tr>\n",
       "      <th>79</th>\n",
       "      <td>5.7</td>\n",
       "      <td>2.6</td>\n",
       "      <td>3.5</td>\n",
       "      <td>1.0</td>\n",
       "      <td>versicolor</td>\n",
       "    </tr>\n",
       "    <tr>\n",
       "      <th>136</th>\n",
       "      <td>6.3</td>\n",
       "      <td>3.4</td>\n",
       "      <td>5.6</td>\n",
       "      <td>2.4</td>\n",
       "      <td>virginica</td>\n",
       "    </tr>\n",
       "  </tbody>\n",
       "</table>\n",
       "</div>"
      ],
      "text/plain": [
       "     sepal length (cm)  sepal width (cm)  petal length (cm)  petal width (cm)  \\\n",
       "72                 6.3               2.5                4.9               1.5   \n",
       "66                 5.6               3.0                4.5               1.5   \n",
       "69                 5.6               2.5                3.9               1.1   \n",
       "79                 5.7               2.6                3.5               1.0   \n",
       "136                6.3               3.4                5.6               2.4   \n",
       "\n",
       "         target  \n",
       "72   versicolor  \n",
       "66   versicolor  \n",
       "69   versicolor  \n",
       "79   versicolor  \n",
       "136   virginica  "
      ]
     },
     "execution_count": 6,
     "metadata": {},
     "output_type": "execute_result"
    }
   ],
   "source": [
    "df.sample(5)"
   ]
  },
  {
   "cell_type": "code",
   "execution_count": 7,
   "id": "fcc89534",
   "metadata": {},
   "outputs": [
    {
     "data": {
      "text/html": [
       "<div>\n",
       "<style scoped>\n",
       "    .dataframe tbody tr th:only-of-type {\n",
       "        vertical-align: middle;\n",
       "    }\n",
       "\n",
       "    .dataframe tbody tr th {\n",
       "        vertical-align: top;\n",
       "    }\n",
       "\n",
       "    .dataframe thead th {\n",
       "        text-align: right;\n",
       "    }\n",
       "</style>\n",
       "<table border=\"1\" class=\"dataframe\">\n",
       "  <thead>\n",
       "    <tr style=\"text-align: right;\">\n",
       "      <th></th>\n",
       "      <th>sepal length (cm)</th>\n",
       "      <th>sepal width (cm)</th>\n",
       "      <th>petal length (cm)</th>\n",
       "      <th>petal width (cm)</th>\n",
       "    </tr>\n",
       "  </thead>\n",
       "  <tbody>\n",
       "    <tr>\n",
       "      <th>0</th>\n",
       "      <td>5.1</td>\n",
       "      <td>3.5</td>\n",
       "      <td>1.4</td>\n",
       "      <td>0.2</td>\n",
       "    </tr>\n",
       "    <tr>\n",
       "      <th>1</th>\n",
       "      <td>4.9</td>\n",
       "      <td>3.0</td>\n",
       "      <td>1.4</td>\n",
       "      <td>0.2</td>\n",
       "    </tr>\n",
       "    <tr>\n",
       "      <th>2</th>\n",
       "      <td>4.7</td>\n",
       "      <td>3.2</td>\n",
       "      <td>1.3</td>\n",
       "      <td>0.2</td>\n",
       "    </tr>\n",
       "    <tr>\n",
       "      <th>3</th>\n",
       "      <td>4.6</td>\n",
       "      <td>3.1</td>\n",
       "      <td>1.5</td>\n",
       "      <td>0.2</td>\n",
       "    </tr>\n",
       "    <tr>\n",
       "      <th>4</th>\n",
       "      <td>5.0</td>\n",
       "      <td>3.6</td>\n",
       "      <td>1.4</td>\n",
       "      <td>0.2</td>\n",
       "    </tr>\n",
       "  </tbody>\n",
       "</table>\n",
       "</div>"
      ],
      "text/plain": [
       "   sepal length (cm)  sepal width (cm)  petal length (cm)  petal width (cm)\n",
       "0                5.1               3.5                1.4               0.2\n",
       "1                4.9               3.0                1.4               0.2\n",
       "2                4.7               3.2                1.3               0.2\n",
       "3                4.6               3.1                1.5               0.2\n",
       "4                5.0               3.6                1.4               0.2"
      ]
     },
     "execution_count": 7,
     "metadata": {},
     "output_type": "execute_result"
    }
   ],
   "source": [
    "X_Data.head()"
   ]
  },
  {
   "cell_type": "code",
   "execution_count": 8,
   "id": "bf555cb6",
   "metadata": {},
   "outputs": [
    {
     "data": {
      "text/html": [
       "<div>\n",
       "<style scoped>\n",
       "    .dataframe tbody tr th:only-of-type {\n",
       "        vertical-align: middle;\n",
       "    }\n",
       "\n",
       "    .dataframe tbody tr th {\n",
       "        vertical-align: top;\n",
       "    }\n",
       "\n",
       "    .dataframe thead th {\n",
       "        text-align: right;\n",
       "    }\n",
       "</style>\n",
       "<table border=\"1\" class=\"dataframe\">\n",
       "  <thead>\n",
       "    <tr style=\"text-align: right;\">\n",
       "      <th></th>\n",
       "      <th>target</th>\n",
       "    </tr>\n",
       "  </thead>\n",
       "  <tbody>\n",
       "    <tr>\n",
       "      <th>0</th>\n",
       "      <td>setosa</td>\n",
       "    </tr>\n",
       "    <tr>\n",
       "      <th>1</th>\n",
       "      <td>setosa</td>\n",
       "    </tr>\n",
       "    <tr>\n",
       "      <th>2</th>\n",
       "      <td>setosa</td>\n",
       "    </tr>\n",
       "    <tr>\n",
       "      <th>3</th>\n",
       "      <td>setosa</td>\n",
       "    </tr>\n",
       "    <tr>\n",
       "      <th>4</th>\n",
       "      <td>setosa</td>\n",
       "    </tr>\n",
       "  </tbody>\n",
       "</table>\n",
       "</div>"
      ],
      "text/plain": [
       "   target\n",
       "0  setosa\n",
       "1  setosa\n",
       "2  setosa\n",
       "3  setosa\n",
       "4  setosa"
      ]
     },
     "execution_count": 8,
     "metadata": {},
     "output_type": "execute_result"
    }
   ],
   "source": [
    "Y_Data.head()"
   ]
  },
  {
   "cell_type": "code",
   "execution_count": 9,
   "id": "8821fe0a",
   "metadata": {},
   "outputs": [
    {
     "data": {
      "text/html": [
       "<div>\n",
       "<style scoped>\n",
       "    .dataframe tbody tr th:only-of-type {\n",
       "        vertical-align: middle;\n",
       "    }\n",
       "\n",
       "    .dataframe tbody tr th {\n",
       "        vertical-align: top;\n",
       "    }\n",
       "\n",
       "    .dataframe thead th {\n",
       "        text-align: right;\n",
       "    }\n",
       "</style>\n",
       "<table border=\"1\" class=\"dataframe\">\n",
       "  <thead>\n",
       "    <tr style=\"text-align: right;\">\n",
       "      <th></th>\n",
       "      <th>sepal length (cm)</th>\n",
       "      <th>sepal width (cm)</th>\n",
       "      <th>petal length (cm)</th>\n",
       "      <th>petal width (cm)</th>\n",
       "    </tr>\n",
       "  </thead>\n",
       "  <tbody>\n",
       "    <tr>\n",
       "      <th>count</th>\n",
       "      <td>150.000000</td>\n",
       "      <td>150.000000</td>\n",
       "      <td>150.000000</td>\n",
       "      <td>150.000000</td>\n",
       "    </tr>\n",
       "    <tr>\n",
       "      <th>mean</th>\n",
       "      <td>5.843333</td>\n",
       "      <td>3.057333</td>\n",
       "      <td>3.758000</td>\n",
       "      <td>1.199333</td>\n",
       "    </tr>\n",
       "    <tr>\n",
       "      <th>std</th>\n",
       "      <td>0.828066</td>\n",
       "      <td>0.435866</td>\n",
       "      <td>1.765298</td>\n",
       "      <td>0.762238</td>\n",
       "    </tr>\n",
       "    <tr>\n",
       "      <th>min</th>\n",
       "      <td>4.300000</td>\n",
       "      <td>2.000000</td>\n",
       "      <td>1.000000</td>\n",
       "      <td>0.100000</td>\n",
       "    </tr>\n",
       "    <tr>\n",
       "      <th>25%</th>\n",
       "      <td>5.100000</td>\n",
       "      <td>2.800000</td>\n",
       "      <td>1.600000</td>\n",
       "      <td>0.300000</td>\n",
       "    </tr>\n",
       "    <tr>\n",
       "      <th>50%</th>\n",
       "      <td>5.800000</td>\n",
       "      <td>3.000000</td>\n",
       "      <td>4.350000</td>\n",
       "      <td>1.300000</td>\n",
       "    </tr>\n",
       "    <tr>\n",
       "      <th>75%</th>\n",
       "      <td>6.400000</td>\n",
       "      <td>3.300000</td>\n",
       "      <td>5.100000</td>\n",
       "      <td>1.800000</td>\n",
       "    </tr>\n",
       "    <tr>\n",
       "      <th>max</th>\n",
       "      <td>7.900000</td>\n",
       "      <td>4.400000</td>\n",
       "      <td>6.900000</td>\n",
       "      <td>2.500000</td>\n",
       "    </tr>\n",
       "  </tbody>\n",
       "</table>\n",
       "</div>"
      ],
      "text/plain": [
       "       sepal length (cm)  sepal width (cm)  petal length (cm)  \\\n",
       "count         150.000000        150.000000         150.000000   \n",
       "mean            5.843333          3.057333           3.758000   \n",
       "std             0.828066          0.435866           1.765298   \n",
       "min             4.300000          2.000000           1.000000   \n",
       "25%             5.100000          2.800000           1.600000   \n",
       "50%             5.800000          3.000000           4.350000   \n",
       "75%             6.400000          3.300000           5.100000   \n",
       "max             7.900000          4.400000           6.900000   \n",
       "\n",
       "       petal width (cm)  \n",
       "count        150.000000  \n",
       "mean           1.199333  \n",
       "std            0.762238  \n",
       "min            0.100000  \n",
       "25%            0.300000  \n",
       "50%            1.300000  \n",
       "75%            1.800000  \n",
       "max            2.500000  "
      ]
     },
     "execution_count": 9,
     "metadata": {},
     "output_type": "execute_result"
    }
   ],
   "source": [
    "df.describe()"
   ]
  },
  {
   "cell_type": "code",
   "execution_count": 10,
   "id": "a4caf9a5",
   "metadata": {},
   "outputs": [
    {
     "data": {
      "text/html": [
       "<div>\n",
       "<style scoped>\n",
       "    .dataframe tbody tr th:only-of-type {\n",
       "        vertical-align: middle;\n",
       "    }\n",
       "\n",
       "    .dataframe tbody tr th {\n",
       "        vertical-align: top;\n",
       "    }\n",
       "\n",
       "    .dataframe thead th {\n",
       "        text-align: right;\n",
       "    }\n",
       "</style>\n",
       "<table border=\"1\" class=\"dataframe\">\n",
       "  <thead>\n",
       "    <tr style=\"text-align: right;\">\n",
       "      <th></th>\n",
       "      <th>count</th>\n",
       "      <th>mean</th>\n",
       "      <th>std</th>\n",
       "      <th>min</th>\n",
       "      <th>25%</th>\n",
       "      <th>50%</th>\n",
       "      <th>75%</th>\n",
       "      <th>max</th>\n",
       "    </tr>\n",
       "  </thead>\n",
       "  <tbody>\n",
       "    <tr>\n",
       "      <th>sepal length (cm)</th>\n",
       "      <td>150.0</td>\n",
       "      <td>5.843333</td>\n",
       "      <td>0.828066</td>\n",
       "      <td>4.3</td>\n",
       "      <td>5.1</td>\n",
       "      <td>5.80</td>\n",
       "      <td>6.4</td>\n",
       "      <td>7.9</td>\n",
       "    </tr>\n",
       "    <tr>\n",
       "      <th>sepal width (cm)</th>\n",
       "      <td>150.0</td>\n",
       "      <td>3.057333</td>\n",
       "      <td>0.435866</td>\n",
       "      <td>2.0</td>\n",
       "      <td>2.8</td>\n",
       "      <td>3.00</td>\n",
       "      <td>3.3</td>\n",
       "      <td>4.4</td>\n",
       "    </tr>\n",
       "    <tr>\n",
       "      <th>petal length (cm)</th>\n",
       "      <td>150.0</td>\n",
       "      <td>3.758000</td>\n",
       "      <td>1.765298</td>\n",
       "      <td>1.0</td>\n",
       "      <td>1.6</td>\n",
       "      <td>4.35</td>\n",
       "      <td>5.1</td>\n",
       "      <td>6.9</td>\n",
       "    </tr>\n",
       "    <tr>\n",
       "      <th>petal width (cm)</th>\n",
       "      <td>150.0</td>\n",
       "      <td>1.199333</td>\n",
       "      <td>0.762238</td>\n",
       "      <td>0.1</td>\n",
       "      <td>0.3</td>\n",
       "      <td>1.30</td>\n",
       "      <td>1.8</td>\n",
       "      <td>2.5</td>\n",
       "    </tr>\n",
       "  </tbody>\n",
       "</table>\n",
       "</div>"
      ],
      "text/plain": [
       "                   count      mean       std  min  25%   50%  75%  max\n",
       "sepal length (cm)  150.0  5.843333  0.828066  4.3  5.1  5.80  6.4  7.9\n",
       "sepal width (cm)   150.0  3.057333  0.435866  2.0  2.8  3.00  3.3  4.4\n",
       "petal length (cm)  150.0  3.758000  1.765298  1.0  1.6  4.35  5.1  6.9\n",
       "petal width (cm)   150.0  1.199333  0.762238  0.1  0.3  1.30  1.8  2.5"
      ]
     },
     "execution_count": 10,
     "metadata": {},
     "output_type": "execute_result"
    }
   ],
   "source": [
    "df.describe().transpose()"
   ]
  },
  {
   "cell_type": "markdown",
   "id": "40d44a0b",
   "metadata": {},
   "source": [
    "## seaborn"
   ]
  },
  {
   "cell_type": "code",
   "execution_count": 11,
   "id": "71bb8bb9",
   "metadata": {},
   "outputs": [
    {
     "data": {
      "text/plain": [
       "<seaborn.axisgrid.PairGrid at 0x7f8a60531d30>"
      ]
     },
     "execution_count": 11,
     "metadata": {},
     "output_type": "execute_result"
    },
    {
     "data": {
      "image/png": "[encoded data removed]",
      "text/plain": [
       "<Figure size 804.75x720 with 20 Axes>"
      ]
     },
     "metadata": {
      "needs_background": "light"
     },
     "output_type": "display_data"
    }
   ],
   "source": [
    "#seaborn 페어플롯 알아보기\n",
    "import seaborn as sns\n",
    "sns.pairplot(df,hue=\"target\")"
   ]
  },
  {
   "cell_type": "code",
   "execution_count": 12,
   "id": "68dbfe91",
   "metadata": {},
   "outputs": [
    {
     "data": {
      "text/plain": [
       "<seaborn.axisgrid.PairGrid at 0x7f8a93010820>"
      ]
     },
     "execution_count": 12,
     "metadata": {},
     "output_type": "execute_result"
    },
    {
     "data": {
      "image/png": "[encoded data removed]",
      "text/plain": [
       "<Figure size 804.75x720 with 20 Axes>"
      ]
     },
     "metadata": {
      "needs_background": "light"
     },
     "output_type": "display_data"
    }
   ],
   "source": [
    "#seaborn 페어플롯의 대각선상에 히스토그램을 더하기\n",
    "sns.pairplot(df, hue=\"target\", diag_kind=\"hist\", palette=\"bright\", markers=[\"o\", \"s\", \"d\"])"
   ]
  },
  {
   "cell_type": "code",
   "execution_count": 13,
   "id": "4345191d",
   "metadata": {},
   "outputs": [
    {
     "data": {
      "text/plain": [
       "<seaborn.axisgrid.FacetGrid at 0x7f8a93010f10>"
      ]
     },
     "execution_count": 13,
     "metadata": {},
     "output_type": "execute_result"
    },
    {
     "data": {
      "image/png": "[encoded data removed]",
      "text/plain": [
       "<Figure size 444.75x360 with 1 Axes>"
      ]
     },
     "metadata": {
      "needs_background": "light"
     },
     "output_type": "display_data"
    }
   ],
   "source": [
    "#seaborn을 사용해서 이변량 스캐터 플롯 그리기\n",
    "sns.lmplot(x='petal length (cm)', y=\"petal width (cm)\", hue=\"target\", data=df, fit_reg=False,\n",
    "          palette=\"bright\",markers=[\"o\",\"s\",\"d\"])"
   ]
  },
  {
   "cell_type": "code",
   "execution_count": 14,
   "id": "9a769c4f",
   "metadata": {},
   "outputs": [
    {
     "data": {
      "text/plain": [
       "<AxesSubplot:xlabel='target', ylabel='petal length (cm)'>"
      ]
     },
     "execution_count": 14,
     "metadata": {},
     "output_type": "execute_result"
    },
    {
     "data": {
      "image/png": "[encoded data removed]",
      "text/plain": [
       "<Figure size 432x288 with 1 Axes>"
      ]
     },
     "metadata": {
      "needs_background": "light"
     },
     "output_type": "display_data"
    }
   ],
   "source": [
    "#바이올린 플롯 : 값의 분포와 클래스의 분산을 한 플롯에 표현할 수 있음, \n",
    "#각 바이올린은 사실 확률 밀도를 보여주는 단일 변량 분포, 수직의 박스플롯과 같이 생긴 형태로 주어진 클래스의 값의 범위에 대해 표현\n",
    "sns.violinplot(x='target',y='petal length (cm)', data=df)\n",
    "#기본설정으로 seaborn은 중앙값과 사분위수범위를 각 바이올린에서 보여줌"
   ]
  },
  {
   "cell_type": "markdown",
   "id": "52f77730",
   "metadata": {},
   "source": [
    "## PCA, LDA :차원 줄이기"
   ]
  },
  {
   "cell_type": "code",
   "execution_count": 15,
   "id": "a348ea65",
   "metadata": {},
   "outputs": [],
   "source": [
    "#pca를 통해 차원 줄이기\n",
    "from sklearn.decomposition import PCA\n",
    "pca = PCA(n_components=2)\n",
    "out_pca = pca.fit_transform(df[['sepal length (cm)',\n",
    "                                     'sepal width (cm)',\n",
    "                                     'petal length (cm)',\n",
    "                                     'petal width (cm)']])"
   ]
  },
  {
   "cell_type": "code",
   "execution_count": 16,
   "id": "e242a461",
   "metadata": {},
   "outputs": [
    {
     "name": "stdout",
     "output_type": "stream",
     "text": [
      "       pca1      pca2\n",
      "0 -2.684126  0.319397\n",
      "1 -2.714142 -0.177001\n",
      "2 -2.888991 -0.144949\n",
      "3 -2.745343 -0.318299\n",
      "4 -2.728717  0.326755\n"
     ]
    }
   ],
   "source": [
    "df_pca = pd.DataFrame(data=out_pca, columns=['pca1','pca2'])\n",
    "print(df_pca.head())"
   ]
  },
  {
   "cell_type": "markdown",
   "id": "ef2b2312",
   "metadata": {},
   "source": [
    "괜찮은 것 처럼 보이지만 타깃 혹은 레이블 열이 없음 -> 원래 데이터프레임에서 데이터를 절단해 열을 더해줌\n",
    "열을 더해주는 것을 예측에 사용될 수 있는 PCA 데이터 프레임을 제공해 줌\n",
    "그것을 플록하고 변환된 데이터가 2차원으로 플롯된 것처럼 보이는지 확인"
   ]
  },
  {
   "cell_type": "code",
   "execution_count": 17,
   "id": "7562e5ac",
   "metadata": {},
   "outputs": [
    {
     "name": "stdout",
     "output_type": "stream",
     "text": [
      "       pca1      pca2  target\n",
      "0 -2.684126  0.319397  setosa\n",
      "1 -2.714142 -0.177001  setosa\n",
      "2 -2.888991 -0.144949  setosa\n",
      "3 -2.745343 -0.318299  setosa\n",
      "4 -2.728717  0.326755  setosa\n"
     ]
    },
    {
     "data": {
      "text/plain": [
       "<seaborn.axisgrid.FacetGrid at 0x7f8a714560d0>"
      ]
     },
     "execution_count": 17,
     "metadata": {},
     "output_type": "execute_result"
    },
    {
     "data": {
      "image/png": "[encoded data removed]",
      "text/plain": [
       "<Figure size 444.75x360 with 1 Axes>"
      ]
     },
     "metadata": {
      "needs_background": "light"
     },
     "output_type": "display_data"
    }
   ],
   "source": [
    "df_pca=pd.concat([df_pca, df[['target']]], axis=1)\n",
    "print(df_pca.head())\n",
    "sns.lmplot(x=\"pca1\",y=\"pca2\", hue=\"target\", data=df_pca, fit_reg=False)"
   ]
  },
  {
   "cell_type": "markdown",
   "id": "21689834",
   "metadata": {},
   "source": [
    "고차원 데이터를 쉽게 소화할 수 있는 두개의 차원으로 전환\n",
    "pca의 목표는 데이터를 가장 큰 변동이 있는 방향으로 맞추는 것, PCA는 데이터의 가장 중요한 정보들을 무시\n",
    "레이블은 사용되지 않음: 레이블을 포함했으면 더 나은 변환 벡터들을 뽑아낼 수 있음\n",
    "레이블을 포함한 차원 감소 기법은 선형판별분석(LDA)\n",
    "LDA는 클래스 레이블별로 그룹을 지정, 클래스별로 가장 많은 분리를 생성하는 방향으로 찾음\n",
    "** 번환 단계에서 레이블을 생략하는 것 : 도움이 되지 않는 방향으로 요소 벡터를 줄이는 것을 방지하기 위해 일부 문제의 경우(신뢰도가 낮은 클래스 레이블의 경우) 바람직함 -> 추가작업을 할지 말지를 결정하기 전에 항상 PCA부터 시작할 것을 추천, 데이터의 양이 방대하지 않다면 PCA부터 해도 나쁘지 않음"
   ]
  },
  {
   "cell_type": "code",
   "execution_count": 18,
   "id": "b1cdc559",
   "metadata": {},
   "outputs": [],
   "source": [
    "# LDA를 이용해 차원수 줄이기\n",
    "from sklearn.discriminant_analysis import LinearDiscriminantAnalysis as LDA\n",
    "lda=LDA(n_components=2)"
   ]
  },
  {
   "cell_type": "code",
   "execution_count": 19,
   "id": "a70c20c0",
   "metadata": {},
   "outputs": [],
   "source": [
    "#데이터프레임 포맷 설정하기\n",
    "out_lda=lda.fit_transform(X=df.iloc[:,:4], y=df['target'])\n",
    "df_lda = pd.DataFrame(data=out_lda, columns=['lda1','lda2'])\n",
    "df_lda=pd.concat([df_lda,df[['target']]],axis=1)"
   ]
  },
  {
   "cell_type": "code",
   "execution_count": 20,
   "id": "3cd269f7",
   "metadata": {},
   "outputs": [
    {
     "name": "stdout",
     "output_type": "stream",
     "text": [
      "       lda1      lda2  target\n",
      "0  8.061800  0.300421  setosa\n",
      "1  7.128688 -0.786660  setosa\n",
      "2  7.489828 -0.265384  setosa\n",
      "3  6.813201 -0.670631  setosa\n",
      "4  8.132309  0.514463  setosa\n"
     ]
    }
   ],
   "source": [
    "#데이터 점검\n",
    "print(df_lda.head())"
   ]
  },
  {
   "cell_type": "code",
   "execution_count": 21,
   "id": "e3c6780f",
   "metadata": {},
   "outputs": [
    {
     "data": {
      "text/plain": [
       "<seaborn.axisgrid.FacetGrid at 0x7f8a93586850>"
      ]
     },
     "execution_count": 21,
     "metadata": {},
     "output_type": "execute_result"
    },
    {
     "data": {
      "image/png": "[encoded data removed]",
      "text/plain": [
       "<Figure size 444.75x360 with 1 Axes>"
      ]
     },
     "metadata": {
      "needs_background": "light"
     },
     "output_type": "display_data"
    }
   ],
   "source": [
    "#플롯 그리기\n",
    "sns.lmplot(x=\"lda1\",y=\"lda2\",hue=\"target\", data=df_lda, fit_reg=False)"
   ]
  },
  {
   "cell_type": "code",
   "execution_count": 22,
   "id": "6b33de02",
   "metadata": {},
   "outputs": [
    {
     "data": {
      "text/plain": [
       "Text(0.5, 1.0, 'violinplot : Feature = PCA_1')"
      ]
     },
     "execution_count": 22,
     "metadata": {},
     "output_type": "execute_result"
    },
    {
     "data": {
      "image/png": "[encoded data removed]",
      "text/plain": [
       "<Figure size 432x288 with 1 Axes>"
      ]
     },
     "metadata": {
      "needs_background": "light"
     },
     "output_type": "display_data"
    }
   ],
   "source": [
    "#바이올린 플롯으로 pca와 lda 비교하기\n",
    "sns.violinplot(x=\"target\", y='pca1',data=df_pca).set_title(\"violinplot : Feature = PCA_1\")"
   ]
  },
  {
   "cell_type": "code",
   "execution_count": 23,
   "id": "bf71885e",
   "metadata": {},
   "outputs": [
    {
     "data": {
      "text/plain": [
       "Text(0.5, 1.0, 'violinplot : Feature = LDA_1')"
      ]
     },
     "execution_count": 23,
     "metadata": {},
     "output_type": "execute_result"
    },
    {
     "data": {
      "image/png": "[encoded data removed]",
      "text/plain": [
       "<Figure size 432x288 with 1 Axes>"
      ]
     },
     "metadata": {
      "needs_background": "light"
     },
     "output_type": "display_data"
    }
   ],
   "source": [
    "sns.violinplot(x=\"target\", y='lda1',data=df_lda).set_title(\"violinplot : Feature = LDA_1\")"
   ]
  },
  {
   "cell_type": "markdown",
   "id": "35034f85",
   "metadata": {},
   "source": [
    "## 분리를 계량화 : K-평균 클러스터링과 실루엣 점수\n",
    "클러스터의 압축성을 점수화하기 위해 실루엣 계수라 불리는 계량적 지표를 사용 : 높은 점수는 더욱 압축된 클러스터를 의미"
   ]
  },
  {
   "cell_type": "code",
   "execution_count": 24,
   "id": "98a20a82",
   "metadata": {},
   "outputs": [
    {
     "name": "stdout",
     "output_type": "stream",
     "text": [
      "PCA silhouette_score = 0.5976764219547991\n",
      "LDA silhouette score = 0.597676\n"
     ]
    }
   ],
   "source": [
    "# K-평균으로 클러스터링하고 실루엣 점수 점검하기\n",
    "from sklearn.cluster import KMeans\n",
    "from sklearn.metrics import silhouette_score as Sscore\n",
    "\n",
    "#k-means 객체 초기화\n",
    "kmns =KMeans(n_clusters=3, random_state=42)\n",
    "\n",
    "#알고리즘을 pca에 적합시키고 실루엣 점수 산정\n",
    "out_kms_pca = kmns.fit_predict(out_pca)\n",
    "silhouette = Sscore(out_pca, out_kms_pca)\n",
    "print(\"PCA silhouette_score = \" + str(silhouette))\n",
    "\n",
    "#알고리즘을 lda에 적합시키고 실루엣 점수 산정\n",
    "out_kms_lda = kmns.fit_predict(out_lda)\n",
    "silhoutte = Sscore(out_lda, out_kms_lda)\n",
    "print(\"LDA silhouette score = %2f\" %silhouette)"
   ]
  },
  {
   "cell_type": "markdown",
   "id": "aa6f60ea",
   "metadata": {},
   "source": [
    "## 의사 결정 혹은 예측"
   ]
  },
  {
   "cell_type": "markdown",
   "id": "66afa70c",
   "metadata": {},
   "source": [
    "예측을 하기 전에 데이터를 훈련 데이터와 테스트 데이터로 나눠야 함\n",
    "\n",
    "훈련 데이터에 기반해 예측 모델을 수집하고 F1점수를 사용해 테스트 데이터를 점수화해봄\n",
    "\n",
    "** 가장 랜덤화된 데이터 선택을 위해 랜덤 시드를 사용하는 것을 추천 : 어디서 랜덤화 루틴을 사용할지 의사 랜덤 생성기에 지정 -> 항상 같은 랜덤 선택이 제공\n"
   ]
  },
  {
   "cell_type": "code",
   "execution_count": 25,
   "id": "bc928f80",
   "metadata": {},
   "outputs": [],
   "source": [
    "# 데이터를 훈련/검증/테스트 그룹으로 나눔\n",
    "from sklearn.model_selection import train_test_split as tts\n",
    "df_train, df_test = tts(df_lda, test_size = 0.3, random_state=12)"
   ]
  },
  {
   "cell_type": "code",
   "execution_count": 26,
   "id": "c75c3b36",
   "metadata": {},
   "outputs": [
    {
     "name": "stdout",
     "output_type": "stream",
     "text": [
      "train set shape = (105, 3)\n",
      "test set shape = (45, 3)\n",
      "         lda1      lda2     target\n",
      "10   8.397387  0.647363     setosa\n",
      "46   8.081899  0.763393     setosa\n",
      "36   8.613672  0.403254     setosa\n",
      "124 -5.723175  1.293276  virginica\n",
      "7    7.605294 -0.011634     setosa\n"
     ]
    }
   ],
   "source": [
    "#데이터 점검\n",
    "print('train set shape = '+ str(df_train.shape))\n",
    "print('test set shape = '+ str(df_test.shape))\n",
    "print(df_train.head())"
   ]
  },
  {
   "cell_type": "code",
   "execution_count": 27,
   "id": "4820e58c",
   "metadata": {},
   "outputs": [
    {
     "name": "stdout",
     "output_type": "stream",
     "text": [
      "f1 score for SVM classifier = 0.704938\n"
     ]
    }
   ],
   "source": [
    "#SVM을 사용한 분류 : C=0.8\n",
    "from sklearn.svm import SVC\n",
    "from sklearn.metrics import f1_score\n",
    "clf = SVC(kernel=\"rbf\", C=0.8, gamma = 10)\n",
    "clf.fit(df_train[['lda1','lda2']], df_train['target'])\n",
    "\n",
    "#테스트 데이터상에서의 예측\n",
    "y_pred =clf.predict(df_test[['lda1','lda2']])\n",
    "f1=f1_score(df_test['target'], y_pred, average=\"weighted\")\n",
    "\n",
    "#예측 점수 점검\n",
    "print(\"f1 score for SVM classifier = %3f\" % f1)"
   ]
  },
  {
   "cell_type": "markdown",
   "id": "e05746c3",
   "metadata": {},
   "source": [
    "모델을 바꿔서 적합할 수 있다\n",
    "\n",
    "C는 패널티 항목이고 초매개변수라고 불림. 초 매개변수는 분석가가 적합을 특정한 방향응로 유도할 수 있는 항목"
   ]
  },
  {
   "cell_type": "code",
   "execution_count": 28,
   "id": "6ad6fa65",
   "metadata": {},
   "outputs": [
    {
     "name": "stdout",
     "output_type": "stream",
     "text": [
      "f1 score for SVM classifier = 0.728322\n"
     ]
    }
   ],
   "source": [
    "#SVM을 사용한 분류 : C =1\n",
    "from sklearn.svm import SVC\n",
    "from sklearn.metrics import f1_score\n",
    "clf = SVC(kernel=\"rbf\", C=1, gamma = 10)\n",
    "clf.fit(df_train[['lda1','lda2']], df_train['target'])\n",
    "\n",
    "#테스트 데이터상에서의 예측\n",
    "y_pred =clf.predict(df_test[['lda1','lda2']])\n",
    "f1=f1_score(df_test['target'], y_pred, average=\"weighted\")\n",
    "\n",
    "#예측 점수 점검\n",
    "print(\"f1 score for SVM classifier = %3f\" % f1)"
   ]
  },
  {
   "cell_type": "markdown",
   "id": "7496b06a",
   "metadata": {},
   "source": [
    "이렇게 매개변수를 조정해서 F1 점수를 최대화 : 매개변수를 자동화하기 위해 \"그리드검색\"을 적용할 수 있음\n",
    "\n",
    "->대안은 튜닝을 필요로 하지 않은 알고리즘을 적용하는 것 : 랜덤포레스트 : 복수의 의사결정트리를 묶어서 예측에 대한 투표로 만드는 것 "
   ]
  },
  {
   "cell_type": "code",
   "execution_count": 29,
   "id": "699bd21a",
   "metadata": {},
   "outputs": [
    {
     "name": "stdout",
     "output_type": "stream",
     "text": [
      "f1 score for SVM classifier = 0.977632\n"
     ]
    }
   ],
   "source": [
    "# 랜덤포레스트를 사용한 분류\n",
    "from sklearn.ensemble import RandomForestClassifier\n",
    "clf = RandomForestClassifier(n_estimators =2, random_state=42)\n",
    "clf.fit(df_train[['lda1','lda2']], df_train['target'])\n",
    "y_pred =clf.predict(df_test[['lda1','lda2']])\n",
    "f1 =f1_score(df_test['target'], y_pred, average='weighted')\n",
    "\n",
    "#예측점수 점검\n",
    "print(\"f1 score for SVM classifier = %2f\" %f1)"
   ]
  },
  {
   "cell_type": "markdown",
   "id": "8bb18b8b",
   "metadata": {},
   "source": [
    "# 데이터의 수집, 탐구, 시각화\n",
    "1. 데이터 소스의 형태와 pandas에 데이터 적재하기\n",
    "1. pandas에서 데이터의 접근, 검색, 점검\n",
    "1. seaborn에서 기본적인 플롯\n",
    "1. 데이터 시각화에 대한 플롯의 적절한 형태"
   ]
  },
  {
   "cell_type": "markdown",
   "id": "b563fb5f",
   "metadata": {},
   "source": [
    "## 데이터 소스의 형태와 pandas에 데이터 적재하기"
   ]
  },
  {
   "cell_type": "markdown",
   "id": "136a9fe3",
   "metadata": {},
   "source": [
    "### 데이터 베이스\n",
    "- 데이터 베이스에 접속한 뒤, 질의에서 사용할 객체인 커서 객체를 생성\n",
    "- 조건을 사용해서 boston 테이블의 모든 내용을 선택하고 열의 수를 다섯개로 제한(콘솔에 너무 많은 데이터를 보여주지 않기 위해)\n",
    "- excute()를 사용해 질의를 수행, fetchall()을 사용해 데이터를 가져옴\n",
    "- 질의로부터 생성된 데이터는 검색조건(select, limit)에 의해 통제됨"
   ]
  },
  {
   "cell_type": "code",
   "execution_count": 30,
   "id": "7edded20",
   "metadata": {},
   "outputs": [],
   "source": [
    "import sqlite3 \n",
    "sqlite_file = './data/boston.db'"
   ]
  },
  {
   "cell_type": "code",
   "execution_count": 31,
   "id": "c2ee1cfd",
   "metadata": {},
   "outputs": [],
   "source": [
    "#데이터베이스 파일에 접속하기\n",
    "conn = sqlite3.connect(sqlite_file)"
   ]
  },
  {
   "cell_type": "code",
   "execution_count": 32,
   "id": "b8318e5b",
   "metadata": {},
   "outputs": [],
   "source": [
    "#커서 객체 초기화\n",
    "cur = conn.cursor()"
   ]
  },
  {
   "cell_type": "code",
   "execution_count": 33,
   "id": "e8863e83",
   "metadata": {},
   "outputs": [
    {
     "data": {
      "text/plain": [
       "<sqlite3.Cursor at 0x7f8a60a27960>"
      ]
     },
     "execution_count": 33,
     "metadata": {},
     "output_type": "execute_result"
    }
   ],
   "source": [
    "# 횡단 검색 정의\n",
    "cur.execute(\"select * from boston limit 5;\")"
   ]
  },
  {
   "cell_type": "code",
   "execution_count": 34,
   "id": "62530d71",
   "metadata": {},
   "outputs": [
    {
     "name": "stdout",
     "output_type": "stream",
     "text": [
      "[(0, 0.00632, 18.0, 2.31, 0.0, 0.538, 6.575, 65.2, 4.09, 1.0, 296.0, 15.3, 396.9, 4.98, 24.0), (1, 0.02731, 0.0, 7.07, 0.0, 0.469, 6.421, 78.9, 4.9671, 2.0, 242.0, 17.8, 396.9, 9.14, 21.6), (2, 0.02729, 0.0, 7.07, 0.0, 0.469, 7.185, 61.1, 4.9671, 2.0, 242.0, 17.8, 392.83, 4.03, 34.7), (3, 0.03237, 0.0, 2.18, 0.0, 0.458, 6.998, 45.8, 6.0622, 3.0, 222.0, 18.7, 394.63, 2.94, 33.4), (4, 0.06905, 0.0, 2.18, 0.0, 0.458, 7.147, 54.2, 6.0622, 3.0, 222.0, 18.7, 396.9, 5.33, 36.2)]\n"
     ]
    }
   ],
   "source": [
    "#데이터 가져오기와 인쇄\n",
    "data=cur.fetchall()\n",
    "print(data)"
   ]
  },
  {
   "cell_type": "markdown",
   "id": "04862972",
   "metadata": {},
   "source": [
    "위의 예제에서는 리모트 데이터베이스 대신에 책에 포함된 데이터베이스파일(.db)를 사용했다. 실무에서는 보통 네트워크 주소와 로그인을 사용해서 데이터베이스에 원격 접속한다. "
   ]
  },
  {
   "cell_type": "markdown",
   "id": "42019288",
   "metadata": {},
   "source": [
    "#### 기본적인 SQL 질의"
   ]
  },
  {
   "cell_type": "code",
   "execution_count": 35,
   "id": "db7d52bb",
   "metadata": {},
   "outputs": [
    {
     "name": "stdout",
     "output_type": "stream",
     "text": [
      "[(18.0,), (12.5,), (12.5,), (12.5,), (12.5,), (12.5,), (12.5,), (12.5,), (75.0,), (75.0,), (21.0,), (21.0,), (21.0,), (21.0,), (75.0,), (90.0,), (85.0,), (100.0,), (25.0,), (25.0,), (25.0,), (25.0,), (25.0,), (25.0,), (17.5,), (80.0,), (80.0,), (12.5,), (12.5,), (12.5,), (25.0,), (25.0,), (25.0,), (25.0,), (28.0,), (28.0,), (28.0,), (45.0,), (45.0,), (45.0,), (45.0,), (45.0,), (45.0,), (60.0,), (60.0,), (80.0,), (80.0,), (80.0,), (80.0,), (95.0,), (95.0,), (82.5,), (82.5,), (95.0,), (95.0,), (30.0,), (30.0,), (30.0,), (30.0,), (30.0,), (30.0,), (22.0,), (22.0,), (22.0,), (22.0,), (22.0,), (22.0,), (22.0,), (22.0,), (22.0,), (22.0,), (80.0,), (80.0,), (90.0,), (20.0,), (20.0,), (20.0,), (20.0,), (20.0,), (20.0,), (20.0,), (20.0,), (20.0,), (20.0,), (20.0,), (20.0,), (20.0,), (20.0,), (20.0,), (20.0,), (20.0,), (40.0,), (40.0,), (40.0,), (40.0,), (40.0,), (20.0,), (20.0,), (20.0,), (20.0,), (90.0,), (90.0,), (55.0,), (80.0,), (52.5,), (52.5,), (52.5,), (80.0,), (80.0,), (80.0,), (70.0,), (70.0,), (70.0,), (34.0,), (34.0,), (34.0,), (33.0,), (33.0,), (33.0,), (33.0,), (35.0,), (35.0,), (35.0,), (55.0,), (55.0,), (85.0,), (80.0,), (40.0,), (40.0,), (60.0,), (60.0,), (90.0,), (80.0,), (80.0,)]\n"
     ]
    }
   ],
   "source": [
    "#ZN열에서 선택, 이전에 사용했던 값에 대해 필터링\n",
    "cur.execute(\"select ZN from boston where ZN>0.0;\")\n",
    "data=cur.fetchall()\n",
    "print(data)"
   ]
  },
  {
   "cell_type": "markdown",
   "id": "23750717",
   "metadata": {},
   "source": [
    "위와 같은 비 구조화된 데이터를 정리하는 방법\n",
    "1. 직접 코딩해서 ZN의 열 및 검색의 다른 제한에 직접 레이블을 붙이는 방법\n",
    "2. pandas의 내장 SQL 기능을 사용해서 질의의 결과를 직접 데이터 프레임에 저장하는 것(추천)"
   ]
  },
  {
   "cell_type": "code",
   "execution_count": 36,
   "id": "32fb3e81",
   "metadata": {},
   "outputs": [
    {
     "name": "stdout",
     "output_type": "stream",
     "text": [
      "df.shape = (150, 5)\n"
     ]
    }
   ],
   "source": [
    "import pandas as pd\n",
    "#보스톤 테이블에서 다섯개 행의 모든 데이터를 가져오기\n",
    "df_5 = pd.read_sql_query(\"select * from boston limit 5;\", conn)\n",
    "print(\"df.shape = \" +str(df.shape))"
   ]
  },
  {
   "cell_type": "code",
   "execution_count": 37,
   "id": "0504e53c",
   "metadata": {},
   "outputs": [
    {
     "name": "stdout",
     "output_type": "stream",
     "text": [
      "df.shape = (506, 15)\n",
      "Sanity check with pandas head(): \n",
      "   record     CRIM    ZN  INDUS  CHAS    NOX     RM   AGE     DIS  RAD    TAX  \\\n",
      "0       0  0.00632  18.0   2.31   0.0  0.538  6.575  65.2  4.0900  1.0  296.0   \n",
      "1       1  0.02731   0.0   7.07   0.0  0.469  6.421  78.9  4.9671  2.0  242.0   \n",
      "2       2  0.02729   0.0   7.07   0.0  0.469  7.185  61.1  4.9671  2.0  242.0   \n",
      "3       3  0.03237   0.0   2.18   0.0  0.458  6.998  45.8  6.0622  3.0  222.0   \n",
      "4       4  0.06905   0.0   2.18   0.0  0.458  7.147  54.2  6.0622  3.0  222.0   \n",
      "\n",
      "   PTRATIO       B  LSTAT  MEDV  \n",
      "0     15.3  396.90   4.98  24.0  \n",
      "1     17.8  396.90   9.14  21.6  \n",
      "2     17.8  392.83   4.03  34.7  \n",
      "3     18.7  394.63   2.94  33.4  \n",
      "4     18.7  396.90   5.33  36.2  \n",
      "Summarize with Pandas describe():\n",
      "         count        mean         std        min         25%        50%  \\\n",
      "record   506.0  252.500000  146.213884    0.00000  126.250000  252.50000   \n",
      "CRIM     506.0    3.593761    8.596783    0.00632    0.082045    0.25651   \n",
      "ZN       506.0   11.363636   23.322453    0.00000    0.000000    0.00000   \n",
      "INDUS    506.0   11.136779    6.860353    0.46000    5.190000    9.69000   \n",
      "CHAS     506.0    0.069170    0.253994    0.00000    0.000000    0.00000   \n",
      "NOX      506.0    0.554695    0.115878    0.38500    0.449000    0.53800   \n",
      "RM       506.0    6.284634    0.702617    3.56100    5.885500    6.20850   \n",
      "AGE      506.0   68.574901   28.148861    2.90000   45.025000   77.50000   \n",
      "DIS      506.0    3.795043    2.105710    1.12960    2.100175    3.20745   \n",
      "RAD      506.0    9.549407    8.707259    1.00000    4.000000    5.00000   \n",
      "TAX      506.0  408.237154  168.537116  187.00000  279.000000  330.00000   \n",
      "PTRATIO  506.0   18.455534    2.164946   12.60000   17.400000   19.05000   \n",
      "B        506.0  356.674032   91.294864    0.32000  375.377500  391.44000   \n",
      "LSTAT    506.0   12.653063    7.141062    1.73000    6.950000   11.36000   \n",
      "MEDV     506.0   22.532806    9.197104    5.00000   17.025000   21.20000   \n",
      "\n",
      "                75%       max  \n",
      "record   378.750000  505.0000  \n",
      "CRIM       3.647423   88.9762  \n",
      "ZN        12.500000  100.0000  \n",
      "INDUS     18.100000   27.7400  \n",
      "CHAS       0.000000    1.0000  \n",
      "NOX        0.624000    0.8710  \n",
      "RM         6.623500    8.7800  \n",
      "AGE       94.075000  100.0000  \n",
      "DIS        5.188425   12.1265  \n",
      "RAD       24.000000   24.0000  \n",
      "TAX      666.000000  711.0000  \n",
      "PTRATIO   20.200000   22.0000  \n",
      "B        396.225000  396.9000  \n",
      "LSTAT     16.955000   37.9700  \n",
      "MEDV      25.000000   50.0000  \n"
     ]
    }
   ],
   "source": [
    "#boston 테이블에 있는 모든 데이터 가져오기\n",
    "df = pd.read_sql_query(\"select * from boston;\", conn)\n",
    "print(\"df.shape = \" +str(df.shape))\n",
    "print(\"Sanity check with pandas head(): \")\n",
    "print(df.head())\n",
    "print(\"Summarize with Pandas describe():\")\n",
    "print(df.describe().transpose())"
   ]
  },
  {
   "cell_type": "code",
   "execution_count": 38,
   "id": "f6ff2355",
   "metadata": {},
   "outputs": [
    {
     "name": "stdout",
     "output_type": "stream",
     "text": [
      "df_ZN1.shape = (134, 15)\n"
     ]
    }
   ],
   "source": [
    "#양의 ZN값을 갖는 boston 테이블 내의 모든 데이터 가져오기\n",
    "df_ZN1 = pd.read_sql_query(\"select * from boston where ZN > 0.0;\", conn)\n",
    "print(\"df_ZN1.shape = \"+str(df_ZN1.shape))"
   ]
  },
  {
   "cell_type": "code",
   "execution_count": 39,
   "id": "6554736b",
   "metadata": {},
   "outputs": [
    {
     "name": "stdout",
     "output_type": "stream",
     "text": [
      "df_ZN2.shape = (66, 15)\n"
     ]
    }
   ],
   "source": [
    "#250 이상의 레코드를 필터링\n",
    "df_ZN2 = pd.read_sql_query(\"select * from boston where ZN > 0.0 and record>250;\", conn)\n",
    "print(\"df_ZN2.shape = \"+str(df_ZN2.shape))"
   ]
  },
  {
   "cell_type": "markdown",
   "id": "278703f0",
   "metadata": {},
   "source": [
    "보통 질의가 긴 질의는 짧은 줄로 나눠서 읽기 쉽게 코딩함"
   ]
  },
  {
   "cell_type": "code",
   "execution_count": 40,
   "id": "b8b362f7",
   "metadata": {},
   "outputs": [
    {
     "name": "stdout",
     "output_type": "stream",
     "text": [
      "df_n.shape : (134, 4)\n"
     ]
    }
   ],
   "source": [
    "# 여러줄로 나눠 쓰는 질의문\n",
    "df_n = pd.read_sql_query(\"\"\"\n",
    "select record, ZN, AGE, TAX from boston\n",
    "where ZN>0 and CRIM<2.5;\n",
    "\"\"\", conn)\n",
    "print(\"df_n.shape : \"+str(df_n.shape))"
   ]
  },
  {
   "cell_type": "code",
   "execution_count": 41,
   "id": "3817b432",
   "metadata": {},
   "outputs": [
    {
     "data": {
      "text/plain": [
       "<function Connection.close>"
      ]
     },
     "execution_count": 41,
     "metadata": {},
     "output_type": "execute_result"
    }
   ],
   "source": [
    "#수정사항을 저장\n",
    "df.to_sql(\"./data/boston_updated\",conn,if_exists=\"replace\")\n",
    "\n",
    "#접속종료\n",
    "conn.close"
   ]
  },
  {
   "cell_type": "markdown",
   "id": "a0374577",
   "metadata": {},
   "source": [
    "## 디스크\n",
    "\n",
    "데이터는 하드디스크 같은 디스크에 저장되어 있고 .csv 같은 형태로 저장되어 있음"
   ]
  },
  {
   "cell_type": "code",
   "execution_count": 42,
   "id": "6ad7f60c",
   "metadata": {},
   "outputs": [],
   "source": [
    "#파일로부터 데이터 로딩하기\n",
    "df = pd.read_csv(\"./data/iris.csv\")"
   ]
  },
  {
   "cell_type": "code",
   "execution_count": 43,
   "id": "0d254776",
   "metadata": {},
   "outputs": [
    {
     "name": "stdout",
     "output_type": "stream",
     "text": [
      "        sepal length in cm  sepal width in cm  petal length in cm  \\\n",
      "record                                                              \n",
      "0                      5.1                3.5                 1.4   \n",
      "1                      4.9                3.0                 1.4   \n",
      "2                      4.7                3.2                 1.3   \n",
      "3                      4.6                3.1                 1.5   \n",
      "4                      5.0                3.6                 1.4   \n",
      "\n",
      "        petal width in cm      species  \n",
      "record                                  \n",
      "0                     0.2  new-species  \n",
      "1                     0.2  new-species  \n",
      "2                     0.2  new-species  \n",
      "3                     0.2  new-species  \n",
      "4                     0.2  new-species  \n"
     ]
    }
   ],
   "source": [
    "#약간의 수정, 인덱스 생성\n",
    "df.index.name=\"record\"\n",
    "df['species']=\"new-species\"\n",
    "print(df.head())"
   ]
  },
  {
   "cell_type": "code",
   "execution_count": 44,
   "id": "47d4fd12",
   "metadata": {},
   "outputs": [],
   "source": [
    "#파일에 저장\n",
    "df.to_csv(\"./data/iris_updated.csv\",index=True)"
   ]
  },
  {
   "cell_type": "markdown",
   "id": "896e6e6b",
   "metadata": {},
   "source": [
    "## 웹 소스\n",
    "### url\n"
   ]
  },
  {
   "cell_type": "code",
   "execution_count": 45,
   "id": "ad886fa2",
   "metadata": {},
   "outputs": [
    {
     "data": {
      "text/html": [
       "<div>\n",
       "<style scoped>\n",
       "    .dataframe tbody tr th:only-of-type {\n",
       "        vertical-align: middle;\n",
       "    }\n",
       "\n",
       "    .dataframe tbody tr th {\n",
       "        vertical-align: top;\n",
       "    }\n",
       "\n",
       "    .dataframe thead th {\n",
       "        text-align: right;\n",
       "    }\n",
       "</style>\n",
       "<table border=\"1\" class=\"dataframe\">\n",
       "  <thead>\n",
       "    <tr style=\"text-align: right;\">\n",
       "      <th></th>\n",
       "      <th>sepal length in cm</th>\n",
       "      <th>sepal width in cm</th>\n",
       "      <th>petal length in cm</th>\n",
       "      <th>petal width in cm</th>\n",
       "      <th>species</th>\n",
       "    </tr>\n",
       "  </thead>\n",
       "  <tbody>\n",
       "    <tr>\n",
       "      <th>0</th>\n",
       "      <td>5.1</td>\n",
       "      <td>3.5</td>\n",
       "      <td>1.4</td>\n",
       "      <td>0.2</td>\n",
       "      <td>Iris-setosa</td>\n",
       "    </tr>\n",
       "    <tr>\n",
       "      <th>1</th>\n",
       "      <td>4.9</td>\n",
       "      <td>3.0</td>\n",
       "      <td>1.4</td>\n",
       "      <td>0.2</td>\n",
       "      <td>Iris-setosa</td>\n",
       "    </tr>\n",
       "    <tr>\n",
       "      <th>2</th>\n",
       "      <td>4.7</td>\n",
       "      <td>3.2</td>\n",
       "      <td>1.3</td>\n",
       "      <td>0.2</td>\n",
       "      <td>Iris-setosa</td>\n",
       "    </tr>\n",
       "    <tr>\n",
       "      <th>3</th>\n",
       "      <td>4.6</td>\n",
       "      <td>3.1</td>\n",
       "      <td>1.5</td>\n",
       "      <td>0.2</td>\n",
       "      <td>Iris-setosa</td>\n",
       "    </tr>\n",
       "    <tr>\n",
       "      <th>4</th>\n",
       "      <td>5.0</td>\n",
       "      <td>3.6</td>\n",
       "      <td>1.4</td>\n",
       "      <td>0.2</td>\n",
       "      <td>Iris-setosa</td>\n",
       "    </tr>\n",
       "  </tbody>\n",
       "</table>\n",
       "</div>"
      ],
      "text/plain": [
       "   sepal length in cm  sepal width in cm  petal length in cm  \\\n",
       "0                 5.1                3.5                 1.4   \n",
       "1                 4.9                3.0                 1.4   \n",
       "2                 4.7                3.2                 1.3   \n",
       "3                 4.6                3.1                 1.5   \n",
       "4                 5.0                3.6                 1.4   \n",
       "\n",
       "   petal width in cm      species  \n",
       "0                0.2  Iris-setosa  \n",
       "1                0.2  Iris-setosa  \n",
       "2                0.2  Iris-setosa  \n",
       "3                0.2  Iris-setosa  \n",
       "4                0.2  Iris-setosa  "
      ]
     },
     "execution_count": 45,
     "metadata": {},
     "output_type": "execute_result"
    }
   ],
   "source": [
    "#웹 url 로부터 로딩\n",
    "url = \"http://archive.ics.uci.edu/ml/machine-learning-databases/iris/iris.data\"\n",
    "names=['sepal length in cm', 'sepal width in cm', 'petal length in cm', 'petal width in cm', 'species']\n",
    "df = pd.read_csv(url, names=names)\n",
    "df.head()"
   ]
  },
  {
   "cell_type": "markdown",
   "id": "2c112581",
   "metadata": {},
   "source": [
    "### scikit-learn 이나 seaborn에 포함된 데이터 사용"
   ]
  },
  {
   "cell_type": "code",
   "execution_count": 46,
   "id": "f04e5018",
   "metadata": {},
   "outputs": [
    {
     "data": {
      "text/html": [
       "<div>\n",
       "<style scoped>\n",
       "    .dataframe tbody tr th:only-of-type {\n",
       "        vertical-align: middle;\n",
       "    }\n",
       "\n",
       "    .dataframe tbody tr th {\n",
       "        vertical-align: top;\n",
       "    }\n",
       "\n",
       "    .dataframe thead th {\n",
       "        text-align: right;\n",
       "    }\n",
       "</style>\n",
       "<table border=\"1\" class=\"dataframe\">\n",
       "  <thead>\n",
       "    <tr style=\"text-align: right;\">\n",
       "      <th></th>\n",
       "      <th>sepal length (cm)</th>\n",
       "      <th>sepal width (cm)</th>\n",
       "      <th>petal length (cm)</th>\n",
       "      <th>petal width (cm)</th>\n",
       "      <th>species</th>\n",
       "    </tr>\n",
       "  </thead>\n",
       "  <tbody>\n",
       "    <tr>\n",
       "      <th>0</th>\n",
       "      <td>5.1</td>\n",
       "      <td>3.5</td>\n",
       "      <td>1.4</td>\n",
       "      <td>0.2</td>\n",
       "      <td>0</td>\n",
       "    </tr>\n",
       "    <tr>\n",
       "      <th>1</th>\n",
       "      <td>4.9</td>\n",
       "      <td>3.0</td>\n",
       "      <td>1.4</td>\n",
       "      <td>0.2</td>\n",
       "      <td>0</td>\n",
       "    </tr>\n",
       "    <tr>\n",
       "      <th>2</th>\n",
       "      <td>4.7</td>\n",
       "      <td>3.2</td>\n",
       "      <td>1.3</td>\n",
       "      <td>0.2</td>\n",
       "      <td>0</td>\n",
       "    </tr>\n",
       "    <tr>\n",
       "      <th>3</th>\n",
       "      <td>4.6</td>\n",
       "      <td>3.1</td>\n",
       "      <td>1.5</td>\n",
       "      <td>0.2</td>\n",
       "      <td>0</td>\n",
       "    </tr>\n",
       "    <tr>\n",
       "      <th>4</th>\n",
       "      <td>5.0</td>\n",
       "      <td>3.6</td>\n",
       "      <td>1.4</td>\n",
       "      <td>0.2</td>\n",
       "      <td>0</td>\n",
       "    </tr>\n",
       "  </tbody>\n",
       "</table>\n",
       "</div>"
      ],
      "text/plain": [
       "   sepal length (cm)  sepal width (cm)  petal length (cm)  petal width (cm)  \\\n",
       "0                5.1               3.5                1.4               0.2   \n",
       "1                4.9               3.0                1.4               0.2   \n",
       "2                4.7               3.2                1.3               0.2   \n",
       "3                4.6               3.1                1.5               0.2   \n",
       "4                5.0               3.6                1.4               0.2   \n",
       "\n",
       "   species  \n",
       "0        0  \n",
       "1        0  \n",
       "2        0  \n",
       "3        0  \n",
       "4        0  "
      ]
     },
     "execution_count": 46,
     "metadata": {},
     "output_type": "execute_result"
    }
   ],
   "source": [
    "# scikit-learn으로부터 데이터 불러오기\n",
    "from sklearn.datasets import load_iris\n",
    "dataset=load_iris()\n",
    "df=pd.DataFrame(dataset.data, columns=dataset.feature_names)\n",
    "df['species'] = dataset.target\n",
    "df.head()"
   ]
  },
  {
   "cell_type": "code",
   "execution_count": 47,
   "id": "53853316",
   "metadata": {},
   "outputs": [
    {
     "data": {
      "text/html": [
       "<div>\n",
       "<style scoped>\n",
       "    .dataframe tbody tr th:only-of-type {\n",
       "        vertical-align: middle;\n",
       "    }\n",
       "\n",
       "    .dataframe tbody tr th {\n",
       "        vertical-align: top;\n",
       "    }\n",
       "\n",
       "    .dataframe thead th {\n",
       "        text-align: right;\n",
       "    }\n",
       "</style>\n",
       "<table border=\"1\" class=\"dataframe\">\n",
       "  <thead>\n",
       "    <tr style=\"text-align: right;\">\n",
       "      <th></th>\n",
       "      <th>year</th>\n",
       "      <th>month</th>\n",
       "      <th>passengers</th>\n",
       "    </tr>\n",
       "  </thead>\n",
       "  <tbody>\n",
       "    <tr>\n",
       "      <th>0</th>\n",
       "      <td>1949</td>\n",
       "      <td>Jan</td>\n",
       "      <td>112</td>\n",
       "    </tr>\n",
       "    <tr>\n",
       "      <th>1</th>\n",
       "      <td>1949</td>\n",
       "      <td>Feb</td>\n",
       "      <td>118</td>\n",
       "    </tr>\n",
       "    <tr>\n",
       "      <th>2</th>\n",
       "      <td>1949</td>\n",
       "      <td>Mar</td>\n",
       "      <td>132</td>\n",
       "    </tr>\n",
       "    <tr>\n",
       "      <th>3</th>\n",
       "      <td>1949</td>\n",
       "      <td>Apr</td>\n",
       "      <td>129</td>\n",
       "    </tr>\n",
       "    <tr>\n",
       "      <th>4</th>\n",
       "      <td>1949</td>\n",
       "      <td>May</td>\n",
       "      <td>121</td>\n",
       "    </tr>\n",
       "  </tbody>\n",
       "</table>\n",
       "</div>"
      ],
      "text/plain": [
       "   year month  passengers\n",
       "0  1949   Jan         112\n",
       "1  1949   Feb         118\n",
       "2  1949   Mar         132\n",
       "3  1949   Apr         129\n",
       "4  1949   May         121"
      ]
     },
     "execution_count": 47,
     "metadata": {},
     "output_type": "execute_result"
    }
   ],
   "source": [
    "#seaborn \n",
    "df = sns.load_dataset(\"flights\")\n",
    "df.head()"
   ]
  },
  {
   "cell_type": "markdown",
   "id": "2da3a405",
   "metadata": {},
   "source": [
    "## pandas로 데이터 접근, 검색, 점검하기"
   ]
  },
  {
   "cell_type": "code",
   "execution_count": 48,
   "id": "7decf7bc",
   "metadata": {},
   "outputs": [
    {
     "name": "stdout",
     "output_type": "stream",
     "text": [
      "df.shape = (506, 15)\n"
     ]
    }
   ],
   "source": [
    "#데이터 베이스 파일에 접속\n",
    "conn = sqlite3.connect(sqlite_file)\n",
    "\n",
    "df=pd.read_sql_query(\"select * from boston;\", conn)\n",
    "print(\"df.shape = \" + str(df.shape))\n",
    "df.set_index(\"record\", inplace=True)\n",
    "conn.close()"
   ]
  },
  {
   "cell_type": "code",
   "execution_count": 49,
   "id": "5cbc4765",
   "metadata": {},
   "outputs": [
    {
     "name": "stdout",
     "output_type": "stream",
     "text": [
      "Index(['CRIM', 'ZN', 'INDUS', 'CHAS', 'NOX', 'RM', 'AGE', 'DIS', 'RAD', 'TAX',\n",
      "       'PTRATIO', 'B', 'LSTAT', 'MEDV'],\n",
      "      dtype='object')\n"
     ]
    }
   ],
   "source": [
    "#데이터 프레임의 열 확인\n",
    "print(df.columns)"
   ]
  },
  {
   "cell_type": "code",
   "execution_count": 50,
   "id": "ee4a746b",
   "metadata": {},
   "outputs": [
    {
     "name": "stdout",
     "output_type": "stream",
     "text": [
      "         count        mean         std        min         25%        50%  \\\n",
      "CRIM     506.0    3.593761    8.596783    0.00632    0.082045    0.25651   \n",
      "ZN       506.0   11.363636   23.322453    0.00000    0.000000    0.00000   \n",
      "INDUS    506.0   11.136779    6.860353    0.46000    5.190000    9.69000   \n",
      "CHAS     506.0    0.069170    0.253994    0.00000    0.000000    0.00000   \n",
      "NOX      506.0    0.554695    0.115878    0.38500    0.449000    0.53800   \n",
      "RM       506.0    6.284634    0.702617    3.56100    5.885500    6.20850   \n",
      "AGE      506.0   68.574901   28.148861    2.90000   45.025000   77.50000   \n",
      "DIS      506.0    3.795043    2.105710    1.12960    2.100175    3.20745   \n",
      "RAD      506.0    9.549407    8.707259    1.00000    4.000000    5.00000   \n",
      "TAX      506.0  408.237154  168.537116  187.00000  279.000000  330.00000   \n",
      "PTRATIO  506.0   18.455534    2.164946   12.60000   17.400000   19.05000   \n",
      "B        506.0  356.674032   91.294864    0.32000  375.377500  391.44000   \n",
      "LSTAT    506.0   12.653063    7.141062    1.73000    6.950000   11.36000   \n",
      "MEDV     506.0   22.532806    9.197104    5.00000   17.025000   21.20000   \n",
      "\n",
      "                75%       max  \n",
      "CRIM       3.647423   88.9762  \n",
      "ZN        12.500000  100.0000  \n",
      "INDUS     18.100000   27.7400  \n",
      "CHAS       0.000000    1.0000  \n",
      "NOX        0.624000    0.8710  \n",
      "RM         6.623500    8.7800  \n",
      "AGE       94.075000  100.0000  \n",
      "DIS        5.188425   12.1265  \n",
      "RAD       24.000000   24.0000  \n",
      "TAX      666.000000  711.0000  \n",
      "PTRATIO   20.200000   22.0000  \n",
      "B        396.225000  396.9000  \n",
      "LSTAT     16.955000   37.9700  \n",
      "MEDV      25.000000   50.0000  \n"
     ]
    }
   ],
   "source": [
    "# 통계량 요약 확인\n",
    "df.describe()\n",
    "# 전치 행렬 형태로 확인\n",
    "print(df.describe().transpose())"
   ]
  },
  {
   "cell_type": "code",
   "execution_count": 51,
   "id": "a00b40e8",
   "metadata": {},
   "outputs": [
    {
     "name": "stdout",
     "output_type": "stream",
     "text": [
      "<max>\n",
      "CRIM        88.9762\n",
      "ZN         100.0000\n",
      "INDUS       27.7400\n",
      "CHAS         1.0000\n",
      "NOX          0.8710\n",
      "RM           8.7800\n",
      "AGE        100.0000\n",
      "DIS         12.1265\n",
      "RAD         24.0000\n",
      "TAX        711.0000\n",
      "PTRATIO     22.0000\n",
      "B          396.9000\n",
      "LSTAT       37.9700\n",
      "MEDV        50.0000\n",
      "dtype: float64\n",
      "\n",
      "<min>\n",
      "CRIM         0.00632\n",
      "ZN           0.00000\n",
      "INDUS        0.46000\n",
      "CHAS         0.00000\n",
      "NOX          0.38500\n",
      "RM           3.56100\n",
      "AGE          2.90000\n",
      "DIS          1.12960\n",
      "RAD          1.00000\n",
      "TAX        187.00000\n",
      "PTRATIO     12.60000\n",
      "B            0.32000\n",
      "LSTAT        1.73000\n",
      "MEDV         5.00000\n",
      "dtype: float64\n",
      "\n",
      "<mean>\n",
      "CRIM         3.593761\n",
      "ZN          11.363636\n",
      "INDUS       11.136779\n",
      "CHAS         0.069170\n",
      "NOX          0.554695\n",
      "RM           6.284634\n",
      "AGE         68.574901\n",
      "DIS          3.795043\n",
      "RAD          9.549407\n",
      "TAX        408.237154\n",
      "PTRATIO     18.455534\n",
      "B          356.674032\n",
      "LSTAT       12.653063\n",
      "MEDV        22.532806\n",
      "dtype: float64\n",
      "\n",
      "<median>\n",
      "CRIM         0.25651\n",
      "ZN           0.00000\n",
      "INDUS        9.69000\n",
      "CHAS         0.00000\n",
      "NOX          0.53800\n",
      "RM           6.20850\n",
      "AGE         77.50000\n",
      "DIS          3.20745\n",
      "RAD          5.00000\n",
      "TAX        330.00000\n",
      "PTRATIO     19.05000\n",
      "B          391.44000\n",
      "LSTAT       11.36000\n",
      "MEDV        21.20000\n",
      "dtype: float64\n"
     ]
    }
   ],
   "source": [
    "#최댓값\n",
    "print(\"<max>\")\n",
    "print(df.max())\n",
    "#최솟값\n",
    "print(\"\\n<min>\")\n",
    "print(df.min())\n",
    "#평균\n",
    "print(\"\\n<mean>\")\n",
    "print(df.mean())\n",
    "#중앙값\n",
    "print(\"\\n<median>\")\n",
    "print(df.median())"
   ]
  },
  {
   "cell_type": "code",
   "execution_count": 52,
   "id": "acef865e",
   "metadata": {},
   "outputs": [
    {
     "name": "stdout",
     "output_type": "stream",
     "text": [
      "idxmax\n",
      "CRIM       380\n",
      "ZN          57\n",
      "INDUS      488\n",
      "CHAS       142\n",
      "NOX        142\n",
      "RM         364\n",
      "AGE          8\n",
      "DIS        353\n",
      "RAD        356\n",
      "TAX        488\n",
      "PTRATIO    354\n",
      "B            0\n",
      "LSTAT      374\n",
      "MEDV       161\n",
      "dtype: int64\n",
      "\n",
      "idxmin\n",
      "CRIM         0\n",
      "ZN           1\n",
      "INDUS      195\n",
      "CHAS         0\n",
      "NOX        286\n",
      "RM         365\n",
      "AGE         41\n",
      "DIS        372\n",
      "RAD          0\n",
      "TAX        353\n",
      "PTRATIO    196\n",
      "B          450\n",
      "LSTAT      161\n",
      "MEDV       398\n",
      "dtype: int64\n"
     ]
    }
   ],
   "source": [
    "#최댓값과 최솟값의 인덱스 확인\n",
    "print(\"idxmax\")\n",
    "print(df.idxmax())\n",
    "print(\"\\nidxmin\")\n",
    "print(df.idxmin())"
   ]
  },
  {
   "cell_type": "code",
   "execution_count": 53,
   "id": "4e20499b",
   "metadata": {},
   "outputs": [
    {
     "data": {
      "text/plain": [
       "CRIM         0.00632\n",
       "ZN          18.00000\n",
       "INDUS        2.31000\n",
       "CHAS         0.00000\n",
       "NOX          0.53800\n",
       "RM           6.57500\n",
       "AGE         65.20000\n",
       "DIS          4.09000\n",
       "RAD          1.00000\n",
       "TAX        296.00000\n",
       "PTRATIO     15.30000\n",
       "B          396.90000\n",
       "LSTAT        4.98000\n",
       "MEDV        24.00000\n",
       "Name: 0, dtype: float64"
      ]
     },
     "execution_count": 53,
     "metadata": {},
     "output_type": "execute_result"
    }
   ],
   "source": [
    "#데이터의 첫번째 행 구하기\n",
    "df.loc[0]"
   ]
  },
  {
   "cell_type": "code",
   "execution_count": 54,
   "id": "033b2e71",
   "metadata": {},
   "outputs": [
    {
     "data": {
      "text/plain": [
       "0.00632"
      ]
     },
     "execution_count": 54,
     "metadata": {},
     "output_type": "execute_result"
    }
   ],
   "source": [
    "#CRIM 열의 첫번째 행 구하기\n",
    "df.loc[0]['CRIM']"
   ]
  },
  {
   "cell_type": "code",
   "execution_count": 55,
   "id": "3848b867",
   "metadata": {},
   "outputs": [
    {
     "data": {
      "text/plain": [
       "68.57490118577078"
      ]
     },
     "execution_count": 55,
     "metadata": {},
     "output_type": "execute_result"
    }
   ],
   "source": [
    "#단일 열 분리하기\n",
    "df['AGE'].mean()"
   ]
  },
  {
   "cell_type": "code",
   "execution_count": 56,
   "id": "67a6d058",
   "metadata": {},
   "outputs": [
    {
     "data": {
      "text/plain": [
       "161"
      ]
     },
     "execution_count": 56,
     "metadata": {},
     "output_type": "execute_result"
    }
   ],
   "source": [
    "df['MEDV'].idxmax()"
   ]
  },
  {
   "cell_type": "code",
   "execution_count": 57,
   "id": "5f9c7203",
   "metadata": {},
   "outputs": [
    {
     "data": {
      "text/html": [
       "<div>\n",
       "<style scoped>\n",
       "    .dataframe tbody tr th:only-of-type {\n",
       "        vertical-align: middle;\n",
       "    }\n",
       "\n",
       "    .dataframe tbody tr th {\n",
       "        vertical-align: top;\n",
       "    }\n",
       "\n",
       "    .dataframe thead th {\n",
       "        text-align: right;\n",
       "    }\n",
       "</style>\n",
       "<table border=\"1\" class=\"dataframe\">\n",
       "  <thead>\n",
       "    <tr style=\"text-align: right;\">\n",
       "      <th></th>\n",
       "      <th>CRIM</th>\n",
       "      <th>ZN</th>\n",
       "      <th>INDUS</th>\n",
       "      <th>CHAS</th>\n",
       "      <th>NOX</th>\n",
       "      <th>RM</th>\n",
       "      <th>AGE</th>\n",
       "      <th>DIS</th>\n",
       "      <th>RAD</th>\n",
       "      <th>TAX</th>\n",
       "      <th>PTRATIO</th>\n",
       "      <th>B</th>\n",
       "      <th>LSTAT</th>\n",
       "      <th>MEDV</th>\n",
       "    </tr>\n",
       "    <tr>\n",
       "      <th>record</th>\n",
       "      <th></th>\n",
       "      <th></th>\n",
       "      <th></th>\n",
       "      <th></th>\n",
       "      <th></th>\n",
       "      <th></th>\n",
       "      <th></th>\n",
       "      <th></th>\n",
       "      <th></th>\n",
       "      <th></th>\n",
       "      <th></th>\n",
       "      <th></th>\n",
       "      <th></th>\n",
       "      <th></th>\n",
       "    </tr>\n",
       "  </thead>\n",
       "  <tbody>\n",
       "    <tr>\n",
       "      <th>505</th>\n",
       "      <td>0.04741</td>\n",
       "      <td>0.0</td>\n",
       "      <td>11.93</td>\n",
       "      <td>0.0</td>\n",
       "      <td>0.5730</td>\n",
       "      <td>6.030</td>\n",
       "      <td>80.8</td>\n",
       "      <td>2.5050</td>\n",
       "      <td>1.0</td>\n",
       "      <td>273.0</td>\n",
       "      <td>21.0</td>\n",
       "      <td>396.90</td>\n",
       "      <td>7.88</td>\n",
       "      <td>11.9</td>\n",
       "    </tr>\n",
       "    <tr>\n",
       "      <th>439</th>\n",
       "      <td>9.39063</td>\n",
       "      <td>0.0</td>\n",
       "      <td>18.10</td>\n",
       "      <td>0.0</td>\n",
       "      <td>0.7400</td>\n",
       "      <td>5.627</td>\n",
       "      <td>93.9</td>\n",
       "      <td>1.8172</td>\n",
       "      <td>24.0</td>\n",
       "      <td>666.0</td>\n",
       "      <td>20.2</td>\n",
       "      <td>396.90</td>\n",
       "      <td>22.88</td>\n",
       "      <td>12.8</td>\n",
       "    </tr>\n",
       "    <tr>\n",
       "      <th>440</th>\n",
       "      <td>22.05110</td>\n",
       "      <td>0.0</td>\n",
       "      <td>18.10</td>\n",
       "      <td>0.0</td>\n",
       "      <td>0.7400</td>\n",
       "      <td>5.818</td>\n",
       "      <td>92.4</td>\n",
       "      <td>1.8662</td>\n",
       "      <td>24.0</td>\n",
       "      <td>666.0</td>\n",
       "      <td>20.2</td>\n",
       "      <td>391.45</td>\n",
       "      <td>22.11</td>\n",
       "      <td>10.5</td>\n",
       "    </tr>\n",
       "    <tr>\n",
       "      <th>441</th>\n",
       "      <td>9.72418</td>\n",
       "      <td>0.0</td>\n",
       "      <td>18.10</td>\n",
       "      <td>0.0</td>\n",
       "      <td>0.7400</td>\n",
       "      <td>6.406</td>\n",
       "      <td>97.2</td>\n",
       "      <td>2.0651</td>\n",
       "      <td>24.0</td>\n",
       "      <td>666.0</td>\n",
       "      <td>20.2</td>\n",
       "      <td>385.96</td>\n",
       "      <td>19.52</td>\n",
       "      <td>17.1</td>\n",
       "    </tr>\n",
       "    <tr>\n",
       "      <th>442</th>\n",
       "      <td>5.66637</td>\n",
       "      <td>0.0</td>\n",
       "      <td>18.10</td>\n",
       "      <td>0.0</td>\n",
       "      <td>0.7400</td>\n",
       "      <td>6.219</td>\n",
       "      <td>100.0</td>\n",
       "      <td>2.0048</td>\n",
       "      <td>24.0</td>\n",
       "      <td>666.0</td>\n",
       "      <td>20.2</td>\n",
       "      <td>395.69</td>\n",
       "      <td>16.59</td>\n",
       "      <td>18.4</td>\n",
       "    </tr>\n",
       "    <tr>\n",
       "      <th>...</th>\n",
       "      <td>...</td>\n",
       "      <td>...</td>\n",
       "      <td>...</td>\n",
       "      <td>...</td>\n",
       "      <td>...</td>\n",
       "      <td>...</td>\n",
       "      <td>...</td>\n",
       "      <td>...</td>\n",
       "      <td>...</td>\n",
       "      <td>...</td>\n",
       "      <td>...</td>\n",
       "      <td>...</td>\n",
       "      <td>...</td>\n",
       "      <td>...</td>\n",
       "    </tr>\n",
       "    <tr>\n",
       "      <th>203</th>\n",
       "      <td>0.03510</td>\n",
       "      <td>95.0</td>\n",
       "      <td>2.68</td>\n",
       "      <td>0.0</td>\n",
       "      <td>0.4161</td>\n",
       "      <td>7.853</td>\n",
       "      <td>33.2</td>\n",
       "      <td>5.1180</td>\n",
       "      <td>4.0</td>\n",
       "      <td>224.0</td>\n",
       "      <td>14.7</td>\n",
       "      <td>392.78</td>\n",
       "      <td>3.81</td>\n",
       "      <td>48.5</td>\n",
       "    </tr>\n",
       "    <tr>\n",
       "      <th>200</th>\n",
       "      <td>0.01778</td>\n",
       "      <td>95.0</td>\n",
       "      <td>1.47</td>\n",
       "      <td>0.0</td>\n",
       "      <td>0.4030</td>\n",
       "      <td>7.135</td>\n",
       "      <td>13.9</td>\n",
       "      <td>7.6534</td>\n",
       "      <td>3.0</td>\n",
       "      <td>402.0</td>\n",
       "      <td>17.0</td>\n",
       "      <td>384.30</td>\n",
       "      <td>4.45</td>\n",
       "      <td>32.9</td>\n",
       "    </tr>\n",
       "    <tr>\n",
       "      <th>199</th>\n",
       "      <td>0.03150</td>\n",
       "      <td>95.0</td>\n",
       "      <td>1.47</td>\n",
       "      <td>0.0</td>\n",
       "      <td>0.4030</td>\n",
       "      <td>6.975</td>\n",
       "      <td>15.3</td>\n",
       "      <td>7.6534</td>\n",
       "      <td>3.0</td>\n",
       "      <td>402.0</td>\n",
       "      <td>17.0</td>\n",
       "      <td>396.90</td>\n",
       "      <td>4.56</td>\n",
       "      <td>34.9</td>\n",
       "    </tr>\n",
       "    <tr>\n",
       "      <th>204</th>\n",
       "      <td>0.02009</td>\n",
       "      <td>95.0</td>\n",
       "      <td>2.68</td>\n",
       "      <td>0.0</td>\n",
       "      <td>0.4161</td>\n",
       "      <td>8.034</td>\n",
       "      <td>31.9</td>\n",
       "      <td>5.1180</td>\n",
       "      <td>4.0</td>\n",
       "      <td>224.0</td>\n",
       "      <td>14.7</td>\n",
       "      <td>390.55</td>\n",
       "      <td>2.88</td>\n",
       "      <td>50.0</td>\n",
       "    </tr>\n",
       "    <tr>\n",
       "      <th>57</th>\n",
       "      <td>0.01432</td>\n",
       "      <td>100.0</td>\n",
       "      <td>1.32</td>\n",
       "      <td>0.0</td>\n",
       "      <td>0.4110</td>\n",
       "      <td>6.816</td>\n",
       "      <td>40.5</td>\n",
       "      <td>8.3248</td>\n",
       "      <td>5.0</td>\n",
       "      <td>256.0</td>\n",
       "      <td>15.1</td>\n",
       "      <td>392.90</td>\n",
       "      <td>3.95</td>\n",
       "      <td>31.6</td>\n",
       "    </tr>\n",
       "  </tbody>\n",
       "</table>\n",
       "<p>506 rows × 14 columns</p>\n",
       "</div>"
      ],
      "text/plain": [
       "            CRIM     ZN  INDUS  CHAS     NOX     RM    AGE     DIS   RAD  \\\n",
       "record                                                                     \n",
       "505      0.04741    0.0  11.93   0.0  0.5730  6.030   80.8  2.5050   1.0   \n",
       "439      9.39063    0.0  18.10   0.0  0.7400  5.627   93.9  1.8172  24.0   \n",
       "440     22.05110    0.0  18.10   0.0  0.7400  5.818   92.4  1.8662  24.0   \n",
       "441      9.72418    0.0  18.10   0.0  0.7400  6.406   97.2  2.0651  24.0   \n",
       "442      5.66637    0.0  18.10   0.0  0.7400  6.219  100.0  2.0048  24.0   \n",
       "...          ...    ...    ...   ...     ...    ...    ...     ...   ...   \n",
       "203      0.03510   95.0   2.68   0.0  0.4161  7.853   33.2  5.1180   4.0   \n",
       "200      0.01778   95.0   1.47   0.0  0.4030  7.135   13.9  7.6534   3.0   \n",
       "199      0.03150   95.0   1.47   0.0  0.4030  6.975   15.3  7.6534   3.0   \n",
       "204      0.02009   95.0   2.68   0.0  0.4161  8.034   31.9  5.1180   4.0   \n",
       "57       0.01432  100.0   1.32   0.0  0.4110  6.816   40.5  8.3248   5.0   \n",
       "\n",
       "          TAX  PTRATIO       B  LSTAT  MEDV  \n",
       "record                                       \n",
       "505     273.0     21.0  396.90   7.88  11.9  \n",
       "439     666.0     20.2  396.90  22.88  12.8  \n",
       "440     666.0     20.2  391.45  22.11  10.5  \n",
       "441     666.0     20.2  385.96  19.52  17.1  \n",
       "442     666.0     20.2  395.69  16.59  18.4  \n",
       "...       ...      ...     ...    ...   ...  \n",
       "203     224.0     14.7  392.78   3.81  48.5  \n",
       "200     402.0     17.0  384.30   4.45  32.9  \n",
       "199     402.0     17.0  396.90   4.56  34.9  \n",
       "204     224.0     14.7  390.55   2.88  50.0  \n",
       "57      256.0     15.1  392.90   3.95  31.6  \n",
       "\n",
       "[506 rows x 14 columns]"
      ]
     },
     "execution_count": 57,
     "metadata": {},
     "output_type": "execute_result"
    }
   ],
   "source": [
    "#by 옵션을 사용해 특정 열에 따라 정렬 : 일시적, 메모리는 그대로 존재\n",
    "#pandas의 sort()는 기본설정으로 내림차순으로 정렬\n",
    "#오름차순 정렬\n",
    "df.sort_values(by='ZN')"
   ]
  },
  {
   "cell_type": "code",
   "execution_count": 58,
   "id": "215541bf",
   "metadata": {},
   "outputs": [
    {
     "data": {
      "text/html": [
       "<div>\n",
       "<style scoped>\n",
       "    .dataframe tbody tr th:only-of-type {\n",
       "        vertical-align: middle;\n",
       "    }\n",
       "\n",
       "    .dataframe tbody tr th {\n",
       "        vertical-align: top;\n",
       "    }\n",
       "\n",
       "    .dataframe thead th {\n",
       "        text-align: right;\n",
       "    }\n",
       "</style>\n",
       "<table border=\"1\" class=\"dataframe\">\n",
       "  <thead>\n",
       "    <tr style=\"text-align: right;\">\n",
       "      <th></th>\n",
       "      <th>CRIM</th>\n",
       "      <th>ZN</th>\n",
       "      <th>INDUS</th>\n",
       "      <th>CHAS</th>\n",
       "      <th>NOX</th>\n",
       "      <th>RM</th>\n",
       "      <th>AGE</th>\n",
       "      <th>DIS</th>\n",
       "      <th>RAD</th>\n",
       "      <th>TAX</th>\n",
       "      <th>PTRATIO</th>\n",
       "      <th>B</th>\n",
       "      <th>LSTAT</th>\n",
       "      <th>MEDV</th>\n",
       "    </tr>\n",
       "    <tr>\n",
       "      <th>record</th>\n",
       "      <th></th>\n",
       "      <th></th>\n",
       "      <th></th>\n",
       "      <th></th>\n",
       "      <th></th>\n",
       "      <th></th>\n",
       "      <th></th>\n",
       "      <th></th>\n",
       "      <th></th>\n",
       "      <th></th>\n",
       "      <th></th>\n",
       "      <th></th>\n",
       "      <th></th>\n",
       "      <th></th>\n",
       "    </tr>\n",
       "  </thead>\n",
       "  <tbody>\n",
       "    <tr>\n",
       "      <th>57</th>\n",
       "      <td>0.01432</td>\n",
       "      <td>100.0</td>\n",
       "      <td>1.32</td>\n",
       "      <td>0.0</td>\n",
       "      <td>0.4110</td>\n",
       "      <td>6.816</td>\n",
       "      <td>40.5</td>\n",
       "      <td>8.3248</td>\n",
       "      <td>5.0</td>\n",
       "      <td>256.0</td>\n",
       "      <td>15.1</td>\n",
       "      <td>392.90</td>\n",
       "      <td>3.95</td>\n",
       "      <td>31.6</td>\n",
       "    </tr>\n",
       "    <tr>\n",
       "      <th>204</th>\n",
       "      <td>0.02009</td>\n",
       "      <td>95.0</td>\n",
       "      <td>2.68</td>\n",
       "      <td>0.0</td>\n",
       "      <td>0.4161</td>\n",
       "      <td>8.034</td>\n",
       "      <td>31.9</td>\n",
       "      <td>5.1180</td>\n",
       "      <td>4.0</td>\n",
       "      <td>224.0</td>\n",
       "      <td>14.7</td>\n",
       "      <td>390.55</td>\n",
       "      <td>2.88</td>\n",
       "      <td>50.0</td>\n",
       "    </tr>\n",
       "    <tr>\n",
       "      <th>203</th>\n",
       "      <td>0.03510</td>\n",
       "      <td>95.0</td>\n",
       "      <td>2.68</td>\n",
       "      <td>0.0</td>\n",
       "      <td>0.4161</td>\n",
       "      <td>7.853</td>\n",
       "      <td>33.2</td>\n",
       "      <td>5.1180</td>\n",
       "      <td>4.0</td>\n",
       "      <td>224.0</td>\n",
       "      <td>14.7</td>\n",
       "      <td>392.78</td>\n",
       "      <td>3.81</td>\n",
       "      <td>48.5</td>\n",
       "    </tr>\n",
       "    <tr>\n",
       "      <th>200</th>\n",
       "      <td>0.01778</td>\n",
       "      <td>95.0</td>\n",
       "      <td>1.47</td>\n",
       "      <td>0.0</td>\n",
       "      <td>0.4030</td>\n",
       "      <td>7.135</td>\n",
       "      <td>13.9</td>\n",
       "      <td>7.6534</td>\n",
       "      <td>3.0</td>\n",
       "      <td>402.0</td>\n",
       "      <td>17.0</td>\n",
       "      <td>384.30</td>\n",
       "      <td>4.45</td>\n",
       "      <td>32.9</td>\n",
       "    </tr>\n",
       "    <tr>\n",
       "      <th>199</th>\n",
       "      <td>0.03150</td>\n",
       "      <td>95.0</td>\n",
       "      <td>1.47</td>\n",
       "      <td>0.0</td>\n",
       "      <td>0.4030</td>\n",
       "      <td>6.975</td>\n",
       "      <td>15.3</td>\n",
       "      <td>7.6534</td>\n",
       "      <td>3.0</td>\n",
       "      <td>402.0</td>\n",
       "      <td>17.0</td>\n",
       "      <td>396.90</td>\n",
       "      <td>4.56</td>\n",
       "      <td>34.9</td>\n",
       "    </tr>\n",
       "  </tbody>\n",
       "</table>\n",
       "</div>"
      ],
      "text/plain": [
       "           CRIM     ZN  INDUS  CHAS     NOX     RM   AGE     DIS  RAD    TAX  \\\n",
       "record                                                                         \n",
       "57      0.01432  100.0   1.32   0.0  0.4110  6.816  40.5  8.3248  5.0  256.0   \n",
       "204     0.02009   95.0   2.68   0.0  0.4161  8.034  31.9  5.1180  4.0  224.0   \n",
       "203     0.03510   95.0   2.68   0.0  0.4161  7.853  33.2  5.1180  4.0  224.0   \n",
       "200     0.01778   95.0   1.47   0.0  0.4030  7.135  13.9  7.6534  3.0  402.0   \n",
       "199     0.03150   95.0   1.47   0.0  0.4030  6.975  15.3  7.6534  3.0  402.0   \n",
       "\n",
       "        PTRATIO       B  LSTAT  MEDV  \n",
       "record                                \n",
       "57         15.1  392.90   3.95  31.6  \n",
       "204        14.7  390.55   2.88  50.0  \n",
       "203        14.7  392.78   3.81  48.5  \n",
       "200        17.0  384.30   4.45  32.9  \n",
       "199        17.0  396.90   4.56  34.9  "
      ]
     },
     "execution_count": 58,
     "metadata": {},
     "output_type": "execute_result"
    }
   ],
   "source": [
    "#내림차순 정렬\n",
    "df.sort_values(by='ZN', ascending=False).head()"
   ]
  },
  {
   "cell_type": "code",
   "execution_count": 59,
   "id": "c75261ae",
   "metadata": {},
   "outputs": [],
   "source": [
    "#inplace : 메모리의 데이터의 정렬을 영원히 바꿈\n",
    "df.sort_values(by=\"ZN\", inplace=True)"
   ]
  },
  {
   "cell_type": "code",
   "execution_count": 60,
   "id": "9b65b236",
   "metadata": {},
   "outputs": [
    {
     "data": {
      "text/html": [
       "<div>\n",
       "<style scoped>\n",
       "    .dataframe tbody tr th:only-of-type {\n",
       "        vertical-align: middle;\n",
       "    }\n",
       "\n",
       "    .dataframe tbody tr th {\n",
       "        vertical-align: top;\n",
       "    }\n",
       "\n",
       "    .dataframe thead th {\n",
       "        text-align: right;\n",
       "    }\n",
       "</style>\n",
       "<table border=\"1\" class=\"dataframe\">\n",
       "  <thead>\n",
       "    <tr style=\"text-align: right;\">\n",
       "      <th></th>\n",
       "      <th>CRIM</th>\n",
       "      <th>ZN</th>\n",
       "      <th>INDUS</th>\n",
       "      <th>CHAS</th>\n",
       "      <th>NOX</th>\n",
       "      <th>RM</th>\n",
       "      <th>AGE</th>\n",
       "      <th>DIS</th>\n",
       "      <th>RAD</th>\n",
       "      <th>TAX</th>\n",
       "      <th>PTRATIO</th>\n",
       "      <th>B</th>\n",
       "      <th>LSTAT</th>\n",
       "      <th>MEDV</th>\n",
       "    </tr>\n",
       "    <tr>\n",
       "      <th>record</th>\n",
       "      <th></th>\n",
       "      <th></th>\n",
       "      <th></th>\n",
       "      <th></th>\n",
       "      <th></th>\n",
       "      <th></th>\n",
       "      <th></th>\n",
       "      <th></th>\n",
       "      <th></th>\n",
       "      <th></th>\n",
       "      <th></th>\n",
       "      <th></th>\n",
       "      <th></th>\n",
       "      <th></th>\n",
       "    </tr>\n",
       "  </thead>\n",
       "  <tbody>\n",
       "    <tr>\n",
       "      <th>505</th>\n",
       "      <td>0.04741</td>\n",
       "      <td>0.0</td>\n",
       "      <td>11.93</td>\n",
       "      <td>0.0</td>\n",
       "      <td>0.573</td>\n",
       "      <td>6.030</td>\n",
       "      <td>80.8</td>\n",
       "      <td>2.5050</td>\n",
       "      <td>1.0</td>\n",
       "      <td>273.0</td>\n",
       "      <td>21.0</td>\n",
       "      <td>396.90</td>\n",
       "      <td>7.88</td>\n",
       "      <td>11.9</td>\n",
       "    </tr>\n",
       "    <tr>\n",
       "      <th>439</th>\n",
       "      <td>9.39063</td>\n",
       "      <td>0.0</td>\n",
       "      <td>18.10</td>\n",
       "      <td>0.0</td>\n",
       "      <td>0.740</td>\n",
       "      <td>5.627</td>\n",
       "      <td>93.9</td>\n",
       "      <td>1.8172</td>\n",
       "      <td>24.0</td>\n",
       "      <td>666.0</td>\n",
       "      <td>20.2</td>\n",
       "      <td>396.90</td>\n",
       "      <td>22.88</td>\n",
       "      <td>12.8</td>\n",
       "    </tr>\n",
       "    <tr>\n",
       "      <th>440</th>\n",
       "      <td>22.05110</td>\n",
       "      <td>0.0</td>\n",
       "      <td>18.10</td>\n",
       "      <td>0.0</td>\n",
       "      <td>0.740</td>\n",
       "      <td>5.818</td>\n",
       "      <td>92.4</td>\n",
       "      <td>1.8662</td>\n",
       "      <td>24.0</td>\n",
       "      <td>666.0</td>\n",
       "      <td>20.2</td>\n",
       "      <td>391.45</td>\n",
       "      <td>22.11</td>\n",
       "      <td>10.5</td>\n",
       "    </tr>\n",
       "    <tr>\n",
       "      <th>441</th>\n",
       "      <td>9.72418</td>\n",
       "      <td>0.0</td>\n",
       "      <td>18.10</td>\n",
       "      <td>0.0</td>\n",
       "      <td>0.740</td>\n",
       "      <td>6.406</td>\n",
       "      <td>97.2</td>\n",
       "      <td>2.0651</td>\n",
       "      <td>24.0</td>\n",
       "      <td>666.0</td>\n",
       "      <td>20.2</td>\n",
       "      <td>385.96</td>\n",
       "      <td>19.52</td>\n",
       "      <td>17.1</td>\n",
       "    </tr>\n",
       "    <tr>\n",
       "      <th>442</th>\n",
       "      <td>5.66637</td>\n",
       "      <td>0.0</td>\n",
       "      <td>18.10</td>\n",
       "      <td>0.0</td>\n",
       "      <td>0.740</td>\n",
       "      <td>6.219</td>\n",
       "      <td>100.0</td>\n",
       "      <td>2.0048</td>\n",
       "      <td>24.0</td>\n",
       "      <td>666.0</td>\n",
       "      <td>20.2</td>\n",
       "      <td>395.69</td>\n",
       "      <td>16.59</td>\n",
       "      <td>18.4</td>\n",
       "    </tr>\n",
       "  </tbody>\n",
       "</table>\n",
       "</div>"
      ],
      "text/plain": [
       "            CRIM   ZN  INDUS  CHAS    NOX     RM    AGE     DIS   RAD    TAX  \\\n",
       "record                                                                         \n",
       "505      0.04741  0.0  11.93   0.0  0.573  6.030   80.8  2.5050   1.0  273.0   \n",
       "439      9.39063  0.0  18.10   0.0  0.740  5.627   93.9  1.8172  24.0  666.0   \n",
       "440     22.05110  0.0  18.10   0.0  0.740  5.818   92.4  1.8662  24.0  666.0   \n",
       "441      9.72418  0.0  18.10   0.0  0.740  6.406   97.2  2.0651  24.0  666.0   \n",
       "442      5.66637  0.0  18.10   0.0  0.740  6.219  100.0  2.0048  24.0  666.0   \n",
       "\n",
       "        PTRATIO       B  LSTAT  MEDV  \n",
       "record                                \n",
       "505        21.0  396.90   7.88  11.9  \n",
       "439        20.2  396.90  22.88  12.8  \n",
       "440        20.2  391.45  22.11  10.5  \n",
       "441        20.2  385.96  19.52  17.1  \n",
       "442        20.2  395.69  16.59  18.4  "
      ]
     },
     "execution_count": 60,
     "metadata": {},
     "output_type": "execute_result"
    }
   ],
   "source": [
    "#영구적으로 정렬된 테이블에서 df.head() 불러오기\n",
    "df.head()"
   ]
  },
  {
   "cell_type": "code",
   "execution_count": 61,
   "id": "a0874d20",
   "metadata": {},
   "outputs": [
    {
     "name": "stdout",
     "output_type": "stream",
     "text": [
      "           CRIM    ZN  INDUS  CHAS    NOX     RM   AGE     DIS  RAD    TAX  \\\n",
      "record                                                                       \n",
      "0       0.00632  18.0   2.31   0.0  0.538  6.575  65.2  4.0900  1.0  296.0   \n",
      "1       0.02731   0.0   7.07   0.0  0.469  6.421  78.9  4.9671  2.0  242.0   \n",
      "2       0.02729   0.0   7.07   0.0  0.469  7.185  61.1  4.9671  2.0  242.0   \n",
      "3       0.03237   0.0   2.18   0.0  0.458  6.998  45.8  6.0622  3.0  222.0   \n",
      "4       0.06905   0.0   2.18   0.0  0.458  7.147  54.2  6.0622  3.0  222.0   \n",
      "\n",
      "        PTRATIO       B  LSTAT  MEDV  \n",
      "record                                \n",
      "0          15.3  396.90   4.98  24.0  \n",
      "1          17.8  396.90   9.14  21.6  \n",
      "2          17.8  392.83   4.03  34.7  \n",
      "3          18.7  394.63   2.94  33.4  \n",
      "4          18.7  396.90   5.33  36.2  \n"
     ]
    }
   ],
   "source": [
    "#영구적인 정렬을 철회하고 싶으면 : 원래의 인덱스 열에 따라 다시 정렬\n",
    "#원래의 인덱스로 정렬\n",
    "df.sort_values(by=\"record\",inplace=True)\n",
    "print(df.head())"
   ]
  },
  {
   "cell_type": "code",
   "execution_count": 62,
   "id": "f4fc85a3",
   "metadata": {},
   "outputs": [
    {
     "data": {
      "text/html": [
       "<div>\n",
       "<style scoped>\n",
       "    .dataframe tbody tr th:only-of-type {\n",
       "        vertical-align: middle;\n",
       "    }\n",
       "\n",
       "    .dataframe tbody tr th {\n",
       "        vertical-align: top;\n",
       "    }\n",
       "\n",
       "    .dataframe thead th {\n",
       "        text-align: right;\n",
       "    }\n",
       "</style>\n",
       "<table border=\"1\" class=\"dataframe\">\n",
       "  <thead>\n",
       "    <tr style=\"text-align: right;\">\n",
       "      <th></th>\n",
       "      <th>CRIM</th>\n",
       "      <th>ZN</th>\n",
       "      <th>INDUS</th>\n",
       "      <th>CHAS</th>\n",
       "      <th>NOX</th>\n",
       "      <th>RM</th>\n",
       "      <th>AGE</th>\n",
       "      <th>DIS</th>\n",
       "      <th>RAD</th>\n",
       "      <th>TAX</th>\n",
       "      <th>PTRATIO</th>\n",
       "      <th>B</th>\n",
       "      <th>LSTAT</th>\n",
       "      <th>MEDV</th>\n",
       "    </tr>\n",
       "    <tr>\n",
       "      <th>record</th>\n",
       "      <th></th>\n",
       "      <th></th>\n",
       "      <th></th>\n",
       "      <th></th>\n",
       "      <th></th>\n",
       "      <th></th>\n",
       "      <th></th>\n",
       "      <th></th>\n",
       "      <th></th>\n",
       "      <th></th>\n",
       "      <th></th>\n",
       "      <th></th>\n",
       "      <th></th>\n",
       "      <th></th>\n",
       "    </tr>\n",
       "  </thead>\n",
       "  <tbody>\n",
       "    <tr>\n",
       "      <th>0</th>\n",
       "      <td>0.00632</td>\n",
       "      <td>18.0</td>\n",
       "      <td>2.31</td>\n",
       "      <td>0.0</td>\n",
       "      <td>0.538</td>\n",
       "      <td>6.575</td>\n",
       "      <td>65.2</td>\n",
       "      <td>4.0900</td>\n",
       "      <td>1.0</td>\n",
       "      <td>296.0</td>\n",
       "      <td>15.3</td>\n",
       "      <td>396.90</td>\n",
       "      <td>4.98</td>\n",
       "      <td>24.0</td>\n",
       "    </tr>\n",
       "    <tr>\n",
       "      <th>2</th>\n",
       "      <td>0.02729</td>\n",
       "      <td>0.0</td>\n",
       "      <td>7.07</td>\n",
       "      <td>0.0</td>\n",
       "      <td>0.469</td>\n",
       "      <td>7.185</td>\n",
       "      <td>61.1</td>\n",
       "      <td>4.9671</td>\n",
       "      <td>2.0</td>\n",
       "      <td>242.0</td>\n",
       "      <td>17.8</td>\n",
       "      <td>392.83</td>\n",
       "      <td>4.03</td>\n",
       "      <td>34.7</td>\n",
       "    </tr>\n",
       "    <tr>\n",
       "      <th>4</th>\n",
       "      <td>0.06905</td>\n",
       "      <td>0.0</td>\n",
       "      <td>2.18</td>\n",
       "      <td>0.0</td>\n",
       "      <td>0.458</td>\n",
       "      <td>7.147</td>\n",
       "      <td>54.2</td>\n",
       "      <td>6.0622</td>\n",
       "      <td>3.0</td>\n",
       "      <td>222.0</td>\n",
       "      <td>18.7</td>\n",
       "      <td>396.90</td>\n",
       "      <td>5.33</td>\n",
       "      <td>36.2</td>\n",
       "    </tr>\n",
       "    <tr>\n",
       "      <th>6</th>\n",
       "      <td>0.08829</td>\n",
       "      <td>12.5</td>\n",
       "      <td>7.87</td>\n",
       "      <td>0.0</td>\n",
       "      <td>0.524</td>\n",
       "      <td>6.012</td>\n",
       "      <td>66.6</td>\n",
       "      <td>5.5605</td>\n",
       "      <td>5.0</td>\n",
       "      <td>311.0</td>\n",
       "      <td>15.2</td>\n",
       "      <td>395.60</td>\n",
       "      <td>12.43</td>\n",
       "      <td>22.9</td>\n",
       "    </tr>\n",
       "    <tr>\n",
       "      <th>8</th>\n",
       "      <td>0.21124</td>\n",
       "      <td>12.5</td>\n",
       "      <td>7.87</td>\n",
       "      <td>0.0</td>\n",
       "      <td>0.524</td>\n",
       "      <td>5.631</td>\n",
       "      <td>100.0</td>\n",
       "      <td>6.0821</td>\n",
       "      <td>5.0</td>\n",
       "      <td>311.0</td>\n",
       "      <td>15.2</td>\n",
       "      <td>386.63</td>\n",
       "      <td>29.93</td>\n",
       "      <td>16.5</td>\n",
       "    </tr>\n",
       "  </tbody>\n",
       "</table>\n",
       "</div>"
      ],
      "text/plain": [
       "           CRIM    ZN  INDUS  CHAS    NOX     RM    AGE     DIS  RAD    TAX  \\\n",
       "record                                                                        \n",
       "0       0.00632  18.0   2.31   0.0  0.538  6.575   65.2  4.0900  1.0  296.0   \n",
       "2       0.02729   0.0   7.07   0.0  0.469  7.185   61.1  4.9671  2.0  242.0   \n",
       "4       0.06905   0.0   2.18   0.0  0.458  7.147   54.2  6.0622  3.0  222.0   \n",
       "6       0.08829  12.5   7.87   0.0  0.524  6.012   66.6  5.5605  5.0  311.0   \n",
       "8       0.21124  12.5   7.87   0.0  0.524  5.631  100.0  6.0821  5.0  311.0   \n",
       "\n",
       "        PTRATIO       B  LSTAT  MEDV  \n",
       "record                                \n",
       "0          15.3  396.90   4.98  24.0  \n",
       "2          17.8  392.83   4.03  34.7  \n",
       "4          18.7  396.90   5.33  36.2  \n",
       "6          15.2  395.60  12.43  22.9  \n",
       "8          15.2  386.63  29.93  16.5  "
      ]
     },
     "execution_count": 62,
     "metadata": {},
     "output_type": "execute_result"
    }
   ],
   "source": [
    "# 짝수 레코드만 보여주도록 데이터 프레임 필터 적용 \n",
    "df[df.index %2 == 0].head()"
   ]
  },
  {
   "cell_type": "code",
   "execution_count": 63,
   "id": "b4eb2e56",
   "metadata": {},
   "outputs": [
    {
     "data": {
      "text/html": [
       "<div>\n",
       "<style scoped>\n",
       "    .dataframe tbody tr th:only-of-type {\n",
       "        vertical-align: middle;\n",
       "    }\n",
       "\n",
       "    .dataframe tbody tr th {\n",
       "        vertical-align: top;\n",
       "    }\n",
       "\n",
       "    .dataframe thead th {\n",
       "        text-align: right;\n",
       "    }\n",
       "</style>\n",
       "<table border=\"1\" class=\"dataframe\">\n",
       "  <thead>\n",
       "    <tr style=\"text-align: right;\">\n",
       "      <th></th>\n",
       "      <th>count</th>\n",
       "      <th>mean</th>\n",
       "      <th>std</th>\n",
       "      <th>min</th>\n",
       "      <th>25%</th>\n",
       "      <th>50%</th>\n",
       "      <th>75%</th>\n",
       "      <th>max</th>\n",
       "    </tr>\n",
       "  </thead>\n",
       "  <tbody>\n",
       "    <tr>\n",
       "      <th>CRIM</th>\n",
       "      <td>111.0</td>\n",
       "      <td>9.131193</td>\n",
       "      <td>12.525663</td>\n",
       "      <td>0.09849</td>\n",
       "      <td>1.20826</td>\n",
       "      <td>5.87205</td>\n",
       "      <td>11.7645</td>\n",
       "      <td>73.5341</td>\n",
       "    </tr>\n",
       "    <tr>\n",
       "      <th>ZN</th>\n",
       "      <td>111.0</td>\n",
       "      <td>0.585586</td>\n",
       "      <td>3.125317</td>\n",
       "      <td>0.00000</td>\n",
       "      <td>0.00000</td>\n",
       "      <td>0.00000</td>\n",
       "      <td>0.0000</td>\n",
       "      <td>20.0000</td>\n",
       "    </tr>\n",
       "    <tr>\n",
       "      <th>INDUS</th>\n",
       "      <td>111.0</td>\n",
       "      <td>17.862342</td>\n",
       "      <td>4.606760</td>\n",
       "      <td>2.46000</td>\n",
       "      <td>18.10000</td>\n",
       "      <td>18.10000</td>\n",
       "      <td>19.5800</td>\n",
       "      <td>27.7400</td>\n",
       "    </tr>\n",
       "    <tr>\n",
       "      <th>CHAS</th>\n",
       "      <td>111.0</td>\n",
       "      <td>0.063063</td>\n",
       "      <td>0.244179</td>\n",
       "      <td>0.00000</td>\n",
       "      <td>0.00000</td>\n",
       "      <td>0.00000</td>\n",
       "      <td>0.0000</td>\n",
       "      <td>1.0000</td>\n",
       "    </tr>\n",
       "    <tr>\n",
       "      <th>NOX</th>\n",
       "      <td>111.0</td>\n",
       "      <td>0.664649</td>\n",
       "      <td>0.093411</td>\n",
       "      <td>0.44800</td>\n",
       "      <td>0.60500</td>\n",
       "      <td>0.65900</td>\n",
       "      <td>0.7000</td>\n",
       "      <td>0.8710</td>\n",
       "    </tr>\n",
       "    <tr>\n",
       "      <th>RM</th>\n",
       "      <td>111.0</td>\n",
       "      <td>5.940144</td>\n",
       "      <td>0.712860</td>\n",
       "      <td>3.86300</td>\n",
       "      <td>5.49400</td>\n",
       "      <td>6.00600</td>\n",
       "      <td>6.4030</td>\n",
       "      <td>7.9290</td>\n",
       "    </tr>\n",
       "    <tr>\n",
       "      <th>AGE</th>\n",
       "      <td>111.0</td>\n",
       "      <td>98.280180</td>\n",
       "      <td>1.657864</td>\n",
       "      <td>95.20000</td>\n",
       "      <td>96.95000</td>\n",
       "      <td>98.40000</td>\n",
       "      <td>100.0000</td>\n",
       "      <td>100.0000</td>\n",
       "    </tr>\n",
       "    <tr>\n",
       "      <th>DIS</th>\n",
       "      <td>111.0</td>\n",
       "      <td>1.999828</td>\n",
       "      <td>0.873839</td>\n",
       "      <td>1.13700</td>\n",
       "      <td>1.52335</td>\n",
       "      <td>1.80260</td>\n",
       "      <td>2.1088</td>\n",
       "      <td>6.0821</td>\n",
       "    </tr>\n",
       "    <tr>\n",
       "      <th>RAD</th>\n",
       "      <td>111.0</td>\n",
       "      <td>15.153153</td>\n",
       "      <td>9.832412</td>\n",
       "      <td>2.00000</td>\n",
       "      <td>5.00000</td>\n",
       "      <td>24.00000</td>\n",
       "      <td>24.0000</td>\n",
       "      <td>24.0000</td>\n",
       "    </tr>\n",
       "    <tr>\n",
       "      <th>TAX</th>\n",
       "      <td>111.0</td>\n",
       "      <td>541.459459</td>\n",
       "      <td>156.998482</td>\n",
       "      <td>188.00000</td>\n",
       "      <td>403.00000</td>\n",
       "      <td>666.00000</td>\n",
       "      <td>666.0000</td>\n",
       "      <td>711.0000</td>\n",
       "    </tr>\n",
       "    <tr>\n",
       "      <th>PTRATIO</th>\n",
       "      <td>111.0</td>\n",
       "      <td>19.127027</td>\n",
       "      <td>2.352868</td>\n",
       "      <td>13.00000</td>\n",
       "      <td>19.10000</td>\n",
       "      <td>20.20000</td>\n",
       "      <td>20.2000</td>\n",
       "      <td>21.2000</td>\n",
       "    </tr>\n",
       "    <tr>\n",
       "      <th>B</th>\n",
       "      <td>111.0</td>\n",
       "      <td>335.421351</td>\n",
       "      <td>105.865712</td>\n",
       "      <td>2.60000</td>\n",
       "      <td>331.06500</td>\n",
       "      <td>383.29000</td>\n",
       "      <td>396.9000</td>\n",
       "      <td>396.9000</td>\n",
       "    </tr>\n",
       "    <tr>\n",
       "      <th>LSTAT</th>\n",
       "      <td>111.0</td>\n",
       "      <td>19.174505</td>\n",
       "      <td>7.763716</td>\n",
       "      <td>1.92000</td>\n",
       "      <td>14.80500</td>\n",
       "      <td>19.15000</td>\n",
       "      <td>24.0900</td>\n",
       "      <td>37.9700</td>\n",
       "    </tr>\n",
       "    <tr>\n",
       "      <th>MEDV</th>\n",
       "      <td>111.0</td>\n",
       "      <td>17.563063</td>\n",
       "      <td>9.857226</td>\n",
       "      <td>5.00000</td>\n",
       "      <td>12.40000</td>\n",
       "      <td>15.10000</td>\n",
       "      <td>19.1500</td>\n",
       "      <td>50.0000</td>\n",
       "    </tr>\n",
       "  </tbody>\n",
       "</table>\n",
       "</div>"
      ],
      "text/plain": [
       "         count        mean         std        min        25%        50%  \\\n",
       "CRIM     111.0    9.131193   12.525663    0.09849    1.20826    5.87205   \n",
       "ZN       111.0    0.585586    3.125317    0.00000    0.00000    0.00000   \n",
       "INDUS    111.0   17.862342    4.606760    2.46000   18.10000   18.10000   \n",
       "CHAS     111.0    0.063063    0.244179    0.00000    0.00000    0.00000   \n",
       "NOX      111.0    0.664649    0.093411    0.44800    0.60500    0.65900   \n",
       "RM       111.0    5.940144    0.712860    3.86300    5.49400    6.00600   \n",
       "AGE      111.0   98.280180    1.657864   95.20000   96.95000   98.40000   \n",
       "DIS      111.0    1.999828    0.873839    1.13700    1.52335    1.80260   \n",
       "RAD      111.0   15.153153    9.832412    2.00000    5.00000   24.00000   \n",
       "TAX      111.0  541.459459  156.998482  188.00000  403.00000  666.00000   \n",
       "PTRATIO  111.0   19.127027    2.352868   13.00000   19.10000   20.20000   \n",
       "B        111.0  335.421351  105.865712    2.60000  331.06500  383.29000   \n",
       "LSTAT    111.0   19.174505    7.763716    1.92000   14.80500   19.15000   \n",
       "MEDV     111.0   17.563063    9.857226    5.00000   12.40000   15.10000   \n",
       "\n",
       "              75%       max  \n",
       "CRIM      11.7645   73.5341  \n",
       "ZN         0.0000   20.0000  \n",
       "INDUS     19.5800   27.7400  \n",
       "CHAS       0.0000    1.0000  \n",
       "NOX        0.7000    0.8710  \n",
       "RM         6.4030    7.9290  \n",
       "AGE      100.0000  100.0000  \n",
       "DIS        2.1088    6.0821  \n",
       "RAD       24.0000   24.0000  \n",
       "TAX      666.0000  711.0000  \n",
       "PTRATIO   20.2000   21.2000  \n",
       "B        396.9000  396.9000  \n",
       "LSTAT     24.0900   37.9700  \n",
       "MEDV      19.1500   50.0000  "
      ]
     },
     "execution_count": 63,
     "metadata": {},
     "output_type": "execute_result"
    }
   ],
   "source": [
    "# 95세 이상만 보여주도록 데이터프레임 필터 적용\n",
    "df[df['AGE'] > 95 ].describe().transpose()"
   ]
  },
  {
   "cell_type": "code",
   "execution_count": 64,
   "id": "733e750a",
   "metadata": {},
   "outputs": [
    {
     "data": {
      "text/plain": [
       "<AxesSubplot:xlabel='petal length in cm', ylabel='petal width in cm'>"
      ]
     },
     "execution_count": 64,
     "metadata": {},
     "output_type": "execute_result"
    },
    {
     "data": {
      "image/png": "[encoded data removed]",
      "text/plain": [
       "<Figure size 432x288 with 1 Axes>"
      ]
     },
     "metadata": {
      "needs_background": "light"
     },
     "output_type": "display_data"
    }
   ],
   "source": [
    "#iris 데이터 로딩\n",
    "df =pd.read_csv('./data/iris.csv')\n",
    "#스캐터 플롯 : 기본형\n",
    "sns.scatterplot(x='petal length in cm', y='petal width in cm', data=df)"
   ]
  },
  {
   "cell_type": "code",
   "execution_count": 65,
   "id": "25a6fa84",
   "metadata": {},
   "outputs": [
    {
     "data": {
      "text/plain": [
       "<AxesSubplot:xlabel='petal length in cm', ylabel='petal width in cm'>"
      ]
     },
     "execution_count": 65,
     "metadata": {},
     "output_type": "execute_result"
    },
    {
     "data": {
      "image/png": "[encoded data removed]",
      "text/plain": [
       "<Figure size 432x288 with 1 Axes>"
      ]
     },
     "metadata": {
      "needs_background": "light"
     },
     "output_type": "display_data"
    }
   ],
   "source": [
    "#스캐터 플롯 : 데이터 포인트에 색깔별로 레이블을 붙여주고 hue 옵션을 써서 범례를 만들기\n",
    "sns.scatterplot(x='petal length in cm', y='petal width in cm', data=df, hue='species')"
   ]
  },
  {
   "cell_type": "code",
   "execution_count": 66,
   "id": "c57e9923",
   "metadata": {},
   "outputs": [
    {
     "data": {
      "text/plain": [
       "<seaborn.axisgrid.FacetGrid at 0x7f8a93a37c40>"
      ]
     },
     "execution_count": 66,
     "metadata": {},
     "output_type": "execute_result"
    },
    {
     "data": {
      "image/png": "[encoded data removed]",
      "text/plain": [
       "<Figure size 444.75x360 with 1 Axes>"
      ]
     },
     "metadata": {
      "needs_background": "light"
     },
     "output_type": "display_data"
    }
   ],
   "source": [
    "#lmplot\n",
    "sns.lmplot(x='petal length in cm', y='petal width in cm', \n",
    "           data=df, hue='species', fit_reg=False, palette='bright', markers=['o','v','x'])"
   ]
  },
  {
   "cell_type": "code",
   "execution_count": 67,
   "id": "69f4784c",
   "metadata": {},
   "outputs": [
    {
     "name": "stderr",
     "output_type": "stream",
     "text": [
      "/Users/semini/opt/anaconda3/lib/python3.8/site-packages/seaborn/distributions.py:2557: FutureWarning: `distplot` is a deprecated function and will be removed in a future version. Please adapt your code to use either `displot` (a figure-level function with similar flexibility) or `histplot` (an axes-level function for histograms).\n",
      "  warnings.warn(msg, FutureWarning)\n"
     ]
    },
    {
     "data": {
      "text/plain": [
       "<AxesSubplot:xlabel='petal length in cm', ylabel='Density'>"
      ]
     },
     "execution_count": 67,
     "metadata": {},
     "output_type": "execute_result"
    },
    {
     "data": {
      "image/png": "[encoded data removed]",
      "text/plain": [
       "<Figure size 432x288 with 1 Axes>"
      ]
     },
     "metadata": {
      "needs_background": "light"
     },
     "output_type": "display_data"
    }
   ],
   "source": [
    "#히스토그램\n",
    "sns.distplot(df['petal length in cm'])"
   ]
  },
  {
   "cell_type": "code",
   "execution_count": 68,
   "id": "bae256da",
   "metadata": {},
   "outputs": [
    {
     "data": {
      "text/plain": [
       "<seaborn.axisgrid.FacetGrid at 0x7f8a939f61f0>"
      ]
     },
     "execution_count": 68,
     "metadata": {},
     "output_type": "execute_result"
    },
    {
     "data": {
      "image/png": "[encoded data removed]",
      "text/plain": [
       "<Figure size 360x360 with 1 Axes>"
      ]
     },
     "metadata": {
      "needs_background": "light"
     },
     "output_type": "display_data"
    }
   ],
   "source": [
    "# 15개의 막대가 있는 히스토그램\n",
    "sns.displot(df['petal length in cm'], bins=15)"
   ]
  },
  {
   "cell_type": "markdown",
   "id": "d416cc76",
   "metadata": {},
   "source": [
    "### 조인트 플롯"
   ]
  },
  {
   "cell_type": "code",
   "execution_count": 69,
   "id": "928c7587",
   "metadata": {},
   "outputs": [
    {
     "data": {
      "text/plain": [
       "<seaborn.axisgrid.JointGrid at 0x7f8a80742a30>"
      ]
     },
     "execution_count": 69,
     "metadata": {},
     "output_type": "execute_result"
    },
    {
     "data": {
      "image/png": "[encoded data removed]",
      "text/plain": [
       "<Figure size 432x432 with 3 Axes>"
      ]
     },
     "metadata": {
      "needs_background": "light"
     },
     "output_type": "display_data"
    }
   ],
   "source": [
    "# 조인트 플롯 \n",
    "sns.jointplot(x='petal length in cm', y='petal width in cm', \n",
    "              data=df, kind='scatter', marginal_kws=dict(bins=10))"
   ]
  },
  {
   "cell_type": "code",
   "execution_count": 70,
   "id": "0c863125",
   "metadata": {},
   "outputs": [
    {
     "data": {
      "text/plain": [
       "<seaborn.axisgrid.JointGrid at 0x7f8a718b8730>"
      ]
     },
     "execution_count": 70,
     "metadata": {},
     "output_type": "execute_result"
    },
    {
     "data": {
      "image/png": "[encoded data removed]",
      "text/plain": [
       "<Figure size 432x432 with 3 Axes>"
      ]
     },
     "metadata": {
      "needs_background": "light"
     },
     "output_type": "display_data"
    }
   ],
   "source": [
    "#밀도 추정치를 사용한 조인트 플롯\n",
    "sns.jointplot(x='petal length in cm', y='petal width in cm',\n",
    "             data=df, kind='kde')"
   ]
  },
  {
   "cell_type": "code",
   "execution_count": 71,
   "id": "7fea36b4",
   "metadata": {},
   "outputs": [
    {
     "data": {
      "text/plain": [
       "<AxesSubplot:xlabel='species', ylabel='sepal width in cm'>"
      ]
     },
     "execution_count": 71,
     "metadata": {},
     "output_type": "execute_result"
    },
    {
     "data": {
      "image/png": "[encoded data removed]",
      "text/plain": [
       "<Figure size 432x288 with 1 Axes>"
      ]
     },
     "metadata": {
      "needs_background": "light"
     },
     "output_type": "display_data"
    }
   ],
   "source": [
    "#바이올린 플롯\n",
    "sns.violinplot(x='species', y='sepal width in cm', data=df)"
   ]
  },
  {
   "cell_type": "markdown",
   "id": "d3975198",
   "metadata": {},
   "source": [
    "### 페어플롯"
   ]
  },
  {
   "cell_type": "code",
   "execution_count": 72,
   "id": "42351736",
   "metadata": {},
   "outputs": [],
   "source": [
    "# 선택된 특징을 보여주는 페어 플롯\n",
    "# vars_to_plot = ['CRIM', 'AGE', 'DIS', 'LSTAT', 'MEDV']\n",
    "# sns.pairplot(data=df, vars=vars_to_plot)"
   ]
  },
  {
   "cell_type": "markdown",
   "id": "857973a0",
   "metadata": {},
   "source": [
    "# 분석을 위한 데이터 클리닝과 준비\n",
    "1. 입력 데이터 클리닝\n",
    "1. 결측값 처리\n",
    "1. 정규화와 표준화\n",
    "1. 카테고리 데이터 처리\n",
    "1. 고차원 데이터와 차원성의 저주\n",
    "1. 필터와 래퍼 기법을 활용한 특징 선택\n",
    "1. 변환이 적용된 특징 선택"
   ]
  },
  {
   "cell_type": "markdown",
   "id": "0a3ff50f",
   "metadata": {},
   "source": [
    "## scikit-learn 변환 API\n",
    "<데이터 변환 단계>\n",
    "1. 모듈을 임포트한다.\n",
    "1. 변환 객체를 설명\n",
    "1. 훈련 데이터에 입력시키기 위해 모델을 적합시킴\n",
    "1. 새로운 테스트 데이터를 변환"
   ]
  },
  {
   "cell_type": "markdown",
   "id": "db39074c",
   "metadata": {},
   "source": [
    "### 입력 데이터 클리닝\n",
    "#### 결측값"
   ]
  },
  {
   "cell_type": "code",
   "execution_count": 73,
   "id": "7044e31f",
   "metadata": {},
   "outputs": [
    {
     "name": "stdout",
     "output_type": "stream",
     "text": [
      "        sepal length in cm  sepal width in cm  petal length in cm  \\\n",
      "record                                                              \n",
      "0                      NaN                3.5                 1.4   \n",
      "1                      4.9                3.0                 1.4   \n",
      "2                      NaN                3.2                 1.3   \n",
      "3                      4.6                3.1                 1.5   \n",
      "4                      5.0                3.6                 1.4   \n",
      "\n",
      "        petal width in cm species  \n",
      "record                             \n",
      "0                     0.2  setosa  \n",
      "1                     0.2  setosa  \n",
      "2                     0.2  setosa  \n",
      "3                     0.2  setosa  \n",
      "4                     0.2  setosa  \n"
     ]
    }
   ],
   "source": [
    "#결측값을 갖는 iris 데이터셋 로딩하기\n",
    "import pandas as pd\n",
    "df = pd.read_csv(\"./data/iris_missing_values.csv\")\n",
    "df.index.name = \"record\"\n",
    "print(df.head())"
   ]
  },
  {
   "cell_type": "markdown",
   "id": "3e3e95cd",
   "metadata": {},
   "source": [
    "#### 결측값 찾기와 제거하기 \n",
    "- .isnull().values().any()\n",
    "- .isnull().values().sum()"
   ]
  },
  {
   "cell_type": "code",
   "execution_count": 74,
   "id": "96badfeb",
   "metadata": {},
   "outputs": [
    {
     "data": {
      "text/plain": [
       "record\n",
       "0       True\n",
       "1      False\n",
       "2       True\n",
       "3      False\n",
       "4      False\n",
       "       ...  \n",
       "145    False\n",
       "146    False\n",
       "147    False\n",
       "148    False\n",
       "149    False\n",
       "Name: sepal length in cm, Length: 150, dtype: bool"
      ]
     },
     "execution_count": 74,
     "metadata": {},
     "output_type": "execute_result"
    }
   ],
   "source": [
    "# NaN에 대해 각 데이터의 참/거짓 값을 얻기\n",
    "df['sepal length in cm'].isnull()"
   ]
  },
  {
   "cell_type": "code",
   "execution_count": 75,
   "id": "db2ddda9",
   "metadata": {},
   "outputs": [
    {
     "data": {
      "text/plain": [
       "True"
      ]
     },
     "execution_count": 75,
     "metadata": {},
     "output_type": "execute_result"
    }
   ],
   "source": [
    "# 열에서 결측값이 있는지 점검\n",
    "df['sepal length in cm'].isnull().values.any()"
   ]
  },
  {
   "cell_type": "code",
   "execution_count": 76,
   "id": "4e19a0ed",
   "metadata": {},
   "outputs": [
    {
     "data": {
      "text/plain": [
       "6"
      ]
     },
     "execution_count": 76,
     "metadata": {},
     "output_type": "execute_result"
    }
   ],
   "source": [
    "# 열에서 결측값의 수 확인\n",
    "df['sepal length in cm'].isnull().values.sum()"
   ]
  },
  {
   "cell_type": "code",
   "execution_count": 77,
   "id": "6e96e30b",
   "metadata": {},
   "outputs": [
    {
     "name": "stdout",
     "output_type": "stream",
     "text": [
      "record\n",
      "0    example\n",
      "1        4.9\n",
      "2    example\n",
      "3        4.6\n",
      "4        5.0\n",
      "Name: sepal length in cm, dtype: object\n"
     ]
    }
   ],
   "source": [
    "# 결측값을 새로운 값으로 채우고, 새로운 df_example 데이터프레임에 저장\n",
    "df_example = df['sepal length in cm'].fillna('example')\n",
    "print(df_example.head())"
   ]
  },
  {
   "cell_type": "code",
   "execution_count": 78,
   "id": "d4822923",
   "metadata": {},
   "outputs": [
    {
     "name": "stdout",
     "output_type": "stream",
     "text": [
      "        sepal length in cm  sepal width in cm  petal length in cm  \\\n",
      "record                                                              \n",
      "1                      4.9                3.0                 1.4   \n",
      "3                      4.6                3.1                 1.5   \n",
      "4                      5.0                3.6                 1.4   \n",
      "6                      4.6                3.4                 1.4   \n",
      "7                      5.0                3.4                 1.5   \n",
      "\n",
      "        petal width in cm species  \n",
      "record                             \n",
      "1                     0.2  setosa  \n",
      "3                     0.2  setosa  \n",
      "4                     0.2  setosa  \n",
      "6                     0.3  setosa  \n",
      "7                     0.2  setosa  \n"
     ]
    }
   ],
   "source": [
    "# 결측값이 있는 행 제거 1\n",
    "df_dropped1 = df.dropna(axis=0)\n",
    "print(df_dropped1.head())"
   ]
  },
  {
   "cell_type": "code",
   "execution_count": 79,
   "id": "85f5c33d",
   "metadata": {},
   "outputs": [],
   "source": [
    "# 결측값이 있는 열 제거\n",
    "df_dropped2 = df.dropna(axis=1)"
   ]
  },
  {
   "cell_type": "markdown",
   "id": "de272bc5",
   "metadata": {},
   "source": [
    "#### 결측값을 대체하기 위한 임퓨팅\n",
    "띄엄띄엄 결측값이 있는 경우, 빈 셀의 대체 값을 예측할 수 있음 : 예측하는 수학적인 장치 : 임퓨터\n",
    "- missing_values : 데이터에서 결측값의 형태를 가르킴\n",
    "- strategy : 임퓨트 기법을 의미\n",
    "    - strategy = constant로 설정하면 상수를 정하기 위해 fill_value 옵션을 사용할 수 있다."
   ]
  },
  {
   "cell_type": "code",
   "execution_count": 80,
   "id": "9a67e503",
   "metadata": {},
   "outputs": [],
   "source": [
    "# scikit-learn에서 임퓨터 모듈을 임포트하고 임퓨터 객체 초기화\n",
    "from sklearn.impute import SimpleImputer\n",
    "imputer = SimpleImputer(missing_values=np.nan, strategy='mean')\n",
    "\n",
    "#임퓨트할 열 정의\n",
    "cols=['sepal length in cm',\n",
    "     'sepal width in cm',\n",
    "     'petal length in cm',\n",
    "     'petal width in cm']\n"
   ]
  },
  {
   "cell_type": "code",
   "execution_count": 81,
   "id": "2395abd8",
   "metadata": {},
   "outputs": [
    {
     "name": "stdout",
     "output_type": "stream",
     "text": [
      "   sepal length in cm  sepal width in cm  petal length in cm  \\\n",
      "0            5.870139                3.5                 1.4   \n",
      "1            4.900000                3.0                 1.4   \n",
      "2            5.870139                3.2                 1.3   \n",
      "3            4.600000                3.1                 1.5   \n",
      "4            5.000000                3.6                 1.4   \n",
      "\n",
      "   petal width in cm  \n",
      "0                0.2  \n",
      "1                0.2  \n",
      "2                0.2  \n",
      "3                0.2  \n",
      "4                0.2  \n"
     ]
    }
   ],
   "source": [
    "#임퓨트를 적합시키고 데이터를 변환한 뒤 df_new에 저장\n",
    "out_imp = imputer.fit_transform(df[cols])\n",
    "df_new = pd.DataFrame(data = out_imp, columns = cols)\n",
    "df_nes = pd.concat([df_new, df[['species']]], axis =1)\n",
    "print(df_new.head())"
   ]
  },
  {
   "cell_type": "markdown",
   "id": "a28a587c",
   "metadata": {},
   "source": [
    "#### 특징 스케일링\n",
    "- 상수를 곱해도 성질이 바뀌지 않는다면, 그 수학적 성질은 '스케일 불변'으로 간주(ex-곡선의 모양이 입력의 강도와 상관없이 동일한 경우)\n",
    "- 스케일링은 스케일 불변이 아닌 변환과 학습 알고리즘에 대해 중요하다.\n",
    "- 주요 요소 분석(PCA), 페널티 회귀\n",
    "- 문제를 수정하는 전략 은 각 특징을 비슷한 스케일로 적용, 분산과 편향에 집중, 가장 흔한 방법은 정규화와 표준화"
   ]
  },
  {
   "cell_type": "code",
   "execution_count": 82,
   "id": "5928023a",
   "metadata": {},
   "outputs": [],
   "source": [
    "# iris 데이터 불러오기\n",
    "df = pd.read_csv(\"./data/iris.csv\")\n",
    "df.index.name = \"record\"\n",
    "\n",
    "#스케일링할 열 정의\n",
    "cols = ['sepal length in cm',\n",
    "        'sepal width in cm',\n",
    "        'petal length in cm',\n",
    "        'petal width in cm']\n"
   ]
  },
  {
   "cell_type": "markdown",
   "id": "805a43f3",
   "metadata": {},
   "source": [
    "#### 정규화\n",
    "- 0과 1사이에 위치하도록 각 특징 공간을 리스케일하는 것\n",
    "- MinMaxScalar() 함수에 있는 루틴 이용\n",
    "- $x_{i,scaled}=\\frac{x_{i,original}  -  min_{y}}{max_{y} - min_{Y}}$\n",
    "    - $x_{i}$ = 데이터 포인트, $Y$ = x가 있는 열\n",
    "\n",
    "\n",
    "변환을 이상치로부터 보호할 수 있는 방법은 없고, 이상치는 정규화 하기 전에 제거해야 한다., 그렇지 않으면 합당한 데이터들이 0-1 전체의 범위에 적절하게 펼쳐지니 못하고 유용한 데이터는 더 적은 범위로 모이게 됨"
   ]
  },
  {
   "cell_type": "code",
   "execution_count": 83,
   "id": "a9102256",
   "metadata": {},
   "outputs": [
    {
     "data": {
      "text/plain": [
       "array([[0.22222222, 0.625     , 0.06779661, 0.04166667],\n",
       "       [0.16666667, 0.41666667, 0.06779661, 0.04166667],\n",
       "       [0.11111111, 0.5       , 0.05084746, 0.04166667],\n",
       "       [0.08333333, 0.45833333, 0.08474576, 0.04166667],\n",
       "       [0.19444444, 0.66666667, 0.06779661, 0.04166667],\n",
       "       [0.30555556, 0.79166667, 0.11864407, 0.125     ],\n",
       "       [0.08333333, 0.58333333, 0.06779661, 0.08333333],\n",
       "       [0.19444444, 0.58333333, 0.08474576, 0.04166667],\n",
       "       [0.02777778, 0.375     , 0.06779661, 0.04166667],\n",
       "       [0.16666667, 0.45833333, 0.08474576, 0.        ],\n",
       "       [0.30555556, 0.70833333, 0.08474576, 0.04166667],\n",
       "       [0.13888889, 0.58333333, 0.10169492, 0.04166667],\n",
       "       [0.13888889, 0.41666667, 0.06779661, 0.        ],\n",
       "       [0.        , 0.41666667, 0.01694915, 0.        ],\n",
       "       [0.41666667, 0.83333333, 0.03389831, 0.04166667],\n",
       "       [0.38888889, 1.        , 0.08474576, 0.125     ],\n",
       "       [0.30555556, 0.79166667, 0.05084746, 0.125     ],\n",
       "       [0.22222222, 0.625     , 0.06779661, 0.08333333],\n",
       "       [0.38888889, 0.75      , 0.11864407, 0.08333333],\n",
       "       [0.22222222, 0.75      , 0.08474576, 0.08333333],\n",
       "       [0.30555556, 0.58333333, 0.11864407, 0.04166667],\n",
       "       [0.22222222, 0.70833333, 0.08474576, 0.125     ],\n",
       "       [0.08333333, 0.66666667, 0.        , 0.04166667],\n",
       "       [0.22222222, 0.54166667, 0.11864407, 0.16666667],\n",
       "       [0.13888889, 0.58333333, 0.15254237, 0.04166667],\n",
       "       [0.19444444, 0.41666667, 0.10169492, 0.04166667],\n",
       "       [0.19444444, 0.58333333, 0.10169492, 0.125     ],\n",
       "       [0.25      , 0.625     , 0.08474576, 0.04166667],\n",
       "       [0.25      , 0.58333333, 0.06779661, 0.04166667],\n",
       "       [0.11111111, 0.5       , 0.10169492, 0.04166667],\n",
       "       [0.13888889, 0.45833333, 0.10169492, 0.04166667],\n",
       "       [0.30555556, 0.58333333, 0.08474576, 0.125     ],\n",
       "       [0.25      , 0.875     , 0.08474576, 0.        ],\n",
       "       [0.33333333, 0.91666667, 0.06779661, 0.04166667],\n",
       "       [0.16666667, 0.45833333, 0.08474576, 0.        ],\n",
       "       [0.19444444, 0.5       , 0.03389831, 0.04166667],\n",
       "       [0.33333333, 0.625     , 0.05084746, 0.04166667],\n",
       "       [0.16666667, 0.45833333, 0.08474576, 0.        ],\n",
       "       [0.02777778, 0.41666667, 0.05084746, 0.04166667],\n",
       "       [0.22222222, 0.58333333, 0.08474576, 0.04166667],\n",
       "       [0.19444444, 0.625     , 0.05084746, 0.08333333],\n",
       "       [0.05555556, 0.125     , 0.05084746, 0.08333333],\n",
       "       [0.02777778, 0.5       , 0.05084746, 0.04166667],\n",
       "       [0.19444444, 0.625     , 0.10169492, 0.20833333],\n",
       "       [0.22222222, 0.75      , 0.15254237, 0.125     ],\n",
       "       [0.13888889, 0.41666667, 0.06779661, 0.08333333],\n",
       "       [0.22222222, 0.75      , 0.10169492, 0.04166667],\n",
       "       [0.08333333, 0.5       , 0.06779661, 0.04166667],\n",
       "       [0.27777778, 0.70833333, 0.08474576, 0.04166667],\n",
       "       [0.19444444, 0.54166667, 0.06779661, 0.04166667],\n",
       "       [0.75      , 0.5       , 0.62711864, 0.54166667],\n",
       "       [0.58333333, 0.5       , 0.59322034, 0.58333333],\n",
       "       [0.72222222, 0.45833333, 0.66101695, 0.58333333],\n",
       "       [0.33333333, 0.125     , 0.50847458, 0.5       ],\n",
       "       [0.61111111, 0.33333333, 0.61016949, 0.58333333],\n",
       "       [0.38888889, 0.33333333, 0.59322034, 0.5       ],\n",
       "       [0.55555556, 0.54166667, 0.62711864, 0.625     ],\n",
       "       [0.16666667, 0.16666667, 0.38983051, 0.375     ],\n",
       "       [0.63888889, 0.375     , 0.61016949, 0.5       ],\n",
       "       [0.25      , 0.29166667, 0.49152542, 0.54166667],\n",
       "       [0.19444444, 0.        , 0.42372881, 0.375     ],\n",
       "       [0.44444444, 0.41666667, 0.54237288, 0.58333333],\n",
       "       [0.47222222, 0.08333333, 0.50847458, 0.375     ],\n",
       "       [0.5       , 0.375     , 0.62711864, 0.54166667],\n",
       "       [0.36111111, 0.375     , 0.44067797, 0.5       ],\n",
       "       [0.66666667, 0.45833333, 0.57627119, 0.54166667],\n",
       "       [0.36111111, 0.41666667, 0.59322034, 0.58333333],\n",
       "       [0.41666667, 0.29166667, 0.52542373, 0.375     ],\n",
       "       [0.52777778, 0.08333333, 0.59322034, 0.58333333],\n",
       "       [0.36111111, 0.20833333, 0.49152542, 0.41666667],\n",
       "       [0.44444444, 0.5       , 0.6440678 , 0.70833333],\n",
       "       [0.5       , 0.33333333, 0.50847458, 0.5       ],\n",
       "       [0.55555556, 0.20833333, 0.66101695, 0.58333333],\n",
       "       [0.5       , 0.33333333, 0.62711864, 0.45833333],\n",
       "       [0.58333333, 0.375     , 0.55932203, 0.5       ],\n",
       "       [0.63888889, 0.41666667, 0.57627119, 0.54166667],\n",
       "       [0.69444444, 0.33333333, 0.6440678 , 0.54166667],\n",
       "       [0.66666667, 0.41666667, 0.6779661 , 0.66666667],\n",
       "       [0.47222222, 0.375     , 0.59322034, 0.58333333],\n",
       "       [0.38888889, 0.25      , 0.42372881, 0.375     ],\n",
       "       [0.33333333, 0.16666667, 0.47457627, 0.41666667],\n",
       "       [0.33333333, 0.16666667, 0.45762712, 0.375     ],\n",
       "       [0.41666667, 0.29166667, 0.49152542, 0.45833333],\n",
       "       [0.47222222, 0.29166667, 0.69491525, 0.625     ],\n",
       "       [0.30555556, 0.41666667, 0.59322034, 0.58333333],\n",
       "       [0.47222222, 0.58333333, 0.59322034, 0.625     ],\n",
       "       [0.66666667, 0.45833333, 0.62711864, 0.58333333],\n",
       "       [0.55555556, 0.125     , 0.57627119, 0.5       ],\n",
       "       [0.36111111, 0.41666667, 0.52542373, 0.5       ],\n",
       "       [0.33333333, 0.20833333, 0.50847458, 0.5       ],\n",
       "       [0.33333333, 0.25      , 0.57627119, 0.45833333],\n",
       "       [0.5       , 0.41666667, 0.61016949, 0.54166667],\n",
       "       [0.41666667, 0.25      , 0.50847458, 0.45833333],\n",
       "       [0.19444444, 0.125     , 0.38983051, 0.375     ],\n",
       "       [0.36111111, 0.29166667, 0.54237288, 0.5       ],\n",
       "       [0.38888889, 0.41666667, 0.54237288, 0.45833333],\n",
       "       [0.38888889, 0.375     , 0.54237288, 0.5       ],\n",
       "       [0.52777778, 0.375     , 0.55932203, 0.5       ],\n",
       "       [0.22222222, 0.20833333, 0.33898305, 0.41666667],\n",
       "       [0.38888889, 0.33333333, 0.52542373, 0.5       ],\n",
       "       [0.55555556, 0.54166667, 0.84745763, 1.        ],\n",
       "       [0.41666667, 0.29166667, 0.69491525, 0.75      ],\n",
       "       [0.77777778, 0.41666667, 0.83050847, 0.83333333],\n",
       "       [0.55555556, 0.375     , 0.77966102, 0.70833333],\n",
       "       [0.61111111, 0.41666667, 0.81355932, 0.875     ],\n",
       "       [0.91666667, 0.41666667, 0.94915254, 0.83333333],\n",
       "       [0.16666667, 0.20833333, 0.59322034, 0.66666667],\n",
       "       [0.83333333, 0.375     , 0.89830508, 0.70833333],\n",
       "       [0.66666667, 0.20833333, 0.81355932, 0.70833333],\n",
       "       [0.80555556, 0.66666667, 0.86440678, 1.        ],\n",
       "       [0.61111111, 0.5       , 0.69491525, 0.79166667],\n",
       "       [0.58333333, 0.29166667, 0.72881356, 0.75      ],\n",
       "       [0.69444444, 0.41666667, 0.76271186, 0.83333333],\n",
       "       [0.38888889, 0.20833333, 0.6779661 , 0.79166667],\n",
       "       [0.41666667, 0.33333333, 0.69491525, 0.95833333],\n",
       "       [0.58333333, 0.5       , 0.72881356, 0.91666667],\n",
       "       [0.61111111, 0.41666667, 0.76271186, 0.70833333],\n",
       "       [0.94444444, 0.75      , 0.96610169, 0.875     ],\n",
       "       [0.94444444, 0.25      , 1.        , 0.91666667],\n",
       "       [0.47222222, 0.08333333, 0.6779661 , 0.58333333],\n",
       "       [0.72222222, 0.5       , 0.79661017, 0.91666667],\n",
       "       [0.36111111, 0.33333333, 0.66101695, 0.79166667],\n",
       "       [0.94444444, 0.33333333, 0.96610169, 0.79166667],\n",
       "       [0.55555556, 0.29166667, 0.66101695, 0.70833333],\n",
       "       [0.66666667, 0.54166667, 0.79661017, 0.83333333],\n",
       "       [0.80555556, 0.5       , 0.84745763, 0.70833333],\n",
       "       [0.52777778, 0.33333333, 0.6440678 , 0.70833333],\n",
       "       [0.5       , 0.41666667, 0.66101695, 0.70833333],\n",
       "       [0.58333333, 0.33333333, 0.77966102, 0.83333333],\n",
       "       [0.80555556, 0.41666667, 0.81355932, 0.625     ],\n",
       "       [0.86111111, 0.33333333, 0.86440678, 0.75      ],\n",
       "       [1.        , 0.75      , 0.91525424, 0.79166667],\n",
       "       [0.58333333, 0.33333333, 0.77966102, 0.875     ],\n",
       "       [0.55555556, 0.33333333, 0.69491525, 0.58333333],\n",
       "       [0.5       , 0.25      , 0.77966102, 0.54166667],\n",
       "       [0.94444444, 0.41666667, 0.86440678, 0.91666667],\n",
       "       [0.55555556, 0.58333333, 0.77966102, 0.95833333],\n",
       "       [0.58333333, 0.45833333, 0.76271186, 0.70833333],\n",
       "       [0.47222222, 0.41666667, 0.6440678 , 0.70833333],\n",
       "       [0.72222222, 0.45833333, 0.74576271, 0.83333333],\n",
       "       [0.66666667, 0.45833333, 0.77966102, 0.95833333],\n",
       "       [0.72222222, 0.45833333, 0.69491525, 0.91666667],\n",
       "       [0.41666667, 0.29166667, 0.69491525, 0.75      ],\n",
       "       [0.69444444, 0.5       , 0.83050847, 0.91666667],\n",
       "       [0.66666667, 0.54166667, 0.79661017, 1.        ],\n",
       "       [0.66666667, 0.41666667, 0.71186441, 0.91666667],\n",
       "       [0.55555556, 0.20833333, 0.6779661 , 0.75      ],\n",
       "       [0.61111111, 0.41666667, 0.71186441, 0.79166667],\n",
       "       [0.52777778, 0.58333333, 0.74576271, 0.91666667],\n",
       "       [0.44444444, 0.41666667, 0.69491525, 0.70833333]])"
      ]
     },
     "execution_count": 83,
     "metadata": {},
     "output_type": "execute_result"
    }
   ],
   "source": [
    "# 모듈을 로딩하고 객체 로기화\n",
    "from sklearn.preprocessing import MinMaxScaler\n",
    "scaler = MinMaxScaler()\n",
    "\n",
    "#데이터를 정규화하고 out_scaled numpy 행렬에 저장\n",
    "out_scaled=scaler.fit_transform(df[cols])\n",
    "\n",
    "out_scaled\n"
   ]
  },
  {
   "cell_type": "markdown",
   "id": "09f763d2",
   "metadata": {},
   "source": [
    "#### 표준화\n",
    "- 같은 스케일 상의 각 특징 공간 내에서 변동을 위치시키기 위해 사용됨\n",
    "- 데이터를 단위 분산에 대해 펼치고 0에 중간을 맞춤\n",
    "- 표준화된 데이터의 최솟값 혹은 최댓값에 대한 제한은 없으며, 이에 따라 이상치 처리를 상대적으로 잘할 수 있고 이상치들을 변환 후에 쉽게 판별할 수 있음\n",
    "- sciji-learn은 표준편차 대신 변동을 측정하기 위해 사분위수 범위를 쓰므로 더욱 강력한 robust_scale 기법을 사용\n",
    "- => 이런 이유로 정규화 대신에 표준화를 리스케일 기법으로 추천"
   ]
  },
  {
   "cell_type": "code",
   "execution_count": 84,
   "id": "a2cbed06",
   "metadata": {},
   "outputs": [
    {
     "data": {
      "text/plain": [
       "array([[-9.00681170e-01,  1.03205722e+00, -1.34127240e+00,\n",
       "        -1.31297673e+00],\n",
       "       [-1.14301691e+00, -1.24957601e-01, -1.34127240e+00,\n",
       "        -1.31297673e+00],\n",
       "       [-1.38535265e+00,  3.37848329e-01, -1.39813811e+00,\n",
       "        -1.31297673e+00],\n",
       "       [-1.50652052e+00,  1.06445364e-01, -1.28440670e+00,\n",
       "        -1.31297673e+00],\n",
       "       [-1.02184904e+00,  1.26346019e+00, -1.34127240e+00,\n",
       "        -1.31297673e+00],\n",
       "       [-5.37177559e-01,  1.95766909e+00, -1.17067529e+00,\n",
       "        -1.05003079e+00],\n",
       "       [-1.50652052e+00,  8.00654259e-01, -1.34127240e+00,\n",
       "        -1.18150376e+00],\n",
       "       [-1.02184904e+00,  8.00654259e-01, -1.28440670e+00,\n",
       "        -1.31297673e+00],\n",
       "       [-1.74885626e+00, -3.56360566e-01, -1.34127240e+00,\n",
       "        -1.31297673e+00],\n",
       "       [-1.14301691e+00,  1.06445364e-01, -1.28440670e+00,\n",
       "        -1.44444970e+00],\n",
       "       [-5.37177559e-01,  1.49486315e+00, -1.28440670e+00,\n",
       "        -1.31297673e+00],\n",
       "       [-1.26418478e+00,  8.00654259e-01, -1.22754100e+00,\n",
       "        -1.31297673e+00],\n",
       "       [-1.26418478e+00, -1.24957601e-01, -1.34127240e+00,\n",
       "        -1.44444970e+00],\n",
       "       [-1.87002413e+00, -1.24957601e-01, -1.51186952e+00,\n",
       "        -1.44444970e+00],\n",
       "       [-5.25060772e-02,  2.18907205e+00, -1.45500381e+00,\n",
       "        -1.31297673e+00],\n",
       "       [-1.73673948e-01,  3.11468391e+00, -1.28440670e+00,\n",
       "        -1.05003079e+00],\n",
       "       [-5.37177559e-01,  1.95766909e+00, -1.39813811e+00,\n",
       "        -1.05003079e+00],\n",
       "       [-9.00681170e-01,  1.03205722e+00, -1.34127240e+00,\n",
       "        -1.18150376e+00],\n",
       "       [-1.73673948e-01,  1.72626612e+00, -1.17067529e+00,\n",
       "        -1.18150376e+00],\n",
       "       [-9.00681170e-01,  1.72626612e+00, -1.28440670e+00,\n",
       "        -1.18150376e+00],\n",
       "       [-5.37177559e-01,  8.00654259e-01, -1.17067529e+00,\n",
       "        -1.31297673e+00],\n",
       "       [-9.00681170e-01,  1.49486315e+00, -1.28440670e+00,\n",
       "        -1.05003079e+00],\n",
       "       [-1.50652052e+00,  1.26346019e+00, -1.56873522e+00,\n",
       "        -1.31297673e+00],\n",
       "       [-9.00681170e-01,  5.69251294e-01, -1.17067529e+00,\n",
       "        -9.18557817e-01],\n",
       "       [-1.26418478e+00,  8.00654259e-01, -1.05694388e+00,\n",
       "        -1.31297673e+00],\n",
       "       [-1.02184904e+00, -1.24957601e-01, -1.22754100e+00,\n",
       "        -1.31297673e+00],\n",
       "       [-1.02184904e+00,  8.00654259e-01, -1.22754100e+00,\n",
       "        -1.05003079e+00],\n",
       "       [-7.79513300e-01,  1.03205722e+00, -1.28440670e+00,\n",
       "        -1.31297673e+00],\n",
       "       [-7.79513300e-01,  8.00654259e-01, -1.34127240e+00,\n",
       "        -1.31297673e+00],\n",
       "       [-1.38535265e+00,  3.37848329e-01, -1.22754100e+00,\n",
       "        -1.31297673e+00],\n",
       "       [-1.26418478e+00,  1.06445364e-01, -1.22754100e+00,\n",
       "        -1.31297673e+00],\n",
       "       [-5.37177559e-01,  8.00654259e-01, -1.28440670e+00,\n",
       "        -1.05003079e+00],\n",
       "       [-7.79513300e-01,  2.42047502e+00, -1.28440670e+00,\n",
       "        -1.44444970e+00],\n",
       "       [-4.16009689e-01,  2.65187798e+00, -1.34127240e+00,\n",
       "        -1.31297673e+00],\n",
       "       [-1.14301691e+00,  1.06445364e-01, -1.28440670e+00,\n",
       "        -1.44444970e+00],\n",
       "       [-1.02184904e+00,  3.37848329e-01, -1.45500381e+00,\n",
       "        -1.31297673e+00],\n",
       "       [-4.16009689e-01,  1.03205722e+00, -1.39813811e+00,\n",
       "        -1.31297673e+00],\n",
       "       [-1.14301691e+00,  1.06445364e-01, -1.28440670e+00,\n",
       "        -1.44444970e+00],\n",
       "       [-1.74885626e+00, -1.24957601e-01, -1.39813811e+00,\n",
       "        -1.31297673e+00],\n",
       "       [-9.00681170e-01,  8.00654259e-01, -1.28440670e+00,\n",
       "        -1.31297673e+00],\n",
       "       [-1.02184904e+00,  1.03205722e+00, -1.39813811e+00,\n",
       "        -1.18150376e+00],\n",
       "       [-1.62768839e+00, -1.74477836e+00, -1.39813811e+00,\n",
       "        -1.18150376e+00],\n",
       "       [-1.74885626e+00,  3.37848329e-01, -1.39813811e+00,\n",
       "        -1.31297673e+00],\n",
       "       [-1.02184904e+00,  1.03205722e+00, -1.22754100e+00,\n",
       "        -7.87084847e-01],\n",
       "       [-9.00681170e-01,  1.72626612e+00, -1.05694388e+00,\n",
       "        -1.05003079e+00],\n",
       "       [-1.26418478e+00, -1.24957601e-01, -1.34127240e+00,\n",
       "        -1.18150376e+00],\n",
       "       [-9.00681170e-01,  1.72626612e+00, -1.22754100e+00,\n",
       "        -1.31297673e+00],\n",
       "       [-1.50652052e+00,  3.37848329e-01, -1.34127240e+00,\n",
       "        -1.31297673e+00],\n",
       "       [-6.58345429e-01,  1.49486315e+00, -1.28440670e+00,\n",
       "        -1.31297673e+00],\n",
       "       [-1.02184904e+00,  5.69251294e-01, -1.34127240e+00,\n",
       "        -1.31297673e+00],\n",
       "       [ 1.40150837e+00,  3.37848329e-01,  5.35295827e-01,\n",
       "         2.64698913e-01],\n",
       "       [ 6.74501145e-01,  3.37848329e-01,  4.21564419e-01,\n",
       "         3.96171883e-01],\n",
       "       [ 1.28034050e+00,  1.06445364e-01,  6.49027235e-01,\n",
       "         3.96171883e-01],\n",
       "       [-4.16009689e-01, -1.74477836e+00,  1.37235899e-01,\n",
       "         1.33225943e-01],\n",
       "       [ 7.95669016e-01, -5.87763531e-01,  4.78430123e-01,\n",
       "         3.96171883e-01],\n",
       "       [-1.73673948e-01, -5.87763531e-01,  4.21564419e-01,\n",
       "         1.33225943e-01],\n",
       "       [ 5.53333275e-01,  5.69251294e-01,  5.35295827e-01,\n",
       "         5.27644853e-01],\n",
       "       [-1.14301691e+00, -1.51337539e+00, -2.60824029e-01,\n",
       "        -2.61192967e-01],\n",
       "       [ 9.16836886e-01, -3.56360566e-01,  4.78430123e-01,\n",
       "         1.33225943e-01],\n",
       "       [-7.79513300e-01, -8.19166497e-01,  8.03701950e-02,\n",
       "         2.64698913e-01],\n",
       "       [-1.02184904e+00, -2.43898725e+00, -1.47092621e-01,\n",
       "        -2.61192967e-01],\n",
       "       [ 6.86617933e-02, -1.24957601e-01,  2.50967307e-01,\n",
       "         3.96171883e-01],\n",
       "       [ 1.89829664e-01, -1.97618132e+00,  1.37235899e-01,\n",
       "        -2.61192967e-01],\n",
       "       [ 3.10997534e-01, -3.56360566e-01,  5.35295827e-01,\n",
       "         2.64698913e-01],\n",
       "       [-2.94841818e-01, -3.56360566e-01, -9.02269170e-02,\n",
       "         1.33225943e-01],\n",
       "       [ 1.03800476e+00,  1.06445364e-01,  3.64698715e-01,\n",
       "         2.64698913e-01],\n",
       "       [-2.94841818e-01, -1.24957601e-01,  4.21564419e-01,\n",
       "         3.96171883e-01],\n",
       "       [-5.25060772e-02, -8.19166497e-01,  1.94101603e-01,\n",
       "        -2.61192967e-01],\n",
       "       [ 4.32165405e-01, -1.97618132e+00,  4.21564419e-01,\n",
       "         3.96171883e-01],\n",
       "       [-2.94841818e-01, -1.28197243e+00,  8.03701950e-02,\n",
       "        -1.29719997e-01],\n",
       "       [ 6.86617933e-02,  3.37848329e-01,  5.92161531e-01,\n",
       "         7.90590793e-01],\n",
       "       [ 3.10997534e-01, -5.87763531e-01,  1.37235899e-01,\n",
       "         1.33225943e-01],\n",
       "       [ 5.53333275e-01, -1.28197243e+00,  6.49027235e-01,\n",
       "         3.96171883e-01],\n",
       "       [ 3.10997534e-01, -5.87763531e-01,  5.35295827e-01,\n",
       "         1.75297293e-03],\n",
       "       [ 6.74501145e-01, -3.56360566e-01,  3.07833011e-01,\n",
       "         1.33225943e-01],\n",
       "       [ 9.16836886e-01, -1.24957601e-01,  3.64698715e-01,\n",
       "         2.64698913e-01],\n",
       "       [ 1.15917263e+00, -5.87763531e-01,  5.92161531e-01,\n",
       "         2.64698913e-01],\n",
       "       [ 1.03800476e+00, -1.24957601e-01,  7.05892939e-01,\n",
       "         6.59117823e-01],\n",
       "       [ 1.89829664e-01, -3.56360566e-01,  4.21564419e-01,\n",
       "         3.96171883e-01],\n",
       "       [-1.73673948e-01, -1.05056946e+00, -1.47092621e-01,\n",
       "        -2.61192967e-01],\n",
       "       [-4.16009689e-01, -1.51337539e+00,  2.35044910e-02,\n",
       "        -1.29719997e-01],\n",
       "       [-4.16009689e-01, -1.51337539e+00, -3.33612130e-02,\n",
       "        -2.61192967e-01],\n",
       "       [-5.25060772e-02, -8.19166497e-01,  8.03701950e-02,\n",
       "         1.75297293e-03],\n",
       "       [ 1.89829664e-01, -8.19166497e-01,  7.62758643e-01,\n",
       "         5.27644853e-01],\n",
       "       [-5.37177559e-01, -1.24957601e-01,  4.21564419e-01,\n",
       "         3.96171883e-01],\n",
       "       [ 1.89829664e-01,  8.00654259e-01,  4.21564419e-01,\n",
       "         5.27644853e-01],\n",
       "       [ 1.03800476e+00,  1.06445364e-01,  5.35295827e-01,\n",
       "         3.96171883e-01],\n",
       "       [ 5.53333275e-01, -1.74477836e+00,  3.64698715e-01,\n",
       "         1.33225943e-01],\n",
       "       [-2.94841818e-01, -1.24957601e-01,  1.94101603e-01,\n",
       "         1.33225943e-01],\n",
       "       [-4.16009689e-01, -1.28197243e+00,  1.37235899e-01,\n",
       "         1.33225943e-01],\n",
       "       [-4.16009689e-01, -1.05056946e+00,  3.64698715e-01,\n",
       "         1.75297293e-03],\n",
       "       [ 3.10997534e-01, -1.24957601e-01,  4.78430123e-01,\n",
       "         2.64698913e-01],\n",
       "       [-5.25060772e-02, -1.05056946e+00,  1.37235899e-01,\n",
       "         1.75297293e-03],\n",
       "       [-1.02184904e+00, -1.74477836e+00, -2.60824029e-01,\n",
       "        -2.61192967e-01],\n",
       "       [-2.94841818e-01, -8.19166497e-01,  2.50967307e-01,\n",
       "         1.33225943e-01],\n",
       "       [-1.73673948e-01, -1.24957601e-01,  2.50967307e-01,\n",
       "         1.75297293e-03],\n",
       "       [-1.73673948e-01, -3.56360566e-01,  2.50967307e-01,\n",
       "         1.33225943e-01],\n",
       "       [ 4.32165405e-01, -3.56360566e-01,  3.07833011e-01,\n",
       "         1.33225943e-01],\n",
       "       [-9.00681170e-01, -1.28197243e+00, -4.31421141e-01,\n",
       "        -1.29719997e-01],\n",
       "       [-1.73673948e-01, -5.87763531e-01,  1.94101603e-01,\n",
       "         1.33225943e-01],\n",
       "       [ 5.53333275e-01,  5.69251294e-01,  1.27454998e+00,\n",
       "         1.71090158e+00],\n",
       "       [-5.25060772e-02, -8.19166497e-01,  7.62758643e-01,\n",
       "         9.22063763e-01],\n",
       "       [ 1.52267624e+00, -1.24957601e-01,  1.21768427e+00,\n",
       "         1.18500970e+00],\n",
       "       [ 5.53333275e-01, -3.56360566e-01,  1.04708716e+00,\n",
       "         7.90590793e-01],\n",
       "       [ 7.95669016e-01, -1.24957601e-01,  1.16081857e+00,\n",
       "         1.31648267e+00],\n",
       "       [ 2.12851559e+00, -1.24957601e-01,  1.61574420e+00,\n",
       "         1.18500970e+00],\n",
       "       [-1.14301691e+00, -1.28197243e+00,  4.21564419e-01,\n",
       "         6.59117823e-01],\n",
       "       [ 1.76501198e+00, -3.56360566e-01,  1.44514709e+00,\n",
       "         7.90590793e-01],\n",
       "       [ 1.03800476e+00, -1.28197243e+00,  1.16081857e+00,\n",
       "         7.90590793e-01],\n",
       "       [ 1.64384411e+00,  1.26346019e+00,  1.33141568e+00,\n",
       "         1.71090158e+00],\n",
       "       [ 7.95669016e-01,  3.37848329e-01,  7.62758643e-01,\n",
       "         1.05353673e+00],\n",
       "       [ 6.74501145e-01, -8.19166497e-01,  8.76490051e-01,\n",
       "         9.22063763e-01],\n",
       "       [ 1.15917263e+00, -1.24957601e-01,  9.90221459e-01,\n",
       "         1.18500970e+00],\n",
       "       [-1.73673948e-01, -1.28197243e+00,  7.05892939e-01,\n",
       "         1.05353673e+00],\n",
       "       [-5.25060772e-02, -5.87763531e-01,  7.62758643e-01,\n",
       "         1.57942861e+00],\n",
       "       [ 6.74501145e-01,  3.37848329e-01,  8.76490051e-01,\n",
       "         1.44795564e+00],\n",
       "       [ 7.95669016e-01, -1.24957601e-01,  9.90221459e-01,\n",
       "         7.90590793e-01],\n",
       "       [ 2.24968346e+00,  1.72626612e+00,  1.67260991e+00,\n",
       "         1.31648267e+00],\n",
       "       [ 2.24968346e+00, -1.05056946e+00,  1.78634131e+00,\n",
       "         1.44795564e+00],\n",
       "       [ 1.89829664e-01, -1.97618132e+00,  7.05892939e-01,\n",
       "         3.96171883e-01],\n",
       "       [ 1.28034050e+00,  3.37848329e-01,  1.10395287e+00,\n",
       "         1.44795564e+00],\n",
       "       [-2.94841818e-01, -5.87763531e-01,  6.49027235e-01,\n",
       "         1.05353673e+00],\n",
       "       [ 2.24968346e+00, -5.87763531e-01,  1.67260991e+00,\n",
       "         1.05353673e+00],\n",
       "       [ 5.53333275e-01, -8.19166497e-01,  6.49027235e-01,\n",
       "         7.90590793e-01],\n",
       "       [ 1.03800476e+00,  5.69251294e-01,  1.10395287e+00,\n",
       "         1.18500970e+00],\n",
       "       [ 1.64384411e+00,  3.37848329e-01,  1.27454998e+00,\n",
       "         7.90590793e-01],\n",
       "       [ 4.32165405e-01, -5.87763531e-01,  5.92161531e-01,\n",
       "         7.90590793e-01],\n",
       "       [ 3.10997534e-01, -1.24957601e-01,  6.49027235e-01,\n",
       "         7.90590793e-01],\n",
       "       [ 6.74501145e-01, -5.87763531e-01,  1.04708716e+00,\n",
       "         1.18500970e+00],\n",
       "       [ 1.64384411e+00, -1.24957601e-01,  1.16081857e+00,\n",
       "         5.27644853e-01],\n",
       "       [ 1.88617985e+00, -5.87763531e-01,  1.33141568e+00,\n",
       "         9.22063763e-01],\n",
       "       [ 2.49201920e+00,  1.72626612e+00,  1.50201279e+00,\n",
       "         1.05353673e+00],\n",
       "       [ 6.74501145e-01, -5.87763531e-01,  1.04708716e+00,\n",
       "         1.31648267e+00],\n",
       "       [ 5.53333275e-01, -5.87763531e-01,  7.62758643e-01,\n",
       "         3.96171883e-01],\n",
       "       [ 3.10997534e-01, -1.05056946e+00,  1.04708716e+00,\n",
       "         2.64698913e-01],\n",
       "       [ 2.24968346e+00, -1.24957601e-01,  1.33141568e+00,\n",
       "         1.44795564e+00],\n",
       "       [ 5.53333275e-01,  8.00654259e-01,  1.04708716e+00,\n",
       "         1.57942861e+00],\n",
       "       [ 6.74501145e-01,  1.06445364e-01,  9.90221459e-01,\n",
       "         7.90590793e-01],\n",
       "       [ 1.89829664e-01, -1.24957601e-01,  5.92161531e-01,\n",
       "         7.90590793e-01],\n",
       "       [ 1.28034050e+00,  1.06445364e-01,  9.33355755e-01,\n",
       "         1.18500970e+00],\n",
       "       [ 1.03800476e+00,  1.06445364e-01,  1.04708716e+00,\n",
       "         1.57942861e+00],\n",
       "       [ 1.28034050e+00,  1.06445364e-01,  7.62758643e-01,\n",
       "         1.44795564e+00],\n",
       "       [-5.25060772e-02, -8.19166497e-01,  7.62758643e-01,\n",
       "         9.22063763e-01],\n",
       "       [ 1.15917263e+00,  3.37848329e-01,  1.21768427e+00,\n",
       "         1.44795564e+00],\n",
       "       [ 1.03800476e+00,  5.69251294e-01,  1.10395287e+00,\n",
       "         1.71090158e+00],\n",
       "       [ 1.03800476e+00, -1.24957601e-01,  8.19624347e-01,\n",
       "         1.44795564e+00],\n",
       "       [ 5.53333275e-01, -1.28197243e+00,  7.05892939e-01,\n",
       "         9.22063763e-01],\n",
       "       [ 7.95669016e-01, -1.24957601e-01,  8.19624347e-01,\n",
       "         1.05353673e+00],\n",
       "       [ 4.32165405e-01,  8.00654259e-01,  9.33355755e-01,\n",
       "         1.44795564e+00],\n",
       "       [ 6.86617933e-02, -1.24957601e-01,  7.62758643e-01,\n",
       "         7.90590793e-01]])"
      ]
     },
     "execution_count": 84,
     "metadata": {},
     "output_type": "execute_result"
    }
   ],
   "source": [
    "# 모듈을 로딩하고 객체 초기화\n",
    "from sklearn.preprocessing import StandardScaler\n",
    "scaler = StandardScaler()\n",
    "\n",
    "#데이터를 표준화하고 out_scaled numpy 행렬에 저장\n",
    "out_scaled = scaler.fit_transform(df[cols])\n",
    "\n",
    "out_scaled\n"
   ]
  },
  {
   "cell_type": "markdown",
   "id": "bc59084e",
   "metadata": {},
   "source": [
    "### 카테고리 데이터 처리\n",
    "- 원-핫(one-hot)인코딩 : 순서적, 명목적 변수에 모두 사용\n",
    "- 레이블 인코딩 : 카테고리 타깃 변수를 간단한 단일 단계로 유용한 것으로 바꿔줌 "
   ]
  },
  {
   "cell_type": "code",
   "execution_count": 85,
   "id": "b1635790",
   "metadata": {},
   "outputs": [
    {
     "data": {
      "text/html": [
       "<div>\n",
       "<style scoped>\n",
       "    .dataframe tbody tr th:only-of-type {\n",
       "        vertical-align: middle;\n",
       "    }\n",
       "\n",
       "    .dataframe tbody tr th {\n",
       "        vertical-align: top;\n",
       "    }\n",
       "\n",
       "    .dataframe thead th {\n",
       "        text-align: right;\n",
       "    }\n",
       "</style>\n",
       "<table border=\"1\" class=\"dataframe\">\n",
       "  <thead>\n",
       "    <tr style=\"text-align: right;\">\n",
       "      <th></th>\n",
       "      <th>Age</th>\n",
       "      <th>Height</th>\n",
       "      <th>Weight</th>\n",
       "      <th>Training Hours/week</th>\n",
       "      <th>Jersey Color</th>\n",
       "      <th>Jersey Size</th>\n",
       "      <th>Shoe Size</th>\n",
       "      <th>Long Jump</th>\n",
       "    </tr>\n",
       "    <tr>\n",
       "      <th>Person</th>\n",
       "      <th></th>\n",
       "      <th></th>\n",
       "      <th></th>\n",
       "      <th></th>\n",
       "      <th></th>\n",
       "      <th></th>\n",
       "      <th></th>\n",
       "      <th></th>\n",
       "    </tr>\n",
       "  </thead>\n",
       "  <tbody>\n",
       "    <tr>\n",
       "      <th>Thomas</th>\n",
       "      <td>12</td>\n",
       "      <td>57.5</td>\n",
       "      <td>73.4</td>\n",
       "      <td>6.5</td>\n",
       "      <td>blue</td>\n",
       "      <td>small</td>\n",
       "      <td>7</td>\n",
       "      <td>19.2</td>\n",
       "    </tr>\n",
       "    <tr>\n",
       "      <th>Jane</th>\n",
       "      <td>13</td>\n",
       "      <td>65.5</td>\n",
       "      <td>85.3</td>\n",
       "      <td>8.9</td>\n",
       "      <td>green</td>\n",
       "      <td>medium</td>\n",
       "      <td>10</td>\n",
       "      <td>25.1</td>\n",
       "    </tr>\n",
       "    <tr>\n",
       "      <th>Vaughn</th>\n",
       "      <td>17</td>\n",
       "      <td>71.9</td>\n",
       "      <td>125.9</td>\n",
       "      <td>1.1</td>\n",
       "      <td>green</td>\n",
       "      <td>large</td>\n",
       "      <td>12</td>\n",
       "      <td>14.3</td>\n",
       "    </tr>\n",
       "    <tr>\n",
       "      <th>Vera</th>\n",
       "      <td>14</td>\n",
       "      <td>65.3</td>\n",
       "      <td>100.5</td>\n",
       "      <td>7.9</td>\n",
       "      <td>red</td>\n",
       "      <td>medium</td>\n",
       "      <td>9</td>\n",
       "      <td>18.3</td>\n",
       "    </tr>\n",
       "    <tr>\n",
       "      <th>Vincent</th>\n",
       "      <td>18</td>\n",
       "      <td>70.1</td>\n",
       "      <td>110.7</td>\n",
       "      <td>10.5</td>\n",
       "      <td>blue</td>\n",
       "      <td>large</td>\n",
       "      <td>12</td>\n",
       "      <td>21.1</td>\n",
       "    </tr>\n",
       "    <tr>\n",
       "      <th>Lei-Ann</th>\n",
       "      <td>12</td>\n",
       "      <td>52.3</td>\n",
       "      <td>70.4</td>\n",
       "      <td>0.5</td>\n",
       "      <td>blue</td>\n",
       "      <td>small</td>\n",
       "      <td>7</td>\n",
       "      <td>10.6</td>\n",
       "    </tr>\n",
       "  </tbody>\n",
       "</table>\n",
       "</div>"
      ],
      "text/plain": [
       "         Age  Height  Weight  Training Hours/week Jersey Color Jersey Size  \\\n",
       "Person                                                                       \n",
       "Thomas    12    57.5    73.4                  6.5         blue       small   \n",
       "Jane      13    65.5    85.3                  8.9        green      medium   \n",
       "Vaughn    17    71.9   125.9                  1.1        green       large   \n",
       "Vera      14    65.3   100.5                  7.9          red      medium   \n",
       "Vincent   18    70.1   110.7                 10.5         blue       large   \n",
       "Lei-Ann   12    52.3    70.4                  0.5         blue       small   \n",
       "\n",
       "         Shoe Size  Long Jump  \n",
       "Person                         \n",
       "Thomas           7       19.2  \n",
       "Jane            10       25.1  \n",
       "Vaughn          12       14.3  \n",
       "Vera             9       18.3  \n",
       "Vincent         12       21.1  \n",
       "Lei-Ann          7       10.6  "
      ]
     },
     "execution_count": 85,
     "metadata": {},
     "output_type": "execute_result"
    }
   ],
   "source": [
    "#long_jump 데이터 불러오기\n",
    "df=pd.read_csv(\"./data/long_jump.csv\")\n",
    "df.set_index('Person',inplace=True)\n",
    "df"
   ]
  },
  {
   "cell_type": "markdown",
   "id": "12db8568",
   "metadata": {},
   "source": [
    "#### 순서적 인코딩"
   ]
  },
  {
   "cell_type": "code",
   "execution_count": 86,
   "id": "13ed3541",
   "metadata": {},
   "outputs": [
    {
     "data": {
      "text/html": [
       "<div>\n",
       "<style scoped>\n",
       "    .dataframe tbody tr th:only-of-type {\n",
       "        vertical-align: middle;\n",
       "    }\n",
       "\n",
       "    .dataframe tbody tr th {\n",
       "        vertical-align: top;\n",
       "    }\n",
       "\n",
       "    .dataframe thead th {\n",
       "        text-align: right;\n",
       "    }\n",
       "</style>\n",
       "<table border=\"1\" class=\"dataframe\">\n",
       "  <thead>\n",
       "    <tr style=\"text-align: right;\">\n",
       "      <th></th>\n",
       "      <th>Jersey Size</th>\n",
       "      <th>Shoe Size</th>\n",
       "    </tr>\n",
       "    <tr>\n",
       "      <th>Person</th>\n",
       "      <th></th>\n",
       "      <th></th>\n",
       "    </tr>\n",
       "  </thead>\n",
       "  <tbody>\n",
       "    <tr>\n",
       "      <th>Thomas</th>\n",
       "      <td>small</td>\n",
       "      <td>7</td>\n",
       "    </tr>\n",
       "    <tr>\n",
       "      <th>Jane</th>\n",
       "      <td>medium</td>\n",
       "      <td>10</td>\n",
       "    </tr>\n",
       "    <tr>\n",
       "      <th>Vaughn</th>\n",
       "      <td>large</td>\n",
       "      <td>12</td>\n",
       "    </tr>\n",
       "    <tr>\n",
       "      <th>Vera</th>\n",
       "      <td>medium</td>\n",
       "      <td>9</td>\n",
       "    </tr>\n",
       "    <tr>\n",
       "      <th>Vincent</th>\n",
       "      <td>large</td>\n",
       "      <td>12</td>\n",
       "    </tr>\n",
       "    <tr>\n",
       "      <th>Lei-Ann</th>\n",
       "      <td>small</td>\n",
       "      <td>7</td>\n",
       "    </tr>\n",
       "  </tbody>\n",
       "</table>\n",
       "</div>"
      ],
      "text/plain": [
       "        Jersey Size  Shoe Size\n",
       "Person                        \n",
       "Thomas        small          7\n",
       "Jane         medium         10\n",
       "Vaughn        large         12\n",
       "Vera         medium          9\n",
       "Vincent       large         12\n",
       "Lei-Ann       small          7"
      ]
     },
     "execution_count": 86,
     "metadata": {},
     "output_type": "execute_result"
    }
   ],
   "source": [
    "#데이터에서 운동복 사이즈와 신발 사이즈 카테고리 변수를 알아보기\n",
    "#카테고리 열에 필터 적용\n",
    "cats = ['Jersey Size', 'Shoe Size']\n",
    "df[cats]"
   ]
  },
  {
   "cell_type": "markdown",
   "id": "1640d86b",
   "metadata": {},
   "source": [
    " - Scikit-learn의 OrdinalEncoder 모듈을 순서적으로 열을 인코딩하기 위해 사용\n",
    " 1. 항상 적절한 모듈을 임포트하고 인코더 객체를 예시하는 것부터 시작\n",
    " 1. 데이터에 객체를 적합시키고, 한번에 .fit_transform()기법으로 변환\n",
    " 1. 새로운 카테고리와 행렬을 .categroies_out_enc로 출력"
   ]
  },
  {
   "cell_type": "code",
   "execution_count": 87,
   "id": "32530c7d",
   "metadata": {},
   "outputs": [
    {
     "name": "stdout",
     "output_type": "stream",
     "text": [
      "identified categories : \n",
      "[array(['large', 'medium', 'small'], dtype=object), array([ 7,  9, 10, 12])]\n",
      "encoded data : \n",
      "[[2. 0.]\n",
      " [1. 2.]\n",
      " [0. 3.]\n",
      " [1. 1.]\n",
      " [0. 3.]\n",
      " [2. 0.]]\n"
     ]
    }
   ],
   "source": [
    "# 모듈을 임포트하고 enc 객체 초기화\n",
    "from sklearn.preprocessing import OrdinalEncoder\n",
    "enc = OrdinalEncoder()\n",
    "\n",
    "#한번에 객체를 적합 및 변환하고 카테고리 출력\n",
    "out_enc = enc.fit_transform(df[cats])\n",
    "print('identified categories : ')\n",
    "print(enc.categories_)\n",
    "print('encoded data : ')\n",
    "print(out_enc)"
   ]
  },
  {
   "cell_type": "code",
   "execution_count": 88,
   "id": "78550020",
   "metadata": {},
   "outputs": [
    {
     "name": "stdout",
     "output_type": "stream",
     "text": [
      "         Age  Height  Weight  Training Hours/week Jersey Color  Jersey Size  \\\n",
      "Person                                                                        \n",
      "Thomas    12    57.5    73.4                  6.5         blue          2.0   \n",
      "Jane      13    65.5    85.3                  8.9        green          1.0   \n",
      "Vaughn    17    71.9   125.9                  1.1        green          0.0   \n",
      "Vera      14    65.3   100.5                  7.9          red          1.0   \n",
      "Vincent   18    70.1   110.7                 10.5         blue          0.0   \n",
      "\n",
      "         Shoe Size  Long Jump  \n",
      "Person                         \n",
      "Thomas         0.0       19.2  \n",
      "Jane           2.0       25.1  \n",
      "Vaughn         3.0       14.3  \n",
      "Vera           1.0       18.3  \n",
      "Vincent        3.0       21.1  \n"
     ]
    }
   ],
   "source": [
    "#원래 데이터프레임에 카테고리 특징 다시 쓰기\n",
    "df[cats] = out_enc\n",
    "print(df.head())"
   ]
  },
  {
   "cell_type": "markdown",
   "id": "30267ba3",
   "metadata": {},
   "source": [
    "#### 원핫 인코딩\n",
    "- 바이너리 기법을 이용해서 기계의 상태를 기록하는 전자공학의 한 방법에서 출발\n",
    "- 기계의 가능한 상태를 하나의 플래그로 정의, 현재의 상태와 맞는 플래그를 1로 하고 나머지 플래그를 0으로 하는 것\n",
    "- 플래그는 원래 특징 열의 각 가능한 값에 대해 정의되고, 레코드가 그 상태에 있으면 1, 나머지 플래그는 0이 됨\n",
    "- 단점 : 소스에서 가용하지 않은 새로운 상태를 외삽(extrapolate : 추정) 하는 것이 불가능\n",
    "- 하는 법\n",
    "    1. 모듈을 임포트, encoder 객체를 생성\n",
    "    1. cats 리스트 내의 변수들을 적합, 변환\n",
    "    1. scikit-learn의 .get_feature_next() 기법을 사용해서 새로운 열 이름을 불러오고 점검을 위해 출력"
   ]
  },
  {
   "cell_type": "code",
   "execution_count": 89,
   "id": "9c301c6d",
   "metadata": {},
   "outputs": [
    {
     "name": "stdout",
     "output_type": "stream",
     "text": [
      "['Jersey Size_0.0', 'Jersey Size_1.0', 'Jersey Size_2.0', 'Shoe Size_0.0', 'Shoe Size_1.0', 'Shoe Size_2.0', 'Shoe Size_3.0']\n"
     ]
    }
   ],
   "source": [
    "# 모듈을 임포트하고 enc 객체를 초기화\n",
    "from sklearn.preprocessing import OneHotEncoder\n",
    "enc = OneHotEncoder(sparse=False)\n",
    "\n",
    "#한번에 객체를 적합 및 변환하고 카테고리를 출력\n",
    "out_enc = enc.fit_transform(df[cats])\n",
    "new_cols = enc.get_feature_names(cats).tolist()\n",
    "print(new_cols)"
   ]
  },
  {
   "cell_type": "code",
   "execution_count": 90,
   "id": "0407eab2",
   "metadata": {},
   "outputs": [
    {
     "data": {
      "text/html": [
       "<div>\n",
       "<style scoped>\n",
       "    .dataframe tbody tr th:only-of-type {\n",
       "        vertical-align: middle;\n",
       "    }\n",
       "\n",
       "    .dataframe tbody tr th {\n",
       "        vertical-align: top;\n",
       "    }\n",
       "\n",
       "    .dataframe thead th {\n",
       "        text-align: right;\n",
       "    }\n",
       "</style>\n",
       "<table border=\"1\" class=\"dataframe\">\n",
       "  <thead>\n",
       "    <tr style=\"text-align: right;\">\n",
       "      <th></th>\n",
       "      <th>Jersey Size_0.0</th>\n",
       "      <th>Jersey Size_1.0</th>\n",
       "      <th>Jersey Size_2.0</th>\n",
       "      <th>Shoe Size_0.0</th>\n",
       "      <th>Shoe Size_1.0</th>\n",
       "      <th>Shoe Size_2.0</th>\n",
       "      <th>Shoe Size_3.0</th>\n",
       "    </tr>\n",
       "    <tr>\n",
       "      <th>Person</th>\n",
       "      <th></th>\n",
       "      <th></th>\n",
       "      <th></th>\n",
       "      <th></th>\n",
       "      <th></th>\n",
       "      <th></th>\n",
       "      <th></th>\n",
       "    </tr>\n",
       "  </thead>\n",
       "  <tbody>\n",
       "    <tr>\n",
       "      <th>Thomas</th>\n",
       "      <td>0.0</td>\n",
       "      <td>0.0</td>\n",
       "      <td>1.0</td>\n",
       "      <td>1.0</td>\n",
       "      <td>0.0</td>\n",
       "      <td>0.0</td>\n",
       "      <td>0.0</td>\n",
       "    </tr>\n",
       "    <tr>\n",
       "      <th>Jane</th>\n",
       "      <td>0.0</td>\n",
       "      <td>1.0</td>\n",
       "      <td>0.0</td>\n",
       "      <td>0.0</td>\n",
       "      <td>0.0</td>\n",
       "      <td>1.0</td>\n",
       "      <td>0.0</td>\n",
       "    </tr>\n",
       "    <tr>\n",
       "      <th>Vaughn</th>\n",
       "      <td>1.0</td>\n",
       "      <td>0.0</td>\n",
       "      <td>0.0</td>\n",
       "      <td>0.0</td>\n",
       "      <td>0.0</td>\n",
       "      <td>0.0</td>\n",
       "      <td>1.0</td>\n",
       "    </tr>\n",
       "    <tr>\n",
       "      <th>Vera</th>\n",
       "      <td>0.0</td>\n",
       "      <td>1.0</td>\n",
       "      <td>0.0</td>\n",
       "      <td>0.0</td>\n",
       "      <td>1.0</td>\n",
       "      <td>0.0</td>\n",
       "      <td>0.0</td>\n",
       "    </tr>\n",
       "    <tr>\n",
       "      <th>Vincent</th>\n",
       "      <td>1.0</td>\n",
       "      <td>0.0</td>\n",
       "      <td>0.0</td>\n",
       "      <td>0.0</td>\n",
       "      <td>0.0</td>\n",
       "      <td>0.0</td>\n",
       "      <td>1.0</td>\n",
       "    </tr>\n",
       "    <tr>\n",
       "      <th>Lei-Ann</th>\n",
       "      <td>0.0</td>\n",
       "      <td>0.0</td>\n",
       "      <td>1.0</td>\n",
       "      <td>1.0</td>\n",
       "      <td>0.0</td>\n",
       "      <td>0.0</td>\n",
       "      <td>0.0</td>\n",
       "    </tr>\n",
       "  </tbody>\n",
       "</table>\n",
       "</div>"
      ],
      "text/plain": [
       "         Jersey Size_0.0  Jersey Size_1.0  Jersey Size_2.0  Shoe Size_0.0  \\\n",
       "Person                                                                      \n",
       "Thomas               0.0              0.0              1.0            1.0   \n",
       "Jane                 0.0              1.0              0.0            0.0   \n",
       "Vaughn               1.0              0.0              0.0            0.0   \n",
       "Vera                 0.0              1.0              0.0            0.0   \n",
       "Vincent              1.0              0.0              0.0            0.0   \n",
       "Lei-Ann              0.0              0.0              1.0            1.0   \n",
       "\n",
       "         Shoe Size_1.0  Shoe Size_2.0  Shoe Size_3.0  \n",
       "Person                                                \n",
       "Thomas             0.0            0.0            0.0  \n",
       "Jane               0.0            1.0            0.0  \n",
       "Vaughn             0.0            0.0            1.0  \n",
       "Vera               1.0            0.0            0.0  \n",
       "Vincent            0.0            0.0            1.0  \n",
       "Lei-Ann            0.0            0.0            0.0  "
      ]
     },
     "execution_count": 90,
     "metadata": {},
     "output_type": "execute_result"
    }
   ],
   "source": [
    "#원래 데이터와 연결된 임시 데이터 프레임 df_enc 생성\n",
    "df_enc=pd.DataFrame(data = out_enc, columns = new_cols)\n",
    "df_enc.index = df.index\n",
    "df_enc\n"
   ]
  },
  {
   "cell_type": "code",
   "execution_count": 91,
   "id": "690ef729",
   "metadata": {},
   "outputs": [
    {
     "name": "stdout",
     "output_type": "stream",
     "text": [
      "Index(['Age', 'Height', 'Weight', 'Training Hours/week', 'Jersey Color',\n",
      "       'Long Jump', 'Jersey Size_0.0', 'Jersey Size_1.0', 'Jersey Size_2.0',\n",
      "       'Shoe Size_0.0', 'Shoe Size_1.0', 'Shoe Size_2.0', 'Shoe Size_3.0'],\n",
      "      dtype='object')\n"
     ]
    }
   ],
   "source": [
    "#원래 열을 삭제하고 새로운 열과 연결시킴\n",
    "df.drop(cats, axis=1, inplace=True)\n",
    "df=pd.concat([df,df_enc],axis = 1)\n",
    "print(df.columns)"
   ]
  },
  {
   "cell_type": "markdown",
   "id": "be7236c7",
   "metadata": {},
   "source": [
    "#### 레이블 인코딩\n",
    "- 인코딩이 필요한 열은 레이블 혹은 결과 열 -> Scikit-learn : LableEncoder 모듈을 제공\n",
    "- 정수, 문자열 입력에서 작동"
   ]
  },
  {
   "cell_type": "code",
   "execution_count": 92,
   "id": "0354def1",
   "metadata": {},
   "outputs": [
    {
     "name": "stdout",
     "output_type": "stream",
     "text": [
      "[0 1 3 1 2 1 3]\n",
      "[0 0 2 2 1 1 1 2]\n"
     ]
    }
   ],
   "source": [
    "# 모듈을 임포트 하고 enc 객체 초기화\n",
    "from sklearn import preprocessing\n",
    "enc = preprocessing.LabelEncoder()\n",
    "\n",
    "#정수 레이블로 적합시키고 변환\n",
    "out_enc = enc.fit_transform([1,2,5,2,4,2,5])\n",
    "print(out_enc)\n",
    "\n",
    "#문자열 레이블로 적합시키고 변환\n",
    "out_enc = enc.fit_transform([\"a\",\"a\",\"c\",\"c\",\"b\",\"b\",\"b\",\"c\"])\n",
    "print(out_enc)"
   ]
  },
  {
   "cell_type": "markdown",
   "id": "ac12981d",
   "metadata": {},
   "source": [
    "## 고차원 데이터\n",
    "- 차원성의 저주 \n",
    "    - 특징 공간의 통계적으로 유의미한 표현에서 차원 수가 증가함에 따라 사례(행)의 수는 기하급수적으로 증가한다는 것\n",
    "    - 차원 수의 증가에 맞춰서 사례의 수를 증가시키지 못하는 것은 데이터가 희박해지게 만들고 실제를 반영하기 어렵게 함\n",
    "    - 새로운 차원이 추가될때마다 다섯개 이상의 사례 필요, 10:1의 비율이 가장 좋음\n",
    "    \n",
    "## 차원 감소\n",
    "차원성의 저주 때문에 특징 열의 숫자감소는 작업을 하기 전에 이뤄져야 할 수도 있음\n",
    "- 선택 : 가장 좋은 특징을 선택하고 나머지를 제거\n",
    "- 변환 : 원래 특징들의 결합을 요약하는 새로운 특징을 생성\n",
    "\n",
    "### 특징 선택\n",
    "- 필터링 : 중요한 척도를 정의하고 중요한 것만 필터링\n",
    "- 래퍼(wrapper) \n",
    "    - 다운 스트림 작업을 훙내 내고 가장 좋은 결과를 선택하기 전에 다양한 조합을 샘플링 \n",
    "    - 부분집합으로 여러개의 미니 모델을 생성하고 가장 좋은 결과를 보여주는 것을 점수화\n",
    "#### 특징 필터링\n",
    "- 목표가 중요성을 점수화하는 방법을 찾는 것이라면 가장 중요한 것만 보유하기\n",
    "- 중요성을 점수화하는 방법은 여러가지가 있는데 가장 흔한 방법은 분산 한계점을 정의하고 상관계수에 의해 정렬하는 것\n",
    "\n",
    "1. 분산한계점\n",
    "- 한계점을 설정하고 그 값 아래에 있는 특징들을 제거하는 방법\n",
    "- scikit-learn의 VarianceTreshold 객체는 적합할 때 각 특징의 분산을 저장하므로, 이를 활용하기 위해 사전 적합을 해보는 것을 추천\n",
    "- 사전적합을 할 때는 모든 특징이 사전적합 후에도 남아있게 하기 위해 한계점을 설정하지 않음\n",
    "    1. 한계점 없이 사전 적합\n",
    "    1. 분산의 분석\n",
    "    1. 한계점 선택\n",
    "    1. 선택된 한계점을 가지고 재적합\n"
   ]
  },
  {
   "cell_type": "code",
   "execution_count": 93,
   "id": "905a4b97",
   "metadata": {},
   "outputs": [],
   "source": [
    "# iris 데이터 불러오기\n",
    "df = pd.read_csv(\"./data/iris.csv\")\n",
    "df.index.name = \"record\"\n",
    "\n",
    "#스케일링할 열 정의\n",
    "cols = ['sepal length in cm',\n",
    "        'sepal width in cm',\n",
    "        'petal length in cm',\n",
    "        'petal width in cm']\n"
   ]
  },
  {
   "cell_type": "markdown",
   "id": "9679c2ab",
   "metadata": {},
   "source": [
    "VarianceTreshold 객체를 생성, 한계점 없이 사전 적합한 후 분석"
   ]
  },
  {
   "cell_type": "code",
   "execution_count": 95,
   "id": "f37737ae",
   "metadata": {},
   "outputs": [
    {
     "name": "stdout",
     "output_type": "stream",
     "text": [
      "[0.68112222 0.18675067 3.09242489 0.57853156]\n"
     ]
    }
   ],
   "source": [
    "# 한계점 없이 scikit-learn 객체 초기화\n",
    "from sklearn.feature_selection import VarianceThreshold\n",
    "selector = VarianceThreshold()\n",
    "\n",
    "#df[cols] 사전 적합\n",
    "selector.fit(df[cols])\n",
    "\n",
    "#선택 이전에 특징 분산 점검\n",
    "print(selector.variances_)"
   ]
  },
  {
   "cell_type": "markdown",
   "id": "83e52044",
   "metadata": {},
   "source": [
    "편의상 0.6을 한계치로 선택하고 재적합함. 결과에서 0부터 2까지의 열이 선택되는 것을 기대함"
   ]
  },
  {
   "cell_type": "code",
   "execution_count": 97,
   "id": "aad7b1d0",
   "metadata": {},
   "outputs": [
    {
     "name": "stdout",
     "output_type": "stream",
     "text": [
      "[ True False  True False]\n"
     ]
    }
   ],
   "source": [
    "# 선택 객체의 한계치 설정\n",
    "selector.set_params(threshold=0.6)\n",
    "\n",
    "#재적합 및 변환 후 out_sel에 결과 저장\n",
    "out_sel = selector.fit_transform(df[cols])\n",
    "\n",
    "#선택된 특징 점검\n",
    "print(selector.get_support())"
   ]
  },
  {
   "cell_type": "markdown",
   "id": "fe31742e",
   "metadata": {},
   "source": []
  }
 ],
 "metadata": {
  "kernelspec": {
   "display_name": "Python 3",
   "language": "python",
   "name": "python3"
  },
  "language_info": {
   "codemirror_mode": {
    "name": "ipython",
    "version": 3
   },
   "file_extension": ".py",
   "mimetype": "text/x-python",
   "name": "python",
   "nbconvert_exporter": "python",
   "pygments_lexer": "ipython3",
   "version": "3.8.8"
  }
 },
 "nbformat": 4,
 "nbformat_minor": 5
}
